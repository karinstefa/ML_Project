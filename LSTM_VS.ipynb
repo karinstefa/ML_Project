{
  "cells": [
    {
      "cell_type": "code",
      "execution_count": 2,
      "metadata": {
        "id": "j1vJcuKpYpDk"
      },
      "outputs": [],
      "source": [
        "import numpy as np\n",
        "import pandas as pd\n",
        "\n",
        "import os\n",
        "\n",
        "from matplotlib import pyplot as plt\n",
        "from matplotlib.pyplot import specgram\n",
        "\n",
        "import librosa\n",
        "import librosa.display\n",
        "import IPython.display as ipd\n",
        "from IPython.display import Audio\n",
        "\n",
        "from sklearn.svm import SVC\n",
        "from sklearn import preprocessing\n",
        "from sklearn.model_selection import train_test_split, cross_validate\n",
        "from sklearn.model_selection import KFold\n",
        "from sklearn.metrics import classification_report\n",
        "from sklearn.metrics import confusion_matrix,accuracy_score, precision_score, recall_score, f1_score\n",
        "from sklearn.preprocessing import StandardScaler\n",
        "import seaborn as sns\n",
        "from sklearn.model_selection import GridSearchCV\n",
        "\n",
        "from tensorflow import keras\n",
        "from keras import layers\n",
        "from keras.layers import LSTM, Dense, Dropout"
      ]
    },
    {
      "cell_type": "code",
      "execution_count": null,
      "metadata": {
        "id": "gO35d08RaT_x"
      },
      "outputs": [],
      "source": [
        "from google.colab import drive\n",
        "drive.mount('/content/drive')\n",
        "%cd /content/drive/MyDrive/Colab Notebooks/Aprendizaje de maquinas/Proyecto"
      ]
    },
    {
      "cell_type": "code",
      "execution_count": null,
      "metadata": {
        "id": "hvPvghQUaJ9f"
      },
      "outputs": [],
      "source": [
        "paths=[]\n",
        "labels=[]\n",
        "\n",
        "for dirname, _, filenames in os.walk('DataSets/Emotions/'):\n",
        "    for filename in filenames:\n",
        "        paths.append(os.path.join(dirname, filename))\n",
        "        label = filename[::-1].split('.')[0][::-1]\n",
        "        name = dirname[::].split('/')[2]\n",
        "        name_complete = name+'.'+label\n",
        "        labels.append(name_complete.lower())"
      ]
    },
    {
      "cell_type": "code",
      "execution_count": null,
      "metadata": {
        "id": "Dq1VZCBQbNSu"
      },
      "outputs": [],
      "source": [
        "data = pd.DataFrame({'speech':paths,'label':labels})\n",
        "data.sample(10)"
      ]
    },
    {
      "cell_type": "code",
      "execution_count": null,
      "metadata": {
        "id": "avBbRgqKcP1B"
      },
      "outputs": [],
      "source": [
        "label_encoder = preprocessing.LabelEncoder()\n",
        "data['label'] = data['label'].apply(lambda x: str(x).split('.wav')[0])\n",
        "data['label']= label_encoder.fit_transform(data['label'])"
      ]
    },
    {
      "cell_type": "code",
      "execution_count": null,
      "metadata": {
        "id": "sX2BXmRgdLjq"
      },
      "outputs": [],
      "source": [
        "data.head()"
      ]
    },
    {
      "cell_type": "code",
      "execution_count": null,
      "metadata": {
        "id": "ewHLJsHafPrJ"
      },
      "outputs": [],
      "source": [
        "data['label'].unique().tolist()"
      ]
    },
    {
      "cell_type": "code",
      "execution_count": null,
      "metadata": {
        "id": "fArOiru7_TxQ"
      },
      "outputs": [],
      "source": [
        "def padding(array, xx, yy):\n",
        "    \"\"\"\n",
        "    :param array: numpy array\n",
        "    :param xx: desired height\n",
        "    :param yy: desirex width\n",
        "    :return: padded array\n",
        "    \"\"\"\n",
        "\n",
        "    h = array.shape[0]\n",
        "    w = array.shape[1]\n",
        "\n",
        "    a = (xx - h) // 2\n",
        "    aa = xx - a - h\n",
        "\n",
        "    b = (yy - w) // 2\n",
        "    bb = yy - b - w\n",
        "\n",
        "    return np.pad(array, pad_width=((a, aa), (b, bb)), mode='constant')"
      ]
    },
    {
      "cell_type": "code",
      "execution_count": null,
      "metadata": {
        "id": "sjWUt2F6VsFl"
      },
      "outputs": [],
      "source": [
        "df_in=data['speech']"
      ]
    },
    {
      "cell_type": "code",
      "execution_count": null,
      "metadata": {
        "id": "QJdlmBxY4eeB"
      },
      "outputs": [],
      "source": [
        "def get_features(df_in):\n",
        "  features=[]\n",
        "  for index in range(0,len(df_in)):\n",
        "      filename = df_in[index]\n",
        "      y, sr = librosa.load(filename,duration=3,offset=0.5)\n",
        "      #datal = np.array([padding(librosa.feature.mfcc(y=y,sr=sr,n_mfcc=40),1,100)])\n",
        "      hop_length = 512 #the default spacing between frames\n",
        "      n_fft = 12816 #number of samples\n",
        "      datal = np.array([padding(librosa.feature.mfcc(y,n_fft=n_fft,hop_length=hop_length,n_mfcc=128),128,400)])\n",
        "      features.append(datal)\n",
        "      output=np.concatenate(features,axis=0)\n",
        "  return(np.array(output))\n"
      ]
    },
    {
      "cell_type": "code",
      "execution_count": null,
      "metadata": {
        "id": "fgXD8eIPMnkh"
      },
      "outputs": [],
      "source": [
        "X=get_features(df_in)"
      ]
    },
    {
      "cell_type": "code",
      "execution_count": null,
      "metadata": {
        "id": "n6GfcMTwWgiF"
      },
      "outputs": [],
      "source": [
        "X.shape"
      ]
    },
    {
      "cell_type": "code",
      "execution_count": null,
      "metadata": {
        "id": "gkkhQecQa4ZA"
      },
      "outputs": [],
      "source": [
        "X = np.array((X-np.min(X))/(np.max(X)-np.min(X)))\n",
        "X = X/np.std(X)"
      ]
    },
    {
      "cell_type": "code",
      "execution_count": null,
      "metadata": {
        "id": "f69A-IQmh4Nj"
      },
      "outputs": [],
      "source": [
        "y = np.asarray(data['label'])"
      ]
    },
    {
      "cell_type": "code",
      "execution_count": null,
      "metadata": {
        "id": "w-xExQHGh7dW"
      },
      "outputs": [],
      "source": [
        "X"
      ]
    },
    {
      "cell_type": "code",
      "execution_count": null,
      "metadata": {
        "id": "GkRLc3g_kJbB"
      },
      "outputs": [],
      "source": [
        "print(f'Dimensiones mfcc:{X.shape}')\n",
        "print(f'Dimensiones label:{y.shape}')"
      ]
    },
    {
      "cell_type": "code",
      "execution_count": null,
      "metadata": {
        "id": "IEfEo3XJlQZF"
      },
      "outputs": [],
      "source": [
        "X_train, X_test, y_train, y_test = train_test_split(X, y, test_size=0.10, random_state=123)\n",
        "X_train, X_val, y_train, y_val = train_test_split(X_train, y_train, test_size=0.20, random_state=123)"
      ]
    },
    {
      "cell_type": "code",
      "execution_count": null,
      "metadata": {
        "id": "4_W_vbLyskj1"
      },
      "outputs": [],
      "source": [
        "input_shape=(128,400)\n",
        "model = keras.Sequential()\n",
        "model.add(LSTM(128,input_shape=input_shape))\n",
        "model.add(Dropout(0.2))\n",
        "model.add(Dense(64, activation='relu'))\n",
        "model.add(Dense(32, activation='relu'))\n",
        "model.add(Dropout(0.4))\n",
        "model.add(Dense(16, activation='relu'))\n",
        "model.add(Dropout(0.4))\n",
        "model.add(Dense(7, activation='softmax'))\n",
        "model.summary()"
      ]
    },
    {
      "cell_type": "code",
      "execution_count": null,
      "metadata": {
        "id": "w_BN5yv3srta"
      },
      "outputs": [],
      "source": [
        "model.compile(optimizer='adam',loss='SparseCategoricalCrossentropy',metrics=['acc'])"
      ]
    },
    {
      "cell_type": "code",
      "execution_count": null,
      "metadata": {
        "id": "RLbyvo_ls4VZ"
      },
      "outputs": [],
      "source": [
        "history = model.fit(X_train, y_train, epochs=50, batch_size=72,validation_data=(X_val, y_val))"
      ]
    },
    {
      "cell_type": "code",
      "execution_count": null,
      "metadata": {
        "id": "PxYQ7DyVu9IH"
      },
      "outputs": [],
      "source": [
        "y_pred_test=model.predict(X_test)"
      ]
    },
    {
      "cell_type": "code",
      "execution_count": null,
      "metadata": {
        "id": "Nm54I9lbuilG"
      },
      "outputs": [],
      "source": [
        "history_dict=history.history\n",
        "loss_values=history_dict['loss']\n",
        "acc_values=history_dict['acc']\n",
        "val_loss_values = history_dict['val_loss']\n",
        "val_acc_values=history_dict['val_acc']\n",
        "epochs=range(1,51)\n",
        "fig,(ax1,ax2)=plt.subplots(1,2,figsize=(15,5))\n",
        "ax1.plot(epochs,loss_values,'co',label='Training Loss')\n",
        "ax1.plot(epochs,val_loss_values,'m', label='Validation Loss')\n",
        "ax1.set_title('Training and validation loss')\n",
        "ax1.set_xlabel('Epochs')\n",
        "ax1.set_ylabel('Loss')\n",
        "ax1.legend()\n",
        "ax2.plot(epochs,acc_values,'co', label='Training accuracy')\n",
        "ax2.plot(epochs,val_acc_values,'m',label='Validation accuracy')\n",
        "ax2.set_title('Training and validation accuracy')\n",
        "ax2.set_xlabel('Epochs')\n",
        "ax2.set_ylabel('Accuracy')\n",
        "ax2.legend()"
      ]
    },
    {
      "cell_type": "code",
      "execution_count": null,
      "metadata": {
        "id": "N8FCeIqbn2w-"
      },
      "outputs": [],
      "source": [
        "print(accuracy_score(y_true=y_test,y_pred=np.argmax(y_pred_test),axis=1))\n",
        "print(classification_report(y_test,y_pred_test)) \n",
        "matrizr = confusion_matrix(y_test,y_pred_test)\n",
        "plt.figure(figsize=(10,8))\n",
        "sns.heatmap(matrizr, annot=True, fmt=\"d\");"
      ]
    }
  ],
  "metadata": {
    "accelerator": "GPU",
    "colab": {
      "provenance": []
    },
    "gpuClass": "standard",
    "kernelspec": {
      "display_name": "Python 3",
      "name": "python3"
    },
    "language_info": {
      "name": "python"
    }
  },
  "nbformat": 4,
  "nbformat_minor": 0
}