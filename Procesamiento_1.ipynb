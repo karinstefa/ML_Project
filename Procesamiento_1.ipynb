{
  "cells": [
    {
      "cell_type": "markdown",
      "metadata": {
        "id": "5UkVdamRB42W"
      },
      "source": [
        "# Procesamiento de datos"
      ]
    },
    {
      "cell_type": "code",
      "execution_count": 1,
      "metadata": {
        "id": "SiqpPQ2IB42a"
      },
      "outputs": [],
      "source": [
        "import os\n",
        "\n",
        "import librosa\n",
        "from librosa import display\n",
        "\n",
        "import shutil\n",
        "import numpy as np\n",
        "import pandas as pd\n",
        "import seaborn as sns\n",
        "import IPython\n",
        "import IPython.display as ipd\n",
        "import matplotlib\n",
        "import matplotlib.pyplot as plt\n",
        "from tqdm import tqdm_notebook"
      ]
    },
    {
      "cell_type": "markdown",
      "metadata": {
        "id": "LOLCP8RnB42b"
      },
      "source": [
        "### variables de entorno"
      ]
    },
    {
      "cell_type": "code",
      "source": [
        "from google.colab import drive\n",
        "drive.mount('/content/drive')"
      ],
      "metadata": {
        "colab": {
          "base_uri": "https://localhost:8080/"
        },
        "id": "71f8amJhCG-l",
        "outputId": "214845c9-dd6d-48af-aab4-fa9687ed2277"
      },
      "execution_count": 2,
      "outputs": [
        {
          "output_type": "stream",
          "name": "stdout",
          "text": [
            "Mounted at /content/drive\n"
          ]
        }
      ]
    },
    {
      "cell_type": "code",
      "execution_count": 9,
      "metadata": {
        "id": "MHGYgdBeB42c"
      },
      "outputs": [],
      "source": [
        "DATASET = '/content/drive/MyDrive/ML Proyecto/DataSets/Emotions'\n",
        "LABELS = ['Angry', 'Happy', 'Sad', 'Fearful', 'Disgusted', 'Neutral', 'Suprised']\n",
        "SAMPLE_RATE = 22050"
      ]
    },
    {
      "cell_type": "markdown",
      "metadata": {
        "id": "p_W8kE1dB42c"
      },
      "source": [
        "### funciones de procesamiento"
      ]
    },
    {
      "cell_type": "code",
      "execution_count": 10,
      "metadata": {
        "id": "odu98L1pB42c"
      },
      "outputs": [],
      "source": [
        "def remove_silence(signal, threshold=0.005):\n",
        "    \"\"\"\n",
        "    Remove silence at the beginning and at the end of the signal\n",
        "    \"\"\"\n",
        "    for i in range(len(signal)):\n",
        "        if np.abs(signal[i]) > threshold:\n",
        "            break\n",
        "    for j in range(len(signal)-1, 0, -1):\n",
        "        if np.abs(signal[j]) > threshold:\n",
        "            break\n",
        "    return signal[i:j]"
      ]
    },
    {
      "cell_type": "code",
      "execution_count": 11,
      "metadata": {
        "colab": {
          "base_uri": "https://localhost:8080/"
        },
        "id": "wSJSfG8tB42d",
        "outputId": "4eba8587-abdf-4e0f-c144-7475084c2c39"
      },
      "outputs": [
        {
          "output_type": "stream",
          "name": "stdout",
          "text": [
            "44100\n"
          ]
        }
      ],
      "source": [
        "resize = int(SAMPLE_RATE*2)\n",
        "print(resize)\n",
        "def signal_resize(signal, length=resize):\n",
        "    \"\"\"\n",
        "    Cut the signal to the given length, or pad it with zeros if it is shorter\n",
        "    \"\"\"\n",
        "    if len(signal) > length:\n",
        "        return signal[:length]\n",
        "    else:\n",
        "        return np.pad(signal, (0, max(0, length - len(signal))), \"constant\")"
      ]
    },
    {
      "cell_type": "markdown",
      "metadata": {
        "id": "2Dqh33aaB42e"
      },
      "source": [
        "### Read the dataset"
      ]
    },
    {
      "cell_type": "code",
      "execution_count": 35,
      "metadata": {
        "colab": {
          "base_uri": "https://localhost:8080/"
        },
        "id": "Fffq9FqGB42e",
        "outputId": "09564546-f17d-4664-c731-ff1532c7f51e"
      },
      "outputs": [
        {
          "output_type": "stream",
          "name": "stdout",
          "text": [
            "/content/drive/MyDrive/ML Proyecto/DataSets/Emotions\n",
            "/content/drive/MyDrive/ML Proyecto/DataSets/Emotions/Fearful\n",
            "/content/drive/MyDrive/ML Proyecto/DataSets/Emotions/Angry\n",
            "/content/drive/MyDrive/ML Proyecto/DataSets/Emotions/Sad\n",
            "/content/drive/MyDrive/ML Proyecto/DataSets/Emotions/Disgusted\n",
            "/content/drive/MyDrive/ML Proyecto/DataSets/Emotions/Happy\n",
            "/content/drive/MyDrive/ML Proyecto/DataSets/Emotions/Neutral\n",
            "/content/drive/MyDrive/ML Proyecto/DataSets/Emotions/Suprised\n"
          ]
        }
      ],
      "source": [
        "emotions = []\n",
        "\n",
        "for dirname, dirs, filenames in os.walk(DATASET):\n",
        "    print(dirname)\n",
        "    for filename in filenames[:10]:\n",
        "        path = os.path.join(dirname, filename)\n",
        "        title = dirname.split('/')[-1]\n",
        "        category = LABELS.index(title)\n",
        "\n",
        "        signal, sample_rate = librosa.load(path, sr=SAMPLE_RATE)\n",
        "        signal = remove_silence(signal)\n",
        "        mean = np.mean(signal)\n",
        "        std = np.std(signal) # Standard deviation\n",
        "\n",
        "        signal = signal_resize(signal)\n",
        "        time = len(signal) / sample_rate\n",
        "        zero_crossings = sum(librosa.zero_crossings(signal, pad=False))\n",
        "        zero_crossing_rate = librosa.feature.zero_crossing_rate(signal)[0]\n",
        "        stft_mag, stft_phase = librosa.magphase(librosa.stft(signal, n_fft=512)) # Short-time Fourier transform, n_fft = 512 for 22050 Hz\n",
        "        #print(stft_mag.shape)\n",
        "        freqs = librosa.fft_frequencies(sr=sample_rate)\n",
        "        max_stft_freq = freqs[int(np.argmax(stft_mag)/stft_mag.shape[1])]\n",
        "        min_stft_freq = freqs[int(np.argmin(stft_mag)/stft_mag.shape[1])]\n",
        "        stft_phase = np.angle(stft_phase)\n",
        "        rms = librosa.feature.rms(S=stft_mag, frame_length=512)[0] # Root mean square - Energy # FRAME LENG = 512 \n",
        "        mfcc = librosa.feature.mfcc(S=stft_mag, sr=sample_rate) # Mel-frequency cepstral coefficients\n",
        "\n",
        "        emotions.append((\n",
        "            path,\n",
        "            title,\n",
        "            category, \n",
        "            signal, \n",
        "            mean, \n",
        "            std, \n",
        "            sample_rate, \n",
        "            time, \n",
        "            zero_crossings, \n",
        "            zero_crossing_rate, \n",
        "            stft_mag, \n",
        "            stft_phase, \n",
        "            max_stft_freq,\n",
        "            min_stft_freq,\n",
        "            rms,\n",
        "            mfcc,\n",
        "        ))"
      ]
    },
    {
      "cell_type": "code",
      "execution_count": 36,
      "metadata": {
        "id": "0CuysEAsB42f"
      },
      "outputs": [],
      "source": [
        "columns = [\n",
        "    'path',\n",
        "    'title',\n",
        "    'category', \n",
        "    'signal', \n",
        "    'mean',\n",
        "    'std',\n",
        "    'sample_rate', \n",
        "    'time', \n",
        "    'zero_crossings', \n",
        "    'zero_crossing_rate',\n",
        "    'stft_mag',\n",
        "    'stft_phase',\n",
        "    'max_stft_freq',\n",
        "    'min_stft_freq',\n",
        "    'rms',\n",
        "    'mfcc',\n",
        "]"
      ]
    },
    {
      "cell_type": "code",
      "execution_count": 37,
      "metadata": {
        "colab": {
          "base_uri": "https://localhost:8080/",
          "height": 565
        },
        "id": "bm8lp2_nB42g",
        "outputId": "53e0525a-acdb-43c7-f1cf-ebb2f942fed3"
      },
      "outputs": [
        {
          "output_type": "execute_result",
          "data": {
            "text/plain": [
              "                                                path    title  category  \\\n",
              "0  /content/drive/MyDrive/ML Proyecto/DataSets/Em...  Fearful         3   \n",
              "1  /content/drive/MyDrive/ML Proyecto/DataSets/Em...  Fearful         3   \n",
              "2  /content/drive/MyDrive/ML Proyecto/DataSets/Em...  Fearful         3   \n",
              "3  /content/drive/MyDrive/ML Proyecto/DataSets/Em...  Fearful         3   \n",
              "4  /content/drive/MyDrive/ML Proyecto/DataSets/Em...  Fearful         3   \n",
              "\n",
              "                                              signal      mean       std  \\\n",
              "0  [0.005596205, 0.0069596493, 0.007269218, 0.007...  0.000007  0.079327   \n",
              "1  [0.005551721, 0.005384678, 0.0054556574, 0.006... -0.000017  0.025047   \n",
              "2  [-0.005505172, -0.005133936, -0.005757561, -0.... -0.000037  0.050874   \n",
              "3  [0.0051507554, 0.005338836, 0.005147377, 0.005... -0.000048  0.015225   \n",
              "4  [-0.00566154, -0.0056041353, -0.005215304, -0.... -0.000061  0.061859   \n",
              "\n",
              "   sample_rate  time  zero_crossings  \\\n",
              "0        22050   2.0            2828   \n",
              "1        22050   2.0            2129   \n",
              "2        22050   2.0            2611   \n",
              "3        22050   2.0            1935   \n",
              "4        22050   2.0            4324   \n",
              "\n",
              "                                  zero_crossing_rate  \\\n",
              "0  [0.01904296875, 0.02783203125, 0.03125, 0.0317...   \n",
              "1  [0.015625, 0.02197265625, 0.029296875, 0.04052...   \n",
              "2  [0.0107421875, 0.02197265625, 0.03076171875, 0...   \n",
              "3  [0.01123046875, 0.0234375, 0.0283203125, 0.030...   \n",
              "4  [0.02001953125, 0.03369140625, 0.04443359375, ...   \n",
              "\n",
              "                                            stft_mag  \\\n",
              "0  [[0.26757145, 0.312826, 0.22310682, 0.32838503...   \n",
              "1  [[1.2640425, 1.0543555, 0.48817363, 0.08353723...   \n",
              "2  [[0.098904565, 0.3204608, 0.650316, 0.6148809,...   \n",
              "3  [[0.3696451, 0.22000863, 0.017495703, 0.125324...   \n",
              "4  [[1.2423474, 0.7442686, 0.0713801, 0.19598104,...   \n",
              "\n",
              "                                          stft_phase  max_stft_freq  \\\n",
              "0  [[0.0, 0.0, 0.0, 0.0, 0.0, 0.0, -3.1415925, -3...     204.565430   \n",
              "1  [[0.0, 0.0, 0.0, 0.0, -3.1415925, -3.1415925, ...     118.432617   \n",
              "2  [[0.0, 0.0, 0.0, 0.0, 0.0, -3.1415925, -3.1415...     150.732422   \n",
              "3  [[-3.1415925, -3.1415925, -3.1415925, -3.14159...      43.066406   \n",
              "4  [[-3.1415925, -3.1415925, 0.0, 0.0, 0.0, 0.0, ...      96.899414   \n",
              "\n",
              "   min_stft_freq                                                rms  \\\n",
              "0    2756.250000  [0.0030986406318568595, 0.002580976869864057, ...   \n",
              "1    2756.250000  [0.0047171375140426484, 0.003851546763079716, ...   \n",
              "2    2756.250000  [0.00359094080980228, 0.003680727614284965, 0....   \n",
              "3    2756.250000  [0.0038691303950421957, 0.003722841487925813, ...   \n",
              "4    2164.086914  [0.003407469657889043, 0.0033695092412063636, ...   \n",
              "\n",
              "                                                mfcc  \n",
              "0  [[0.30927026, 0.30343258, 0.27390563, 0.336039...  \n",
              "1  [[0.40311715, 0.34826288, 0.318527, 0.27663544...  \n",
              "2  [[0.26380718, 0.30610663, 0.31794986, 0.353068...  \n",
              "3  [[0.31272984, 0.32106757, 0.28703526, 0.282338...  \n",
              "4  [[0.29737628, 0.3025842, 0.26858005, 0.2346263...  "
            ],
            "text/html": [
              "\n",
              "  <div id=\"df-8de2c107-0b82-4f47-8689-4cdd1d76cc30\">\n",
              "    <div class=\"colab-df-container\">\n",
              "      <div>\n",
              "<style scoped>\n",
              "    .dataframe tbody tr th:only-of-type {\n",
              "        vertical-align: middle;\n",
              "    }\n",
              "\n",
              "    .dataframe tbody tr th {\n",
              "        vertical-align: top;\n",
              "    }\n",
              "\n",
              "    .dataframe thead th {\n",
              "        text-align: right;\n",
              "    }\n",
              "</style>\n",
              "<table border=\"1\" class=\"dataframe\">\n",
              "  <thead>\n",
              "    <tr style=\"text-align: right;\">\n",
              "      <th></th>\n",
              "      <th>path</th>\n",
              "      <th>title</th>\n",
              "      <th>category</th>\n",
              "      <th>signal</th>\n",
              "      <th>mean</th>\n",
              "      <th>std</th>\n",
              "      <th>sample_rate</th>\n",
              "      <th>time</th>\n",
              "      <th>zero_crossings</th>\n",
              "      <th>zero_crossing_rate</th>\n",
              "      <th>stft_mag</th>\n",
              "      <th>stft_phase</th>\n",
              "      <th>max_stft_freq</th>\n",
              "      <th>min_stft_freq</th>\n",
              "      <th>rms</th>\n",
              "      <th>mfcc</th>\n",
              "    </tr>\n",
              "  </thead>\n",
              "  <tbody>\n",
              "    <tr>\n",
              "      <th>0</th>\n",
              "      <td>/content/drive/MyDrive/ML Proyecto/DataSets/Em...</td>\n",
              "      <td>Fearful</td>\n",
              "      <td>3</td>\n",
              "      <td>[0.005596205, 0.0069596493, 0.007269218, 0.007...</td>\n",
              "      <td>0.000007</td>\n",
              "      <td>0.079327</td>\n",
              "      <td>22050</td>\n",
              "      <td>2.0</td>\n",
              "      <td>2828</td>\n",
              "      <td>[0.01904296875, 0.02783203125, 0.03125, 0.0317...</td>\n",
              "      <td>[[0.26757145, 0.312826, 0.22310682, 0.32838503...</td>\n",
              "      <td>[[0.0, 0.0, 0.0, 0.0, 0.0, 0.0, -3.1415925, -3...</td>\n",
              "      <td>204.565430</td>\n",
              "      <td>2756.250000</td>\n",
              "      <td>[0.0030986406318568595, 0.002580976869864057, ...</td>\n",
              "      <td>[[0.30927026, 0.30343258, 0.27390563, 0.336039...</td>\n",
              "    </tr>\n",
              "    <tr>\n",
              "      <th>1</th>\n",
              "      <td>/content/drive/MyDrive/ML Proyecto/DataSets/Em...</td>\n",
              "      <td>Fearful</td>\n",
              "      <td>3</td>\n",
              "      <td>[0.005551721, 0.005384678, 0.0054556574, 0.006...</td>\n",
              "      <td>-0.000017</td>\n",
              "      <td>0.025047</td>\n",
              "      <td>22050</td>\n",
              "      <td>2.0</td>\n",
              "      <td>2129</td>\n",
              "      <td>[0.015625, 0.02197265625, 0.029296875, 0.04052...</td>\n",
              "      <td>[[1.2640425, 1.0543555, 0.48817363, 0.08353723...</td>\n",
              "      <td>[[0.0, 0.0, 0.0, 0.0, -3.1415925, -3.1415925, ...</td>\n",
              "      <td>118.432617</td>\n",
              "      <td>2756.250000</td>\n",
              "      <td>[0.0047171375140426484, 0.003851546763079716, ...</td>\n",
              "      <td>[[0.40311715, 0.34826288, 0.318527, 0.27663544...</td>\n",
              "    </tr>\n",
              "    <tr>\n",
              "      <th>2</th>\n",
              "      <td>/content/drive/MyDrive/ML Proyecto/DataSets/Em...</td>\n",
              "      <td>Fearful</td>\n",
              "      <td>3</td>\n",
              "      <td>[-0.005505172, -0.005133936, -0.005757561, -0....</td>\n",
              "      <td>-0.000037</td>\n",
              "      <td>0.050874</td>\n",
              "      <td>22050</td>\n",
              "      <td>2.0</td>\n",
              "      <td>2611</td>\n",
              "      <td>[0.0107421875, 0.02197265625, 0.03076171875, 0...</td>\n",
              "      <td>[[0.098904565, 0.3204608, 0.650316, 0.6148809,...</td>\n",
              "      <td>[[0.0, 0.0, 0.0, 0.0, 0.0, -3.1415925, -3.1415...</td>\n",
              "      <td>150.732422</td>\n",
              "      <td>2756.250000</td>\n",
              "      <td>[0.00359094080980228, 0.003680727614284965, 0....</td>\n",
              "      <td>[[0.26380718, 0.30610663, 0.31794986, 0.353068...</td>\n",
              "    </tr>\n",
              "    <tr>\n",
              "      <th>3</th>\n",
              "      <td>/content/drive/MyDrive/ML Proyecto/DataSets/Em...</td>\n",
              "      <td>Fearful</td>\n",
              "      <td>3</td>\n",
              "      <td>[0.0051507554, 0.005338836, 0.005147377, 0.005...</td>\n",
              "      <td>-0.000048</td>\n",
              "      <td>0.015225</td>\n",
              "      <td>22050</td>\n",
              "      <td>2.0</td>\n",
              "      <td>1935</td>\n",
              "      <td>[0.01123046875, 0.0234375, 0.0283203125, 0.030...</td>\n",
              "      <td>[[0.3696451, 0.22000863, 0.017495703, 0.125324...</td>\n",
              "      <td>[[-3.1415925, -3.1415925, -3.1415925, -3.14159...</td>\n",
              "      <td>43.066406</td>\n",
              "      <td>2756.250000</td>\n",
              "      <td>[0.0038691303950421957, 0.003722841487925813, ...</td>\n",
              "      <td>[[0.31272984, 0.32106757, 0.28703526, 0.282338...</td>\n",
              "    </tr>\n",
              "    <tr>\n",
              "      <th>4</th>\n",
              "      <td>/content/drive/MyDrive/ML Proyecto/DataSets/Em...</td>\n",
              "      <td>Fearful</td>\n",
              "      <td>3</td>\n",
              "      <td>[-0.00566154, -0.0056041353, -0.005215304, -0....</td>\n",
              "      <td>-0.000061</td>\n",
              "      <td>0.061859</td>\n",
              "      <td>22050</td>\n",
              "      <td>2.0</td>\n",
              "      <td>4324</td>\n",
              "      <td>[0.02001953125, 0.03369140625, 0.04443359375, ...</td>\n",
              "      <td>[[1.2423474, 0.7442686, 0.0713801, 0.19598104,...</td>\n",
              "      <td>[[-3.1415925, -3.1415925, 0.0, 0.0, 0.0, 0.0, ...</td>\n",
              "      <td>96.899414</td>\n",
              "      <td>2164.086914</td>\n",
              "      <td>[0.003407469657889043, 0.0033695092412063636, ...</td>\n",
              "      <td>[[0.29737628, 0.3025842, 0.26858005, 0.2346263...</td>\n",
              "    </tr>\n",
              "  </tbody>\n",
              "</table>\n",
              "</div>\n",
              "      <button class=\"colab-df-convert\" onclick=\"convertToInteractive('df-8de2c107-0b82-4f47-8689-4cdd1d76cc30')\"\n",
              "              title=\"Convert this dataframe to an interactive table.\"\n",
              "              style=\"display:none;\">\n",
              "        \n",
              "  <svg xmlns=\"http://www.w3.org/2000/svg\" height=\"24px\"viewBox=\"0 0 24 24\"\n",
              "       width=\"24px\">\n",
              "    <path d=\"M0 0h24v24H0V0z\" fill=\"none\"/>\n",
              "    <path d=\"M18.56 5.44l.94 2.06.94-2.06 2.06-.94-2.06-.94-.94-2.06-.94 2.06-2.06.94zm-11 1L8.5 8.5l.94-2.06 2.06-.94-2.06-.94L8.5 2.5l-.94 2.06-2.06.94zm10 10l.94 2.06.94-2.06 2.06-.94-2.06-.94-.94-2.06-.94 2.06-2.06.94z\"/><path d=\"M17.41 7.96l-1.37-1.37c-.4-.4-.92-.59-1.43-.59-.52 0-1.04.2-1.43.59L10.3 9.45l-7.72 7.72c-.78.78-.78 2.05 0 2.83L4 21.41c.39.39.9.59 1.41.59.51 0 1.02-.2 1.41-.59l7.78-7.78 2.81-2.81c.8-.78.8-2.07 0-2.86zM5.41 20L4 18.59l7.72-7.72 1.47 1.35L5.41 20z\"/>\n",
              "  </svg>\n",
              "      </button>\n",
              "      \n",
              "  <style>\n",
              "    .colab-df-container {\n",
              "      display:flex;\n",
              "      flex-wrap:wrap;\n",
              "      gap: 12px;\n",
              "    }\n",
              "\n",
              "    .colab-df-convert {\n",
              "      background-color: #E8F0FE;\n",
              "      border: none;\n",
              "      border-radius: 50%;\n",
              "      cursor: pointer;\n",
              "      display: none;\n",
              "      fill: #1967D2;\n",
              "      height: 32px;\n",
              "      padding: 0 0 0 0;\n",
              "      width: 32px;\n",
              "    }\n",
              "\n",
              "    .colab-df-convert:hover {\n",
              "      background-color: #E2EBFA;\n",
              "      box-shadow: 0px 1px 2px rgba(60, 64, 67, 0.3), 0px 1px 3px 1px rgba(60, 64, 67, 0.15);\n",
              "      fill: #174EA6;\n",
              "    }\n",
              "\n",
              "    [theme=dark] .colab-df-convert {\n",
              "      background-color: #3B4455;\n",
              "      fill: #D2E3FC;\n",
              "    }\n",
              "\n",
              "    [theme=dark] .colab-df-convert:hover {\n",
              "      background-color: #434B5C;\n",
              "      box-shadow: 0px 1px 3px 1px rgba(0, 0, 0, 0.15);\n",
              "      filter: drop-shadow(0px 1px 2px rgba(0, 0, 0, 0.3));\n",
              "      fill: #FFFFFF;\n",
              "    }\n",
              "  </style>\n",
              "\n",
              "      <script>\n",
              "        const buttonEl =\n",
              "          document.querySelector('#df-8de2c107-0b82-4f47-8689-4cdd1d76cc30 button.colab-df-convert');\n",
              "        buttonEl.style.display =\n",
              "          google.colab.kernel.accessAllowed ? 'block' : 'none';\n",
              "\n",
              "        async function convertToInteractive(key) {\n",
              "          const element = document.querySelector('#df-8de2c107-0b82-4f47-8689-4cdd1d76cc30');\n",
              "          const dataTable =\n",
              "            await google.colab.kernel.invokeFunction('convertToInteractive',\n",
              "                                                     [key], {});\n",
              "          if (!dataTable) return;\n",
              "\n",
              "          const docLinkHtml = 'Like what you see? Visit the ' +\n",
              "            '<a target=\"_blank\" href=https://colab.research.google.com/notebooks/data_table.ipynb>data table notebook</a>'\n",
              "            + ' to learn more about interactive tables.';\n",
              "          element.innerHTML = '';\n",
              "          dataTable['output_type'] = 'display_data';\n",
              "          await google.colab.output.renderOutput(dataTable, element);\n",
              "          const docLink = document.createElement('div');\n",
              "          docLink.innerHTML = docLinkHtml;\n",
              "          element.appendChild(docLink);\n",
              "        }\n",
              "      </script>\n",
              "    </div>\n",
              "  </div>\n",
              "  "
            ]
          },
          "metadata": {},
          "execution_count": 37
        }
      ],
      "source": [
        "emotions_frame = pd.DataFrame(emotions, columns=columns)\n",
        "emotions_frame.head()"
      ]
    },
    {
      "cell_type": "code",
      "source": [
        "emotions_frame['mfcc'].apply(lambda x : x.flatten())"
      ],
      "metadata": {
        "colab": {
          "base_uri": "https://localhost:8080/"
        },
        "id": "G7fH-41OT_oa",
        "outputId": "175f241c-dce3-4733-8b0e-c35c8c79d2fd"
      },
      "execution_count": 38,
      "outputs": [
        {
          "output_type": "execute_result",
          "data": {
            "text/plain": [
              "0     [0.30927026, 0.30343258, 0.27390563, 0.3360392...\n",
              "1     [0.40311715, 0.34826288, 0.318527, 0.27663544,...\n",
              "2     [0.26380718, 0.30610663, 0.31794986, 0.3530688...\n",
              "3     [0.31272984, 0.32106757, 0.28703526, 0.2823386...\n",
              "4     [0.29737628, 0.3025842, 0.26858005, 0.23462635...\n",
              "                            ...                        \n",
              "65    [0.36032087, 0.37025434, 0.3599007, 0.31283215...\n",
              "66    [0.5168242, 0.6716985, 0.7243828, 0.85607237, ...\n",
              "67    [0.5557998, 0.49031964, 0.34778598, 0.41059193...\n",
              "68    [0.32468295, 0.38264218, 0.39511186, 0.3871868...\n",
              "69    [0.4064712, 0.42737195, 0.4663248, 0.46622393,...\n",
              "Name: mfcc, Length: 70, dtype: object"
            ]
          },
          "metadata": {},
          "execution_count": 38
        }
      ]
    },
    {
      "cell_type": "code",
      "source": [
        "import keras\n",
        "import numpy as np\n",
        "import matplotlib.pyplot as plt\n",
        "import tensorflow as tf\n",
        "from keras.preprocessing import sequence\n",
        "from keras.models import Sequential\n",
        "from keras.layers import Dense, Embedding\n",
        "from keras.utils import to_categorical\n",
        "from keras.layers import Input, Flatten, Dropout, Activation\n",
        "from keras.layers import Conv1D, MaxPooling1D\n",
        "from keras.models import Model\n",
        "from keras.callbacks import ModelCheckpoint"
      ],
      "metadata": {
        "id": "YlNwZp6PB_X_"
      },
      "execution_count": 39,
      "outputs": []
    },
    {
      "cell_type": "code",
      "source": [
        "lst = []\n",
        "for _, row in emotions_frame.iterrows():\n",
        "  lst.append((row['mfcc'].flatten(), row['category']))"
      ],
      "metadata": {
        "id": "pS0AZ6kiYWqV"
      },
      "execution_count": 79,
      "outputs": []
    },
    {
      "cell_type": "code",
      "source": [
        "# Creating X and y: zip makes a list of all the first elements, and a list of all the second elements.\n",
        "X, y = zip(*lst)\n",
        "import numpy as np\n",
        "X = np.asarray(X)\n",
        "y = np.asarray(y)\n",
        "\n",
        "from sklearn.model_selection import train_test_split\n",
        "X_train, X_test, y_train, y_test = train_test_split(X, y, test_size=0.2, random_state=0)\n",
        "\n",
        "x_trainn = np.expand_dims(X_train, axis=2) \n",
        "x_testnn = np.expand_dims(X_test, axis=2)"
      ],
      "metadata": {
        "id": "QjtE_5TKR2Uh"
      },
      "execution_count": 74,
      "outputs": []
    },
    {
      "cell_type": "code",
      "source": [
        "x_trainn.shape"
      ],
      "metadata": {
        "id": "u-Ud-YuXVTTT",
        "outputId": "ed6e4254-5a8a-4e32-b9d6-e927fd4be37d",
        "colab": {
          "base_uri": "https://localhost:8080/"
        }
      },
      "execution_count": 75,
      "outputs": [
        {
          "output_type": "execute_result",
          "data": {
            "text/plain": [
              "(56, 6900, 1)"
            ]
          },
          "metadata": {},
          "execution_count": 75
        }
      ]
    },
    {
      "cell_type": "code",
      "source": [
        "model = keras.Sequential([\n",
        "\n",
        "        # input layer\n",
        "        keras.layers.Flatten(input_shape=(x_trainn.shape[1], 1)),\n",
        "\n",
        "        # 1st dense layer\n",
        "        keras.layers.Dense(256, activation='relu', kernel_regularizer=keras.regularizers.l2(0.1)),\n",
        "        keras.layers.Dropout(0.5),\n",
        "\n",
        "        # 2nd dense layer\n",
        "        keras.layers.Dense(256, activation='relu', kernel_regularizer=keras.regularizers.l2(0.01)),\n",
        "        keras.layers.Dropout(0.5),\n",
        "\n",
        "        # 3rd dense layer\n",
        "        keras.layers.Dense(128, activation='relu', kernel_regularizer=keras.regularizers.l2(0.001)),\n",
        "        keras.layers.Dropout(0.3),\n",
        "\n",
        "        # output layer\n",
        "        keras.layers.Dense(10, activation='softmax')\n",
        "    ])\n",
        "\n",
        "    # compile model\n",
        "optimiser = keras.optimizers.Adam(learning_rate=0.00001)\n",
        "model.compile(optimizer=optimiser,\n",
        "                  loss='sparse_categorical_crossentropy',\n",
        "                  metrics=['accuracy'])"
      ],
      "metadata": {
        "id": "ECuhib5jVqam"
      },
      "execution_count": 82,
      "outputs": []
    },
    {
      "cell_type": "code",
      "source": [
        "history = model.fit(X_train, y_train, batch_size=64, epochs=100, validation_data=(X_test, y_test))"
      ],
      "metadata": {
        "colab": {
          "base_uri": "https://localhost:8080/"
        },
        "id": "vClxV6WfWRjv",
        "outputId": "0c440577-067c-4200-991d-160fde714a56"
      },
      "execution_count": 83,
      "outputs": [
        {
          "output_type": "stream",
          "name": "stdout",
          "text": [
            "Epoch 1/100\n",
            "1/1 [==============================] - 1s 943ms/step - loss: 56.3704 - accuracy: 0.1071 - val_loss: 55.1100 - val_accuracy: 0.0000e+00\n",
            "Epoch 2/100\n",
            "1/1 [==============================] - 0s 54ms/step - loss: 56.6979 - accuracy: 0.0357 - val_loss: 55.0668 - val_accuracy: 0.0714\n",
            "Epoch 3/100\n",
            "1/1 [==============================] - 0s 57ms/step - loss: 56.2240 - accuracy: 0.0714 - val_loss: 55.0251 - val_accuracy: 0.0714\n",
            "Epoch 4/100\n",
            "1/1 [==============================] - 0s 61ms/step - loss: 56.8207 - accuracy: 0.0714 - val_loss: 54.9830 - val_accuracy: 0.0714\n",
            "Epoch 5/100\n",
            "1/1 [==============================] - 0s 62ms/step - loss: 57.2962 - accuracy: 0.0714 - val_loss: 54.9393 - val_accuracy: 0.0714\n",
            "Epoch 6/100\n",
            "1/1 [==============================] - 0s 71ms/step - loss: 56.3228 - accuracy: 0.1429 - val_loss: 54.8940 - val_accuracy: 0.0714\n",
            "Epoch 7/100\n",
            "1/1 [==============================] - 0s 71ms/step - loss: 57.0129 - accuracy: 0.1071 - val_loss: 54.8545 - val_accuracy: 0.0714\n",
            "Epoch 8/100\n",
            "1/1 [==============================] - 0s 81ms/step - loss: 55.9472 - accuracy: 0.1429 - val_loss: 54.8168 - val_accuracy: 0.0714\n",
            "Epoch 9/100\n",
            "1/1 [==============================] - 0s 58ms/step - loss: 55.9301 - accuracy: 0.1429 - val_loss: 54.7804 - val_accuracy: 0.0714\n",
            "Epoch 10/100\n",
            "1/1 [==============================] - 0s 58ms/step - loss: 57.1559 - accuracy: 0.0000e+00 - val_loss: 54.7452 - val_accuracy: 0.0714\n",
            "Epoch 11/100\n",
            "1/1 [==============================] - 0s 56ms/step - loss: 56.1417 - accuracy: 0.1250 - val_loss: 54.7104 - val_accuracy: 0.0714\n",
            "Epoch 12/100\n",
            "1/1 [==============================] - 0s 64ms/step - loss: 55.8993 - accuracy: 0.0714 - val_loss: 54.6756 - val_accuracy: 0.0714\n",
            "Epoch 13/100\n",
            "1/1 [==============================] - 0s 58ms/step - loss: 56.0368 - accuracy: 0.0893 - val_loss: 54.6411 - val_accuracy: 0.0714\n",
            "Epoch 14/100\n",
            "1/1 [==============================] - 0s 60ms/step - loss: 55.7038 - accuracy: 0.1071 - val_loss: 54.6071 - val_accuracy: 0.0714\n",
            "Epoch 15/100\n",
            "1/1 [==============================] - 0s 55ms/step - loss: 55.6632 - accuracy: 0.0357 - val_loss: 54.5741 - val_accuracy: 0.0714\n",
            "Epoch 16/100\n",
            "1/1 [==============================] - 0s 61ms/step - loss: 55.7128 - accuracy: 0.0536 - val_loss: 54.5411 - val_accuracy: 0.0714\n",
            "Epoch 17/100\n",
            "1/1 [==============================] - 0s 72ms/step - loss: 55.1422 - accuracy: 0.0893 - val_loss: 54.5084 - val_accuracy: 0.0714\n",
            "Epoch 18/100\n",
            "1/1 [==============================] - 0s 73ms/step - loss: 55.5195 - accuracy: 0.0714 - val_loss: 54.4759 - val_accuracy: 0.0714\n",
            "Epoch 19/100\n",
            "1/1 [==============================] - 0s 57ms/step - loss: 55.2407 - accuracy: 0.1250 - val_loss: 54.4443 - val_accuracy: 0.0714\n",
            "Epoch 20/100\n",
            "1/1 [==============================] - 0s 57ms/step - loss: 55.4755 - accuracy: 0.1607 - val_loss: 54.4125 - val_accuracy: 0.0714\n",
            "Epoch 21/100\n",
            "1/1 [==============================] - 0s 67ms/step - loss: 55.6181 - accuracy: 0.0536 - val_loss: 54.3823 - val_accuracy: 0.0714\n",
            "Epoch 22/100\n",
            "1/1 [==============================] - 0s 54ms/step - loss: 55.3855 - accuracy: 0.1250 - val_loss: 54.3524 - val_accuracy: 0.0714\n",
            "Epoch 23/100\n",
            "1/1 [==============================] - 0s 55ms/step - loss: 55.6152 - accuracy: 0.1250 - val_loss: 54.3226 - val_accuracy: 0.0714\n",
            "Epoch 24/100\n",
            "1/1 [==============================] - 0s 55ms/step - loss: 55.1403 - accuracy: 0.0893 - val_loss: 54.2924 - val_accuracy: 0.0714\n",
            "Epoch 25/100\n",
            "1/1 [==============================] - 0s 60ms/step - loss: 55.3153 - accuracy: 0.1071 - val_loss: 54.2623 - val_accuracy: 0.0714\n",
            "Epoch 26/100\n",
            "1/1 [==============================] - 0s 60ms/step - loss: 54.8936 - accuracy: 0.1071 - val_loss: 54.2315 - val_accuracy: 0.0714\n",
            "Epoch 27/100\n",
            "1/1 [==============================] - 0s 64ms/step - loss: 55.3370 - accuracy: 0.1429 - val_loss: 54.2022 - val_accuracy: 0.0714\n",
            "Epoch 28/100\n",
            "1/1 [==============================] - 0s 64ms/step - loss: 55.1093 - accuracy: 0.0893 - val_loss: 54.1744 - val_accuracy: 0.0714\n",
            "Epoch 29/100\n",
            "1/1 [==============================] - 0s 61ms/step - loss: 55.0585 - accuracy: 0.0714 - val_loss: 54.1467 - val_accuracy: 0.0714\n",
            "Epoch 30/100\n",
            "1/1 [==============================] - 0s 55ms/step - loss: 55.4873 - accuracy: 0.1786 - val_loss: 54.1198 - val_accuracy: 0.0714\n",
            "Epoch 31/100\n",
            "1/1 [==============================] - 0s 63ms/step - loss: 55.5097 - accuracy: 0.0893 - val_loss: 54.0928 - val_accuracy: 0.0714\n",
            "Epoch 32/100\n",
            "1/1 [==============================] - 0s 56ms/step - loss: 55.2409 - accuracy: 0.0893 - val_loss: 54.0658 - val_accuracy: 0.0714\n",
            "Epoch 33/100\n",
            "1/1 [==============================] - 0s 56ms/step - loss: 55.3952 - accuracy: 0.0893 - val_loss: 54.0388 - val_accuracy: 0.0714\n",
            "Epoch 34/100\n",
            "1/1 [==============================] - 0s 60ms/step - loss: 54.3094 - accuracy: 0.1607 - val_loss: 54.0126 - val_accuracy: 0.0714\n",
            "Epoch 35/100\n",
            "1/1 [==============================] - 0s 55ms/step - loss: 55.1692 - accuracy: 0.0893 - val_loss: 53.9863 - val_accuracy: 0.0714\n",
            "Epoch 36/100\n",
            "1/1 [==============================] - 0s 55ms/step - loss: 55.0425 - accuracy: 0.1250 - val_loss: 53.9611 - val_accuracy: 0.0714\n",
            "Epoch 37/100\n",
            "1/1 [==============================] - 0s 67ms/step - loss: 55.0487 - accuracy: 0.0714 - val_loss: 53.9360 - val_accuracy: 0.0714\n",
            "Epoch 38/100\n",
            "1/1 [==============================] - 0s 60ms/step - loss: 54.6951 - accuracy: 0.1250 - val_loss: 53.9103 - val_accuracy: 0.0714\n",
            "Epoch 39/100\n",
            "1/1 [==============================] - 0s 73ms/step - loss: 54.9200 - accuracy: 0.1250 - val_loss: 53.8849 - val_accuracy: 0.0714\n",
            "Epoch 40/100\n",
            "1/1 [==============================] - 0s 57ms/step - loss: 54.7342 - accuracy: 0.1607 - val_loss: 53.8615 - val_accuracy: 0.0714\n",
            "Epoch 41/100\n",
            "1/1 [==============================] - 0s 56ms/step - loss: 54.3783 - accuracy: 0.1964 - val_loss: 53.8370 - val_accuracy: 0.0714\n",
            "Epoch 42/100\n",
            "1/1 [==============================] - 0s 59ms/step - loss: 54.4783 - accuracy: 0.1607 - val_loss: 53.8128 - val_accuracy: 0.0714\n",
            "Epoch 43/100\n",
            "1/1 [==============================] - 0s 55ms/step - loss: 54.9092 - accuracy: 0.1429 - val_loss: 53.7895 - val_accuracy: 0.0714\n",
            "Epoch 44/100\n",
            "1/1 [==============================] - 0s 57ms/step - loss: 54.7428 - accuracy: 0.0893 - val_loss: 53.7659 - val_accuracy: 0.0714\n",
            "Epoch 45/100\n",
            "1/1 [==============================] - 0s 55ms/step - loss: 54.6509 - accuracy: 0.0536 - val_loss: 53.7432 - val_accuracy: 0.0714\n",
            "Epoch 46/100\n",
            "1/1 [==============================] - 0s 58ms/step - loss: 54.2961 - accuracy: 0.1250 - val_loss: 53.7209 - val_accuracy: 0.0714\n",
            "Epoch 47/100\n",
            "1/1 [==============================] - 0s 61ms/step - loss: 54.2053 - accuracy: 0.1964 - val_loss: 53.6992 - val_accuracy: 0.0714\n",
            "Epoch 48/100\n",
            "1/1 [==============================] - 0s 57ms/step - loss: 54.2595 - accuracy: 0.1250 - val_loss: 53.6766 - val_accuracy: 0.0714\n",
            "Epoch 49/100\n",
            "1/1 [==============================] - 0s 56ms/step - loss: 54.2185 - accuracy: 0.1786 - val_loss: 53.6542 - val_accuracy: 0.0714\n",
            "Epoch 50/100\n",
            "1/1 [==============================] - 0s 56ms/step - loss: 54.5710 - accuracy: 0.1071 - val_loss: 53.6321 - val_accuracy: 0.0714\n",
            "Epoch 51/100\n",
            "1/1 [==============================] - 0s 60ms/step - loss: 54.4970 - accuracy: 0.1071 - val_loss: 53.6099 - val_accuracy: 0.0714\n",
            "Epoch 52/100\n",
            "1/1 [==============================] - 0s 61ms/step - loss: 53.6370 - accuracy: 0.0893 - val_loss: 53.5871 - val_accuracy: 0.0714\n",
            "Epoch 53/100\n",
            "1/1 [==============================] - 0s 65ms/step - loss: 53.8668 - accuracy: 0.2679 - val_loss: 53.5640 - val_accuracy: 0.0000e+00\n",
            "Epoch 54/100\n",
            "1/1 [==============================] - 0s 72ms/step - loss: 54.2320 - accuracy: 0.1786 - val_loss: 53.5403 - val_accuracy: 0.0000e+00\n",
            "Epoch 55/100\n",
            "1/1 [==============================] - 0s 57ms/step - loss: 54.0175 - accuracy: 0.1429 - val_loss: 53.5160 - val_accuracy: 0.0000e+00\n",
            "Epoch 56/100\n",
            "1/1 [==============================] - 0s 54ms/step - loss: 54.3136 - accuracy: 0.1429 - val_loss: 53.4919 - val_accuracy: 0.0714\n",
            "Epoch 57/100\n",
            "1/1 [==============================] - 0s 58ms/step - loss: 54.6290 - accuracy: 0.0357 - val_loss: 53.4674 - val_accuracy: 0.0714\n",
            "Epoch 58/100\n",
            "1/1 [==============================] - 0s 58ms/step - loss: 53.8857 - accuracy: 0.1429 - val_loss: 53.4434 - val_accuracy: 0.0714\n",
            "Epoch 59/100\n",
            "1/1 [==============================] - 0s 70ms/step - loss: 53.8339 - accuracy: 0.1250 - val_loss: 53.4190 - val_accuracy: 0.0714\n",
            "Epoch 60/100\n",
            "1/1 [==============================] - 0s 57ms/step - loss: 54.3247 - accuracy: 0.0893 - val_loss: 53.3947 - val_accuracy: 0.0714\n",
            "Epoch 61/100\n",
            "1/1 [==============================] - 0s 56ms/step - loss: 53.9862 - accuracy: 0.1607 - val_loss: 53.3703 - val_accuracy: 0.0714\n",
            "Epoch 62/100\n",
            "1/1 [==============================] - 0s 53ms/step - loss: 54.5329 - accuracy: 0.1071 - val_loss: 53.3463 - val_accuracy: 0.0714\n",
            "Epoch 63/100\n",
            "1/1 [==============================] - 0s 55ms/step - loss: 54.3726 - accuracy: 0.1250 - val_loss: 53.3231 - val_accuracy: 0.0714\n",
            "Epoch 64/100\n",
            "1/1 [==============================] - 0s 58ms/step - loss: 53.5038 - accuracy: 0.1429 - val_loss: 53.3002 - val_accuracy: 0.0714\n",
            "Epoch 65/100\n",
            "1/1 [==============================] - 0s 55ms/step - loss: 53.8101 - accuracy: 0.1250 - val_loss: 53.2767 - val_accuracy: 0.0714\n",
            "Epoch 66/100\n",
            "1/1 [==============================] - 0s 54ms/step - loss: 53.6602 - accuracy: 0.1429 - val_loss: 53.2536 - val_accuracy: 0.0714\n",
            "Epoch 67/100\n",
            "1/1 [==============================] - 0s 58ms/step - loss: 54.1082 - accuracy: 0.1786 - val_loss: 53.2300 - val_accuracy: 0.0714\n",
            "Epoch 68/100\n",
            "1/1 [==============================] - 0s 73ms/step - loss: 54.2937 - accuracy: 0.1071 - val_loss: 53.2065 - val_accuracy: 0.0714\n",
            "Epoch 69/100\n",
            "1/1 [==============================] - 0s 70ms/step - loss: 54.3191 - accuracy: 0.0714 - val_loss: 53.1820 - val_accuracy: 0.0714\n",
            "Epoch 70/100\n",
            "1/1 [==============================] - 0s 54ms/step - loss: 53.7022 - accuracy: 0.1429 - val_loss: 53.1584 - val_accuracy: 0.0714\n",
            "Epoch 71/100\n",
            "1/1 [==============================] - 0s 55ms/step - loss: 53.3282 - accuracy: 0.1607 - val_loss: 53.1356 - val_accuracy: 0.0714\n",
            "Epoch 72/100\n",
            "1/1 [==============================] - 0s 74ms/step - loss: 53.2669 - accuracy: 0.1964 - val_loss: 53.1126 - val_accuracy: 0.0714\n",
            "Epoch 73/100\n",
            "1/1 [==============================] - 0s 71ms/step - loss: 53.9028 - accuracy: 0.0714 - val_loss: 53.0896 - val_accuracy: 0.0714\n",
            "Epoch 74/100\n",
            "1/1 [==============================] - 0s 57ms/step - loss: 53.7138 - accuracy: 0.1071 - val_loss: 53.0668 - val_accuracy: 0.0714\n",
            "Epoch 75/100\n",
            "1/1 [==============================] - 0s 71ms/step - loss: 53.5149 - accuracy: 0.1429 - val_loss: 53.0437 - val_accuracy: 0.0714\n",
            "Epoch 76/100\n",
            "1/1 [==============================] - 0s 60ms/step - loss: 53.7974 - accuracy: 0.1607 - val_loss: 53.0215 - val_accuracy: 0.0714\n",
            "Epoch 77/100\n",
            "1/1 [==============================] - 0s 54ms/step - loss: 53.6334 - accuracy: 0.1250 - val_loss: 52.9991 - val_accuracy: 0.0714\n",
            "Epoch 78/100\n",
            "1/1 [==============================] - 0s 59ms/step - loss: 53.5930 - accuracy: 0.0714 - val_loss: 52.9771 - val_accuracy: 0.0714\n",
            "Epoch 79/100\n",
            "1/1 [==============================] - 0s 56ms/step - loss: 53.1557 - accuracy: 0.1786 - val_loss: 52.9554 - val_accuracy: 0.0714\n",
            "Epoch 80/100\n",
            "1/1 [==============================] - 0s 56ms/step - loss: 53.2791 - accuracy: 0.1964 - val_loss: 52.9344 - val_accuracy: 0.0714\n",
            "Epoch 81/100\n",
            "1/1 [==============================] - 0s 55ms/step - loss: 53.5238 - accuracy: 0.0893 - val_loss: 52.9139 - val_accuracy: 0.0714\n",
            "Epoch 82/100\n",
            "1/1 [==============================] - 0s 56ms/step - loss: 53.4680 - accuracy: 0.1786 - val_loss: 52.8935 - val_accuracy: 0.0714\n",
            "Epoch 83/100\n",
            "1/1 [==============================] - 0s 57ms/step - loss: 53.3129 - accuracy: 0.1607 - val_loss: 52.8723 - val_accuracy: 0.0714\n",
            "Epoch 84/100\n",
            "1/1 [==============================] - 0s 55ms/step - loss: 53.4298 - accuracy: 0.1607 - val_loss: 52.8515 - val_accuracy: 0.0714\n",
            "Epoch 85/100\n",
            "1/1 [==============================] - 0s 83ms/step - loss: 52.9751 - accuracy: 0.1786 - val_loss: 52.8302 - val_accuracy: 0.0714\n",
            "Epoch 86/100\n",
            "1/1 [==============================] - 0s 55ms/step - loss: 53.3631 - accuracy: 0.1071 - val_loss: 52.8093 - val_accuracy: 0.0714\n",
            "Epoch 87/100\n",
            "1/1 [==============================] - 0s 55ms/step - loss: 53.3000 - accuracy: 0.1250 - val_loss: 52.7886 - val_accuracy: 0.0714\n",
            "Epoch 88/100\n",
            "1/1 [==============================] - 0s 55ms/step - loss: 53.4185 - accuracy: 0.0893 - val_loss: 52.7677 - val_accuracy: 0.0714\n",
            "Epoch 89/100\n",
            "1/1 [==============================] - 0s 55ms/step - loss: 52.8803 - accuracy: 0.1607 - val_loss: 52.7467 - val_accuracy: 0.0714\n",
            "Epoch 90/100\n",
            "1/1 [==============================] - 0s 59ms/step - loss: 52.7655 - accuracy: 0.1607 - val_loss: 52.7257 - val_accuracy: 0.0714\n",
            "Epoch 91/100\n",
            "1/1 [==============================] - 0s 56ms/step - loss: 53.2543 - accuracy: 0.1786 - val_loss: 52.7041 - val_accuracy: 0.0714\n",
            "Epoch 92/100\n",
            "1/1 [==============================] - 0s 56ms/step - loss: 53.1262 - accuracy: 0.1607 - val_loss: 52.6831 - val_accuracy: 0.0714\n",
            "Epoch 93/100\n",
            "1/1 [==============================] - 0s 54ms/step - loss: 52.6517 - accuracy: 0.1429 - val_loss: 52.6618 - val_accuracy: 0.0714\n",
            "Epoch 94/100\n",
            "1/1 [==============================] - 0s 60ms/step - loss: 52.9111 - accuracy: 0.1607 - val_loss: 52.6408 - val_accuracy: 0.0714\n",
            "Epoch 95/100\n",
            "1/1 [==============================] - 0s 58ms/step - loss: 53.0379 - accuracy: 0.1786 - val_loss: 52.6198 - val_accuracy: 0.0714\n",
            "Epoch 96/100\n",
            "1/1 [==============================] - 0s 58ms/step - loss: 53.0977 - accuracy: 0.1250 - val_loss: 52.5991 - val_accuracy: 0.0714\n",
            "Epoch 97/100\n",
            "1/1 [==============================] - 0s 59ms/step - loss: 53.0088 - accuracy: 0.1786 - val_loss: 52.5780 - val_accuracy: 0.0714\n",
            "Epoch 98/100\n",
            "1/1 [==============================] - 0s 56ms/step - loss: 53.0147 - accuracy: 0.1607 - val_loss: 52.5566 - val_accuracy: 0.0714\n",
            "Epoch 99/100\n",
            "1/1 [==============================] - 0s 59ms/step - loss: 52.7289 - accuracy: 0.1607 - val_loss: 52.5344 - val_accuracy: 0.0714\n",
            "Epoch 100/100\n",
            "1/1 [==============================] - 0s 57ms/step - loss: 53.2062 - accuracy: 0.1071 - val_loss: 52.5115 - val_accuracy: 0.0714\n"
          ]
        }
      ]
    },
    {
      "cell_type": "code",
      "source": [],
      "metadata": {
        "id": "dPfnVoXNUqRm"
      },
      "execution_count": null,
      "outputs": []
    }
  ],
  "metadata": {
    "kernelspec": {
      "display_name": "Python 3.10.5 64-bit",
      "language": "python",
      "name": "python3"
    },
    "language_info": {
      "codemirror_mode": {
        "name": "ipython",
        "version": 3
      },
      "file_extension": ".py",
      "mimetype": "text/x-python",
      "name": "python",
      "nbconvert_exporter": "python",
      "pygments_lexer": "ipython3",
      "version": "3.10.5"
    },
    "orig_nbformat": 4,
    "vscode": {
      "interpreter": {
        "hash": "c63d8c7d738c2960218a10995aedf0a7f67a49a231e71037adf0440953cdb45b"
      }
    },
    "colab": {
      "provenance": []
    }
  },
  "nbformat": 4,
  "nbformat_minor": 0
}