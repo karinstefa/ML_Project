{
 "cells": [
  {
   "cell_type": "markdown",
   "metadata": {},
   "source": [
    "## **Logistic Regression Model**"
   ]
  },
  {
   "cell_type": "code",
   "execution_count": 218,
   "metadata": {},
   "outputs": [],
   "source": [
    "import numpy as np\n",
    "import pandas as pd\n",
    "\n",
    "import os\n",
    "\n",
    "from matplotlib import pyplot as plt\n",
    "from matplotlib.pyplot import specgram\n",
    "\n",
    "import librosa\n",
    "import librosa.display\n",
    "import IPython.display as ipd\n",
    "from IPython.display import Audio\n",
    "\n",
    "from sklearn.linear_model import LogisticRegression\n",
    "from sklearn import preprocessing\n",
    "from sklearn.model_selection import train_test_split, cross_validate\n",
    "from sklearn.model_selection import KFold\n",
    "from sklearn.metrics import classification_report\n",
    "from sklearn.metrics import confusion_matrix,accuracy_score, precision_score, recall_score, f1_score\n",
    "from sklearn.preprocessing import StandardScaler\n",
    "\n",
    "\n",
    "import warnings\n",
    "warnings.filterwarnings(\"ignore\")"
   ]
  },
  {
   "cell_type": "code",
   "execution_count": 14,
   "metadata": {},
   "outputs": [],
   "source": [
    "paths=[]\n",
    "labels=[]\n",
    "\n",
    "for dirname, _, filenames in os.walk('Emotions/input/'):\n",
    "    for filename in filenames:\n",
    "        paths.append(os.path.join(dirname, filename))\n",
    "        label = filename[::-1].split('.')[0][::-1]\n",
    "        name = dirname[::].split('/')[2]\n",
    "        name_complete = name+'.'+label\n",
    "        labels.append(name_complete.lower())"
   ]
  },
  {
   "cell_type": "code",
   "execution_count": 15,
   "metadata": {},
   "outputs": [
    {
     "data": {
      "text/html": [
       "<div>\n",
       "<style scoped>\n",
       "    .dataframe tbody tr th:only-of-type {\n",
       "        vertical-align: middle;\n",
       "    }\n",
       "\n",
       "    .dataframe tbody tr th {\n",
       "        vertical-align: top;\n",
       "    }\n",
       "\n",
       "    .dataframe thead th {\n",
       "        text-align: right;\n",
       "    }\n",
       "</style>\n",
       "<table border=\"1\" class=\"dataframe\">\n",
       "  <thead>\n",
       "    <tr style=\"text-align: right;\">\n",
       "      <th></th>\n",
       "      <th>speech</th>\n",
       "      <th>label</th>\n",
       "    </tr>\n",
       "  </thead>\n",
       "  <tbody>\n",
       "    <tr>\n",
       "      <th>11686</th>\n",
       "      <td>Emotions/input/Sad\\a01.wav</td>\n",
       "      <td>sad.wav</td>\n",
       "    </tr>\n",
       "    <tr>\n",
       "      <th>6969</th>\n",
       "      <td>Emotions/input/Happy\\1038_IEO_HAP_HI.wav</td>\n",
       "      <td>happy.wav</td>\n",
       "    </tr>\n",
       "    <tr>\n",
       "      <th>10429</th>\n",
       "      <td>Emotions/input/Sad\\1002_DFA_SAD_XX.wav</td>\n",
       "      <td>sad.wav</td>\n",
       "    </tr>\n",
       "    <tr>\n",
       "      <th>2657</th>\n",
       "      <td>Emotions/input/Disgusted\\1022_IWL_DIS_XX.wav</td>\n",
       "      <td>disgusted.wav</td>\n",
       "    </tr>\n",
       "    <tr>\n",
       "      <th>7594</th>\n",
       "      <td>Emotions/input/Happy\\1082_TAI_HAP_XX.wav</td>\n",
       "      <td>happy.wav</td>\n",
       "    </tr>\n",
       "    <tr>\n",
       "      <th>6931</th>\n",
       "      <td>Emotions/input/Happy\\1035_ITH_HAP_XX.wav</td>\n",
       "      <td>happy.wav</td>\n",
       "    </tr>\n",
       "    <tr>\n",
       "      <th>8311</th>\n",
       "      <td>Emotions/input/Neutral\\03-01-01-01-02-01-23.wav</td>\n",
       "      <td>neutral.wav</td>\n",
       "    </tr>\n",
       "    <tr>\n",
       "      <th>12380</th>\n",
       "      <td>Emotions/input/Suprised\\03-01-08-02-02-02-07.wav</td>\n",
       "      <td>suprised.wav</td>\n",
       "    </tr>\n",
       "    <tr>\n",
       "      <th>10444</th>\n",
       "      <td>Emotions/input/Sad\\1003_IEO_SAD_HI.wav</td>\n",
       "      <td>sad.wav</td>\n",
       "    </tr>\n",
       "    <tr>\n",
       "      <th>10618</th>\n",
       "      <td>Emotions/input/Sad\\1015_MTI_SAD_XX.wav</td>\n",
       "      <td>sad.wav</td>\n",
       "    </tr>\n",
       "  </tbody>\n",
       "</table>\n",
       "</div>"
      ],
      "text/plain": [
       "                                                 speech          label\n",
       "11686                        Emotions/input/Sad\\a01.wav        sad.wav\n",
       "6969           Emotions/input/Happy\\1038_IEO_HAP_HI.wav      happy.wav\n",
       "10429            Emotions/input/Sad\\1002_DFA_SAD_XX.wav        sad.wav\n",
       "2657       Emotions/input/Disgusted\\1022_IWL_DIS_XX.wav  disgusted.wav\n",
       "7594           Emotions/input/Happy\\1082_TAI_HAP_XX.wav      happy.wav\n",
       "6931           Emotions/input/Happy\\1035_ITH_HAP_XX.wav      happy.wav\n",
       "8311    Emotions/input/Neutral\\03-01-01-01-02-01-23.wav    neutral.wav\n",
       "12380  Emotions/input/Suprised\\03-01-08-02-02-02-07.wav   suprised.wav\n",
       "10444            Emotions/input/Sad\\1003_IEO_SAD_HI.wav        sad.wav\n",
       "10618            Emotions/input/Sad\\1015_MTI_SAD_XX.wav        sad.wav"
      ]
     },
     "execution_count": 15,
     "metadata": {},
     "output_type": "execute_result"
    }
   ],
   "source": [
    "data = pd.DataFrame({'speech':paths,'label':labels})\n",
    "data.sample(10)"
   ]
  },
  {
   "cell_type": "code",
   "execution_count": 16,
   "metadata": {},
   "outputs": [],
   "source": [
    "# Labelencoder para convertir las clases a etiquetas númericas\n",
    "# label_encoder object knows how to understand word labels.\n",
    "label_encoder = preprocessing.LabelEncoder()\n",
    "# Encode labels in column 'label'.\n",
    "data['label'] = data['label'].apply(lambda x: str(x).split('.wav')[0])\n",
    "data['label']= label_encoder.fit_transform(data['label'])"
   ]
  },
  {
   "cell_type": "code",
   "execution_count": 17,
   "metadata": {},
   "outputs": [
    {
     "data": {
      "text/html": [
       "<div>\n",
       "<style scoped>\n",
       "    .dataframe tbody tr th:only-of-type {\n",
       "        vertical-align: middle;\n",
       "    }\n",
       "\n",
       "    .dataframe tbody tr th {\n",
       "        vertical-align: top;\n",
       "    }\n",
       "\n",
       "    .dataframe thead th {\n",
       "        text-align: right;\n",
       "    }\n",
       "</style>\n",
       "<table border=\"1\" class=\"dataframe\">\n",
       "  <thead>\n",
       "    <tr style=\"text-align: right;\">\n",
       "      <th></th>\n",
       "      <th>speech</th>\n",
       "      <th>label</th>\n",
       "    </tr>\n",
       "  </thead>\n",
       "  <tbody>\n",
       "    <tr>\n",
       "      <th>0</th>\n",
       "      <td>Emotions/input/Angry\\03-01-05-01-01-01-01.wav</td>\n",
       "      <td>0</td>\n",
       "    </tr>\n",
       "    <tr>\n",
       "      <th>1</th>\n",
       "      <td>Emotions/input/Angry\\03-01-05-01-01-01-02.wav</td>\n",
       "      <td>0</td>\n",
       "    </tr>\n",
       "    <tr>\n",
       "      <th>2</th>\n",
       "      <td>Emotions/input/Angry\\03-01-05-01-01-01-03.wav</td>\n",
       "      <td>0</td>\n",
       "    </tr>\n",
       "    <tr>\n",
       "      <th>3</th>\n",
       "      <td>Emotions/input/Angry\\03-01-05-01-01-01-04.wav</td>\n",
       "      <td>0</td>\n",
       "    </tr>\n",
       "    <tr>\n",
       "      <th>4</th>\n",
       "      <td>Emotions/input/Angry\\03-01-05-01-01-01-05.wav</td>\n",
       "      <td>0</td>\n",
       "    </tr>\n",
       "  </tbody>\n",
       "</table>\n",
       "</div>"
      ],
      "text/plain": [
       "                                          speech  label\n",
       "0  Emotions/input/Angry\\03-01-05-01-01-01-01.wav      0\n",
       "1  Emotions/input/Angry\\03-01-05-01-01-01-02.wav      0\n",
       "2  Emotions/input/Angry\\03-01-05-01-01-01-03.wav      0\n",
       "3  Emotions/input/Angry\\03-01-05-01-01-01-04.wav      0\n",
       "4  Emotions/input/Angry\\03-01-05-01-01-01-05.wav      0"
      ]
     },
     "execution_count": 17,
     "metadata": {},
     "output_type": "execute_result"
    }
   ],
   "source": [
    "data.head()"
   ]
  },
  {
   "cell_type": "code",
   "execution_count": 18,
   "metadata": {},
   "outputs": [],
   "source": [
    "def waveplot(data,sr,emotion):\n",
    "    plt.figure(figsize=(10,4))\n",
    "    plt.title(emotion,size=20)\n",
    "    librosa.display.waveshow(data,sr=sr)\n",
    "    plt.show()\n",
    "    \n",
    "def spectogram(data,sr,emotion):\n",
    "    x=librosa.stft(data)\n",
    "    xdb=librosa.amplitude_to_db(abs(x))\n",
    "    plt.figure(figsize=(11,4))\n",
    "    librosa.display.specshow(xdb,sr=sr,x_axis='time',y_axis='hz')\n",
    "    plt.colorbar()\n",
    "    \n",
    "def ana_emotion(emotion:str, df:pd.DataFrame):\n",
    "    path=np.array(df['speech'][df['label']==emotion])[0]\n",
    "    data,sampling_rate=librosa.load(path)\n",
    "    waveplot(data,sampling_rate,emotion)\n",
    "    spectogram(data,sampling_rate,emotion)\n",
    "    Audio(path)"
   ]
  },
  {
   "cell_type": "code",
   "execution_count": 19,
   "metadata": {},
   "outputs": [
    {
     "data": {
      "text/plain": [
       "[0, 1, 2, 3, 4, 5, 6]"
      ]
     },
     "execution_count": 19,
     "metadata": {},
     "output_type": "execute_result"
    }
   ],
   "source": [
    "# Clases de emociones en el datset\n",
    "data['label'].unique().tolist()"
   ]
  },
  {
   "cell_type": "code",
   "execution_count": 21,
   "metadata": {},
   "outputs": [],
   "source": [
    "#for i in data['label'].unique().tolist(): # ver uno de cada sentimiento\n",
    "#    ana_emotion(i,data)"
   ]
  },
  {
   "cell_type": "code",
   "execution_count": 22,
   "metadata": {},
   "outputs": [],
   "source": [
    "# Coeficientes Septrales - Transformación del audio en una serie de parametros que representan de forma compacta el sonido\n",
    "def MFCC(filename):\n",
    "    y, sr = librosa.load(filename,duration=3,offset=0.5)\n",
    "    return np.mean(librosa.feature.mfcc(y=y,sr=sr,n_mfcc=40).T,axis=0)\n",
    "\n",
    "mfcc= data['speech'].apply(lambda x:MFCC(x))"
   ]
  },
  {
   "cell_type": "code",
   "execution_count": 85,
   "metadata": {},
   "outputs": [
    {
     "data": {
      "text/plain": [
       "0        [-492.3691, 56.3634, -9.584242, 18.014067, -3....\n",
       "1        [-527.9743, 54.69438, -14.746857, 8.957756, -9...\n",
       "2        [-557.1632, 79.16915, -1.0876601, 23.747974, 1...\n",
       "3        [-523.06934, 43.876232, -14.765749, 5.9150915,...\n",
       "4        [-473.48077, 75.53822, -19.603502, 10.48258, 4...\n",
       "                               ...                        \n",
       "12793    [-376.5839, 63.959797, -3.0598657, 11.498796, ...\n",
       "12794    [-355.02838, 87.61324, -22.081991, 2.3526459, ...\n",
       "12795    [-345.9045, 62.633904, 2.1816177, 3.6597912, -...\n",
       "12796    [-334.6705, 80.249825, -32.716793, 3.8717275, ...\n",
       "12797    [-376.12756, 63.290413, -6.507844, 16.757235, ...\n",
       "Name: speech, Length: 12798, dtype: object"
      ]
     },
     "execution_count": 85,
     "metadata": {},
     "output_type": "execute_result"
    }
   ],
   "source": [
    "mfcc"
   ]
  },
  {
   "cell_type": "code",
   "execution_count": 24,
   "metadata": {},
   "outputs": [
    {
     "name": "stdout",
     "output_type": "stream",
     "text": [
      "Cantidad de Registros de Audio: (12798,)\n"
     ]
    }
   ],
   "source": [
    "print(f'Cantidad de Registros de Audio: {mfcc.shape}')"
   ]
  },
  {
   "cell_type": "code",
   "execution_count": 100,
   "metadata": {},
   "outputs": [],
   "source": [
    "import numpy as np\n",
    "X = np.asarray(mfcc.to_list())\n",
    "y = np.asarray(data['label'])\n"
   ]
  },
  {
   "cell_type": "code",
   "execution_count": 101,
   "metadata": {},
   "outputs": [
    {
     "data": {
      "text/plain": [
       "array([[-4.9236911e+02,  5.6363400e+01, -9.5842419e+00, ...,\n",
       "        -3.0204347e-01, -4.6737876e+00, -1.5017204e+00],\n",
       "       [-5.2797430e+02,  5.4694382e+01, -1.4746857e+01, ...,\n",
       "         1.8938642e+00,  4.9922979e-01,  1.0369350e+00],\n",
       "       [-5.5716321e+02,  7.9169151e+01, -1.0876601e+00, ...,\n",
       "        -2.7364600e+00, -6.0165200e+00, -1.7894462e+00],\n",
       "       ...,\n",
       "       [-3.4590451e+02,  6.2633904e+01,  2.1816177e+00, ...,\n",
       "         3.1764922e+00, -1.4632556e-01,  2.7278659e+00],\n",
       "       [-3.3467050e+02,  8.0249825e+01, -3.2716793e+01, ...,\n",
       "         6.3607258e-01,  1.6670487e+00,  3.2698379e+00],\n",
       "       [-3.7612756e+02,  6.3290413e+01, -6.5078440e+00, ...,\n",
       "         5.6975141e+00,  3.1801860e+00,  2.4653611e+00]], dtype=float32)"
      ]
     },
     "execution_count": 101,
     "metadata": {},
     "output_type": "execute_result"
    }
   ],
   "source": [
    "X"
   ]
  },
  {
   "cell_type": "code",
   "execution_count": 102,
   "metadata": {},
   "outputs": [
    {
     "data": {
      "text/plain": [
       "array([0, 0, 0, ..., 6, 6, 6])"
      ]
     },
     "execution_count": 102,
     "metadata": {},
     "output_type": "execute_result"
    }
   ],
   "source": [
    "y"
   ]
  },
  {
   "cell_type": "code",
   "execution_count": 112,
   "metadata": {},
   "outputs": [],
   "source": [
    "X_train, X_test, y_train, y_test = train_test_split(X, y, test_size=0.1, random_state=42)"
   ]
  },
  {
   "cell_type": "code",
   "execution_count": 113,
   "metadata": {},
   "outputs": [],
   "source": [
    "#Estandarizar\n",
    "sc = StandardScaler()\n",
    "X_train = sc.fit_transform(X_train)\n",
    "X_test = sc.transform(X_test)"
   ]
  },
  {
   "cell_type": "code",
   "execution_count": 128,
   "metadata": {},
   "outputs": [
    {
     "name": "stdout",
     "output_type": "stream",
     "text": [
      "Dimensiones mfcc:(12798, 40)\n",
      "Dimensiones label:(12798,)\n"
     ]
    }
   ],
   "source": [
    "print(f'Dimensiones mfcc:{X.shape}')\n",
    "print(f'Dimensiones label:{y.shape}')"
   ]
  },
  {
   "cell_type": "code",
   "execution_count": 219,
   "metadata": {},
   "outputs": [
    {
     "name": "stdout",
     "output_type": "stream",
     "text": [
      "tuned hpyerparameters :(best parameters)  {'C': 10.0, 'penalty': 'l2'}\n",
      "accuracy : 0.47959533980113916\n"
     ]
    }
   ],
   "source": [
    "# Grid search cross validation\n",
    "from sklearn.model_selection import GridSearchCV\n",
    "from sklearn.linear_model import LogisticRegression\n",
    "grid={\"C\":np.logspace(-3,3,7), \"penalty\":['l1','l2','none']}# l1 lasso l2 ridge and none\n",
    "\n",
    "logreg=LogisticRegression()\n",
    "logreg_cv=GridSearchCV(logreg,grid,cv=10)\n",
    "logreg_cv.fit(X_train,y_train)\n",
    "\n",
    "print(\"tuned hpyerparameters :(best parameters) \",logreg_cv.best_params_)\n",
    "print(\"accuracy :\",logreg_cv.best_score_)"
   ]
  },
  {
   "cell_type": "code",
   "execution_count": 164,
   "metadata": {},
   "outputs": [
    {
     "name": "stdout",
     "output_type": "stream",
     "text": [
      "score 0.46015625\n"
     ]
    },
    {
     "name": "stderr",
     "output_type": "stream",
     "text": [
      "c:\\ProgramData\\Anaconda3\\lib\\site-packages\\sklearn\\linear_model\\_logistic.py:763: ConvergenceWarning: lbfgs failed to converge (status=1):\n",
      "STOP: TOTAL NO. of ITERATIONS REACHED LIMIT.\n",
      "\n",
      "Increase the number of iterations (max_iter) or scale the data as shown in:\n",
      "    https://scikit-learn.org/stable/modules/preprocessing.html\n",
      "Please also refer to the documentation for alternative solver options:\n",
      "    https://scikit-learn.org/stable/modules/linear_model.html#logistic-regression\n",
      "  n_iter_i = _check_optimize_result(\n"
     ]
    }
   ],
   "source": [
    "logistic_model_LR = LogisticRegression(C=10,penalty=\"l2\")\n",
    "logistic_model_LR.fit(X_train,y_train)\n",
    "print(\"score\",logistic_model_LR.score(X_test,y_test))"
   ]
  },
  {
   "cell_type": "code",
   "execution_count": 220,
   "metadata": {},
   "outputs": [],
   "source": [
    "metrics = ['accuracy']\n",
    "cv_results_LR = cross_validate(logistic_model_LR, X_train, y_train, scoring=metrics, cv = 10)"
   ]
  },
  {
   "cell_type": "code",
   "execution_count": 221,
   "metadata": {},
   "outputs": [
    {
     "data": {
      "text/plain": [
       "{'fit_time': array([0.43203354, 0.42099881, 0.45600581, 0.35799766, 0.35200024,\n",
       "        0.36499977, 0.36351085, 0.36099982, 0.36253047, 0.41758633]),\n",
       " 'score_time': array([0.0010016 , 0.00099993, 0.00099707, 0.        , 0.0010004 ,\n",
       "        0.00100017, 0.00099993, 0.00100088, 0.00067687, 0.00099826]),\n",
       " 'test_accuracy': array([0.48090278, 0.48350694, 0.48611111, 0.46788194, 0.46006944,\n",
       "        0.49652778, 0.49913194, 0.48350694, 0.47002606, 0.46828844])}"
      ]
     },
     "execution_count": 221,
     "metadata": {},
     "output_type": "execute_result"
    }
   ],
   "source": [
    "'''\n",
    "Resultados obtenidos aplicando validación cruzada(cross-validation) al modelo\n",
    "LogisticRegression\n",
    "'''\n",
    "cv_results_LR"
   ]
  },
  {
   "cell_type": "code",
   "execution_count": 222,
   "metadata": {},
   "outputs": [],
   "source": [
    "#Predecir sobre el train y sobre el test\n",
    "y_pred_train = logistic_model_LR.predict(X_train)\n",
    "y_pred_test = logistic_model_LR.predict(X_test)"
   ]
  },
  {
   "cell_type": "code",
   "execution_count": 223,
   "metadata": {},
   "outputs": [
    {
     "name": "stdout",
     "output_type": "stream",
     "text": [
      "Acc en el conjunto de entrenamiento: 0.4877582913700295\n",
      "Acc en el conjunto de test: 0.46015625\n"
     ]
    }
   ],
   "source": [
    "#Calcule el accuracy. Graficar la matriz de confusión.\n",
    "#Calcule el accuracy. \n",
    "\n",
    "from sklearn.metrics import accuracy_score\n",
    "accuracy_train = accuracy_score(y_train, y_pred_train)\n",
    "accuracy_test = accuracy_score(y_test, y_pred_test)\n",
    "\n",
    "print(f'Acc en el conjunto de entrenamiento: {accuracy_train}')\n",
    "print(f'Acc en el conjunto de test: {accuracy_test}')"
   ]
  },
  {
   "cell_type": "code",
   "execution_count": 224,
   "metadata": {},
   "outputs": [
    {
     "data": {
      "image/png": "[encoded data removed]",
      "text/plain": [
       "<Figure size 432x288 with 2 Axes>"
      ]
     },
     "metadata": {
      "needs_background": "light"
     },
     "output_type": "display_data"
    }
   ],
   "source": [
    "from sklearn.metrics import confusion_matrix\n",
    "cm2_train = confusion_matrix(y_train, y_pred_train)\n",
    "cm2_test = confusion_matrix(y_test, y_pred_test)\n",
    "\n",
    "#Graficar la matriz de confusión.\n",
    "import seaborn as sns\n",
    "sns.heatmap(cm2_train, annot=True, fmt='d', cmap='Blues')\n",
    "plt.title('Confusion matrix')\n",
    "plt.ylabel('True label')\n",
    "plt.xlabel('Predicted label')\n",
    "plt.show()  "
   ]
  },
  {
   "cell_type": "code",
   "execution_count": 225,
   "metadata": {},
   "outputs": [
    {
     "name": "stdout",
     "output_type": "stream",
     "text": [
      "              precision    recall  f1-score   support\n",
      "\n",
      "           0       0.55      0.57      0.56       221\n",
      "           1       0.35      0.34      0.34       188\n",
      "           2       0.47      0.38      0.42       216\n",
      "           3       0.41      0.34      0.37       222\n",
      "           4       0.48      0.45      0.46       175\n",
      "           5       0.44      0.60      0.51       213\n",
      "           6       0.63      0.76      0.69        45\n",
      "\n",
      "    accuracy                           0.46      1280\n",
      "   macro avg       0.48      0.49      0.48      1280\n",
      "weighted avg       0.46      0.46      0.46      1280\n",
      "\n",
      "              precision    recall  f1-score   support\n",
      "\n",
      "           0       0.56      0.62      0.59      1946\n",
      "           1       0.44      0.39      0.41      1675\n",
      "           2       0.43      0.37      0.40      1831\n",
      "           3       0.42      0.38      0.40      1945\n",
      "           4       0.50      0.45      0.48      1620\n",
      "           5       0.49      0.63      0.55      1954\n",
      "           6       0.66      0.68      0.67       547\n",
      "\n",
      "    accuracy                           0.49     11518\n",
      "   macro avg       0.50      0.50      0.50     11518\n",
      "weighted avg       0.48      0.49      0.48     11518\n",
      "\n"
     ]
    }
   ],
   "source": [
    "report_test2 = classification_report(y_test ,y_pred_test.round())  \n",
    "print(report_test2)\n",
    "\n",
    "report_train2 = classification_report(y_train ,y_pred_train.round())  \n",
    "print(report_train2)"
   ]
  },
  {
   "cell_type": "code",
   "execution_count": 226,
   "metadata": {},
   "outputs": [],
   "source": [
    "from sklearn.metrics import roc_curve, roc_auc_score\n",
    "#ROC\n",
    "r_probs = [0 for _ in range(len(y_test))] # un vector de ceros para ver el peor de los casos \n",
    "y_pred_LR = logistic_model_LR.predict(X_test) # Predicciones de regresión logística"
   ]
  },
  {
   "cell_type": "code",
   "execution_count": 227,
   "metadata": {},
   "outputs": [],
   "source": [
    "#Area bajo la curva (AUC)\n",
    "#r_auc = roc_auc_score(y_test, r_probs, multi_class='ovr') \n",
    "#lr_LR_auc = roc_auc_score(y_test, y_pred_LR, multi_class='ovr') \n",
    "\n",
    "#r_fpr, r_tpr, _ = roc_curve(y_test, r_probs)\n",
    "#lr_LR_fpr, lr_LR_tpr, _ = roc_curve(y_test, y_pred_LR)"
   ]
  },
  {
   "cell_type": "code",
   "execution_count": 209,
   "metadata": {},
   "outputs": [],
   "source": [
    "#plt.plot(lr_LR_fpr, lr_LR_tpr, marker='.', label='LogisticRegression (AUROC = %0.3f)' % lr_LR_auc)\n",
    "\n",
    "# Title\n",
    "#plt.title('ROC Plot')\n",
    "# Axis labels\n",
    "#plt.xlabel('False Positive Rate')\n",
    "#plt.ylabel('True Positive Rate')\n",
    "# Show legend\n",
    "#plt.legend() # \n",
    "# Show plot\n",
    "#plt.show()"
   ]
  },
  {
   "cell_type": "code",
   "execution_count": null,
   "metadata": {},
   "outputs": [],
   "source": []
  }
 ],
 "metadata": {
  "kernelspec": {
   "display_name": "Python 3.8.8 ('base')",
   "language": "python",
   "name": "python3"
  },
  "language_info": {
   "codemirror_mode": {
    "name": "ipython",
    "version": 3
   },
   "file_extension": ".py",
   "mimetype": "text/x-python",
   "name": "python",
   "nbconvert_exporter": "python",
   "pygments_lexer": "ipython3",
   "version": "3.8.8"
  },
  "orig_nbformat": 4,
  "vscode": {
   "interpreter": {
    "hash": "ad2bdc8ecc057115af97d19610ffacc2b4e99fae6737bb82f5d7fb13d2f2c186"
   }
  }
 },
 "nbformat": 4,
 "nbformat_minor": 2
}
