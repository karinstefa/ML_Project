{
 "cells": [
  {
   "cell_type": "code",
   "execution_count": 1,
   "metadata": {},
   "outputs": [],
   "source": [
    "import time\n",
    "from tqdm import tqdm\n",
    "import os\n",
    "\n",
    "from IPython import display\n",
    "import matplotlib.pyplot as plt\n",
    "import numpy as np\n",
    "import pandas as pd\n",
    "\n",
    "import tensorflow as tf\n",
    "\n",
    "from sklearn import preprocessing\n",
    "from sklearn.model_selection import train_test_split, cross_validate\n",
    "\n",
    "import librosa\n",
    "import librosa.display\n",
    "import IPython.display as ipd\n",
    "from IPython.display import Audio"
   ]
  },
  {
   "cell_type": "code",
   "execution_count": 2,
   "metadata": {},
   "outputs": [
    {
     "name": "stdout",
     "output_type": "stream",
     "text": [
      "We are using the device cpu - cpu\n"
     ]
    }
   ],
   "source": [
    "import torch\n",
    "cuda_id = 2\n",
    "device = torch.device(\"cuda:%s\" % cuda_id if torch.cuda.is_available() else \"cpu\")\n",
    "device_name = torch.cuda.get_device_name(cuda_id) if torch.cuda.is_available() else \"cpu\"\n",
    "print(\"We are using the device %s - %s\" % (device, device_name))"
   ]
  },
  {
   "cell_type": "code",
   "execution_count": null,
   "metadata": {},
   "outputs": [],
   "source": [
    "# Cambie la ruta donde se encuentre su dataset\n",
    "DATASET = 'Emotions/input/'"
   ]
  },
  {
   "cell_type": "code",
   "execution_count": 3,
   "metadata": {},
   "outputs": [],
   "source": [
    "paths=[]\n",
    "labels=[]\n",
    "\n",
    "for dirname, _, filenames in os.walk(DATASET):\n",
    "    for filename in filenames:\n",
    "        paths.append(os.path.join(dirname, filename))\n",
    "        label = filename[::-1].split('.')[0][::-1]\n",
    "        name = dirname[::].split('/')[2]\n",
    "        name_complete = name+'.'+label\n",
    "        labels.append(name_complete.lower())"
   ]
  },
  {
   "cell_type": "code",
   "execution_count": 4,
   "metadata": {},
   "outputs": [
    {
     "data": {
      "text/html": [
       "<div>\n",
       "<style scoped>\n",
       "    .dataframe tbody tr th:only-of-type {\n",
       "        vertical-align: middle;\n",
       "    }\n",
       "\n",
       "    .dataframe tbody tr th {\n",
       "        vertical-align: top;\n",
       "    }\n",
       "\n",
       "    .dataframe thead th {\n",
       "        text-align: right;\n",
       "    }\n",
       "</style>\n",
       "<table border=\"1\" class=\"dataframe\">\n",
       "  <thead>\n",
       "    <tr style=\"text-align: right;\">\n",
       "      <th></th>\n",
       "      <th>speech</th>\n",
       "      <th>label</th>\n",
       "    </tr>\n",
       "  </thead>\n",
       "  <tbody>\n",
       "    <tr>\n",
       "      <th>4291</th>\n",
       "      <td>Emotions/input/Fearful\\03-02-06-01-02-02-01.wav</td>\n",
       "      <td>fearful.wav</td>\n",
       "    </tr>\n",
       "    <tr>\n",
       "      <th>4815</th>\n",
       "      <td>Emotions/input/Fearful\\1030_ITS_FEA_XX.wav</td>\n",
       "      <td>fearful.wav</td>\n",
       "    </tr>\n",
       "    <tr>\n",
       "      <th>1907</th>\n",
       "      <td>Emotions/input/Angry\\OAF_third_angry.wav</td>\n",
       "      <td>angry.wav</td>\n",
       "    </tr>\n",
       "    <tr>\n",
       "      <th>10818</th>\n",
       "      <td>Emotions/input/Sad\\1030_DFA_SAD_XX.wav</td>\n",
       "      <td>sad.wav</td>\n",
       "    </tr>\n",
       "    <tr>\n",
       "      <th>3917</th>\n",
       "      <td>Emotions/input/Disgusted\\YAF_limb_disgust.wav</td>\n",
       "      <td>disgusted.wav</td>\n",
       "    </tr>\n",
       "    <tr>\n",
       "      <th>12055</th>\n",
       "      <td>Emotions/input/Sad\\YAF_gin_sad.wav</td>\n",
       "      <td>sad.wav</td>\n",
       "    </tr>\n",
       "    <tr>\n",
       "      <th>8540</th>\n",
       "      <td>Emotions/input/Neutral\\1010_WSI_NEU_XX.wav</td>\n",
       "      <td>neutral.wav</td>\n",
       "    </tr>\n",
       "    <tr>\n",
       "      <th>8665</th>\n",
       "      <td>Emotions/input/Neutral\\1021_IWL_NEU_XX.wav</td>\n",
       "      <td>neutral.wav</td>\n",
       "    </tr>\n",
       "    <tr>\n",
       "      <th>5069</th>\n",
       "      <td>Emotions/input/Fearful\\1048_IWW_FEA_XX.wav</td>\n",
       "      <td>fearful.wav</td>\n",
       "    </tr>\n",
       "    <tr>\n",
       "      <th>11057</th>\n",
       "      <td>Emotions/input/Sad\\1047_IEO_SAD_HI.wav</td>\n",
       "      <td>sad.wav</td>\n",
       "    </tr>\n",
       "  </tbody>\n",
       "</table>\n",
       "</div>"
      ],
      "text/plain": [
       "                                                speech          label\n",
       "4291   Emotions/input/Fearful\\03-02-06-01-02-02-01.wav    fearful.wav\n",
       "4815        Emotions/input/Fearful\\1030_ITS_FEA_XX.wav    fearful.wav\n",
       "1907          Emotions/input/Angry\\OAF_third_angry.wav      angry.wav\n",
       "10818           Emotions/input/Sad\\1030_DFA_SAD_XX.wav        sad.wav\n",
       "3917     Emotions/input/Disgusted\\YAF_limb_disgust.wav  disgusted.wav\n",
       "12055               Emotions/input/Sad\\YAF_gin_sad.wav        sad.wav\n",
       "8540        Emotions/input/Neutral\\1010_WSI_NEU_XX.wav    neutral.wav\n",
       "8665        Emotions/input/Neutral\\1021_IWL_NEU_XX.wav    neutral.wav\n",
       "5069        Emotions/input/Fearful\\1048_IWW_FEA_XX.wav    fearful.wav\n",
       "11057           Emotions/input/Sad\\1047_IEO_SAD_HI.wav        sad.wav"
      ]
     },
     "execution_count": 4,
     "metadata": {},
     "output_type": "execute_result"
    }
   ],
   "source": [
    "data = pd.DataFrame({'speech':paths,'label':labels})\n",
    "data.sample(10)"
   ]
  },
  {
   "cell_type": "code",
   "execution_count": 5,
   "metadata": {},
   "outputs": [],
   "source": [
    "# se remueve el archivo .ds_store\n",
    "data = data[data.label.apply(lambda x: x != '.ds_store')]"
   ]
  },
  {
   "cell_type": "code",
   "execution_count": 6,
   "metadata": {},
   "outputs": [],
   "source": [
    "# Labelencoder para convertir las clases a etiquetas númericas\n",
    "label_encoder = preprocessing.LabelEncoder()\n",
    "\n",
    "# Encode labels in column 'label'.\n",
    "data['label'] = data['label'].apply(lambda x: str(x).split('.wav')[0])\n",
    "data['label']= label_encoder.fit_transform(data['label'])"
   ]
  },
  {
   "cell_type": "code",
   "execution_count": 8,
   "metadata": {},
   "outputs": [
    {
     "name": "stdout",
     "output_type": "stream",
     "text": [
      "0    300\n",
      "2    300\n",
      "4    300\n",
      "6    300\n",
      "1    300\n",
      "3    300\n",
      "5    300\n",
      "Name: label, dtype: int64\n"
     ]
    }
   ],
   "source": [
    "#Debido al volumen de los datos y la disparidad entre clases se decide tomar 300 registros po clase\n",
    "nMax = 300 \n",
    "data2 = data.groupby('label').apply(lambda x: x.sample(n=min(nMax, len(x))))\n",
    "print(data2['label'].value_counts())"
   ]
  },
  {
   "cell_type": "code",
   "execution_count": 9,
   "metadata": {},
   "outputs": [],
   "source": [
    "# Adicionalmente a la cantidad de registros, se eligen 4 clases para el estudio debido al alto costo computacional\n",
    "data2 = data2[data2.label.apply(lambda x: x in (0,1,2,3)) ]"
   ]
  },
  {
   "cell_type": "code",
   "execution_count": 11,
   "metadata": {},
   "outputs": [],
   "source": [
    "# se renombra la variable speech por path\n",
    "data2.rename(columns={'speech':'path'}, inplace=True)"
   ]
  },
  {
   "cell_type": "code",
   "execution_count": 13,
   "metadata": {},
   "outputs": [],
   "source": [
    "# se crea los conjuntos de entrenamiento y test (80 % para el entrnamiento y lo demás para el test)\n",
    "train_df = data2.sample(frac=0.8)\n",
    "test_df = data2.drop(train_df.index)"
   ]
  },
  {
   "cell_type": "code",
   "execution_count": 14,
   "metadata": {},
   "outputs": [],
   "source": [
    "# se renombra la variable label por labels\n",
    "test_df2=test_df.rename(columns = {'label':'labels'})"
   ]
  },
  {
   "cell_type": "code",
   "execution_count": 16,
   "metadata": {},
   "outputs": [
    {
     "name": "stdout",
     "output_type": "stream",
     "text": [
      "path     Emotions/input/Angry\\1024_IEO_ANG_MD.wav\n",
      "label                                           0\n",
      "Name: (0, 698), dtype: object\n"
     ]
    },
    {
     "data": {
      "text/html": [
       "\n",
       "                <audio  controls=\"controls\" autoplay=\"autoplay\">\n",
       "                    <source src=\"data:audio/wav;base64,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\" type=\"audio/wav\" />\n",
       "                    Your browser does not support the audio element.\n",
       "                </audio>\n",
       "              "
      ],
      "text/plain": [
       "<IPython.lib.display.Audio object>"
      ]
     },
     "execution_count": 16,
     "metadata": {},
     "output_type": "execute_result"
    }
   ],
   "source": [
    "# Se muestra el primer registro.\n",
    "import IPython.display as ipd\n",
    "id = 0\n",
    "print(train_df.iloc[id])\n",
    "ipd.Audio(data=train_df.iloc[id][\"path\"], autoplay=True, rate=16000)"
   ]
  },
  {
   "cell_type": "code",
   "execution_count": 17,
   "metadata": {},
   "outputs": [
    {
     "name": "stderr",
     "output_type": "stream",
     "text": [
      "Parameter 'function'=<function map_to_array at 0x0000017989FD6700> of the transform datasets.arrow_dataset.Dataset._map_single couldn't be hashed properly, a random hash was used instead. Make sure your transforms and parameters are serializable with pickle or dill for the dataset fingerprinting and caching to work. If you reuse this transform, the caching mechanism will consider it to be different from the previous calls and recompute everything. This warning is only showed once. Subsequent hashing failures won't be showed.\n"
     ]
    },
    {
     "data": {
      "application/vnd.jupyter.widget-view+json": {
       "model_id": "5ee3b1a8ff844299825f362807e68cd7",
       "version_major": 2,
       "version_minor": 0
      },
      "text/plain": [
       "  0%|          | 0/960 [00:00<?, ?ex/s]"
      ]
     },
     "metadata": {},
     "output_type": "display_data"
    },
    {
     "data": {
      "application/vnd.jupyter.widget-view+json": {
       "model_id": "a6b8e8c6ca5142fdbe2681731883594e",
       "version_major": 2,
       "version_minor": 0
      },
      "text/plain": [
       "  0%|          | 0/240 [00:00<?, ?ex/s]"
      ]
     },
     "metadata": {},
     "output_type": "display_data"
    }
   ],
   "source": [
    "# Mediante la clase Wav2Vec2FeatureExtractor se extraen las caracteristicas de los audios del modelo preentrenado HuBERT, además se fija el periodo de muestro en 16kHz\n",
    "from transformers import Wav2Vec2FeatureExtractor\n",
    "from datasets import Dataset\n",
    "import librosa\n",
    "\n",
    "def map_to_array(example):\n",
    "    speech, _ = librosa.load(example[\"path\"], sr=16000, mono=True)\n",
    "    example[\"speech\"] = speech\n",
    "    return example\n",
    "\n",
    "train_data = Dataset.from_pandas(train_df).map(map_to_array)\n",
    "test_data = Dataset.from_pandas(test_df).map(map_to_array)\n",
    "\n",
    "feature_extractor = Wav2Vec2FeatureExtractor.from_pretrained(\"superb/hubert-large-superb-er\")\n",
    "\n",
    "train_encodings = feature_extractor(list(train_data[\"speech\"]), sampling_rate=16000, padding=True, return_tensors=\"pt\")\n",
    "test_encodings = feature_extractor(list(test_data[\"speech\"]), sampling_rate=16000, padding=True, return_tensors=\"pt\")"
   ]
  },
  {
   "cell_type": "code",
   "execution_count": 18,
   "metadata": {},
   "outputs": [],
   "source": [
    "class EmotionDataset(torch.utils.data.Dataset):\n",
    "    def __init__(self, encodings, labels):\n",
    "        self.encodings = encodings\n",
    "        pattern = {0:0, 1:1, 2:2, 3:3}\n",
    "        self.labels = [pattern[x] for x in labels]\n",
    "\n",
    "    def __getitem__(self, idx):\n",
    "        item = {key: val[idx] for key, val in self.encodings.items()}\n",
    "        item['labels'] = torch.tensor(self.labels[idx])\n",
    "        return item\n",
    "\n",
    "    def __len__(self):\n",
    "        return len(self.labels)\n",
    "    \n",
    "\n",
    "train_dataset = EmotionDataset(train_encodings, list(train_data[\"label\"]))\n",
    "test_dataset = EmotionDataset(test_encodings, list(test_data[\"label\"]))"
   ]
  },
  {
   "cell_type": "code",
   "execution_count": 19,
   "metadata": {},
   "outputs": [],
   "source": [
    "from transformers import HubertForSequenceClassification\n",
    "from torch.optim import AdamW\n",
    "\n",
    "# Carga del modelo\n",
    "model = HubertForSequenceClassification.from_pretrained(\"superb/hubert-large-superb-er\")\n",
    "model.to(device)\n",
    "\n",
    "# Se elige y carga el optimizador con tasa de aprendizaje de 1e-5\n",
    "optim = AdamW(model.parameters(), lr=1e-5)\n"
   ]
  },
  {
   "cell_type": "code",
   "execution_count": 20,
   "metadata": {},
   "outputs": [],
   "source": [
    "# Función de predicción\n",
    "def predict(outputs):\n",
    "    probabilities = torch.softmax(outputs[\"logits\"], dim=1)\n",
    "    predictions = torch.argmax(probabilities, dim=1)\n",
    "    return predictions\n"
   ]
  },
  {
   "cell_type": "code",
   "execution_count": 21,
   "metadata": {},
   "outputs": [
    {
     "name": "stdout",
     "output_type": "stream",
     "text": [
      "Epoch 1/20\n"
     ]
    },
    {
     "name": "stderr",
     "output_type": "stream",
     "text": [
      "100%|██████████| 480/480 [1:03:33<00:00,  7.94s/it, Loss=0.052, Accuracy=0.330]\n"
     ]
    },
    {
     "name": "stdout",
     "output_type": "stream",
     "text": [
      "Epoch 2/20\n"
     ]
    },
    {
     "name": "stderr",
     "output_type": "stream",
     "text": [
      "100%|██████████| 480/480 [1:02:04<00:00,  7.76s/it, Loss=0.140, Accuracy=0.443]\n"
     ]
    },
    {
     "name": "stdout",
     "output_type": "stream",
     "text": [
      "Epoch 3/20\n"
     ]
    },
    {
     "name": "stderr",
     "output_type": "stream",
     "text": [
      "100%|██████████| 480/480 [1:02:08<00:00,  7.77s/it, Loss=1.674, Accuracy=0.544]\n"
     ]
    },
    {
     "name": "stdout",
     "output_type": "stream",
     "text": [
      "Epoch 4/20\n"
     ]
    },
    {
     "name": "stderr",
     "output_type": "stream",
     "text": [
      "100%|██████████| 480/480 [1:02:13<00:00,  7.78s/it, Loss=0.875, Accuracy=0.620]\n"
     ]
    },
    {
     "name": "stdout",
     "output_type": "stream",
     "text": [
      "Epoch 5/20\n"
     ]
    },
    {
     "name": "stderr",
     "output_type": "stream",
     "text": [
      "100%|██████████| 480/480 [1:02:03<00:00,  7.76s/it, Loss=0.439, Accuracy=0.657]\n"
     ]
    },
    {
     "name": "stdout",
     "output_type": "stream",
     "text": [
      "Epoch 6/20\n"
     ]
    },
    {
     "name": "stderr",
     "output_type": "stream",
     "text": [
      "100%|██████████| 480/480 [1:01:31<00:00,  7.69s/it, Loss=0.300, Accuracy=0.710]\n"
     ]
    },
    {
     "name": "stdout",
     "output_type": "stream",
     "text": [
      "Epoch 7/20\n"
     ]
    },
    {
     "name": "stderr",
     "output_type": "stream",
     "text": [
      "100%|██████████| 480/480 [1:01:10<00:00,  7.65s/it, Loss=0.290, Accuracy=0.757]\n"
     ]
    },
    {
     "name": "stdout",
     "output_type": "stream",
     "text": [
      "Epoch 8/20\n"
     ]
    },
    {
     "name": "stderr",
     "output_type": "stream",
     "text": [
      "100%|██████████| 480/480 [1:01:12<00:00,  7.65s/it, Loss=0.650, Accuracy=0.769]\n"
     ]
    },
    {
     "name": "stdout",
     "output_type": "stream",
     "text": [
      "Epoch 9/20\n"
     ]
    },
    {
     "name": "stderr",
     "output_type": "stream",
     "text": [
      "100%|██████████| 480/480 [1:01:09<00:00,  7.64s/it, Loss=0.172, Accuracy=0.782]\n"
     ]
    },
    {
     "name": "stdout",
     "output_type": "stream",
     "text": [
      "Epoch 10/20\n"
     ]
    },
    {
     "name": "stderr",
     "output_type": "stream",
     "text": [
      "100%|██████████| 480/480 [1:01:17<00:00,  7.66s/it, Loss=1.537, Accuracy=0.828]\n"
     ]
    },
    {
     "name": "stdout",
     "output_type": "stream",
     "text": [
      "Epoch 11/20\n"
     ]
    },
    {
     "name": "stderr",
     "output_type": "stream",
     "text": [
      "100%|██████████| 480/480 [1:01:18<00:00,  7.66s/it, Loss=0.402, Accuracy=0.846]\n"
     ]
    },
    {
     "name": "stdout",
     "output_type": "stream",
     "text": [
      "Epoch 12/20\n"
     ]
    },
    {
     "name": "stderr",
     "output_type": "stream",
     "text": [
      "100%|██████████| 480/480 [1:01:04<00:00,  7.63s/it, Loss=0.170, Accuracy=0.852]\n"
     ]
    },
    {
     "name": "stdout",
     "output_type": "stream",
     "text": [
      "Epoch 13/20\n"
     ]
    },
    {
     "name": "stderr",
     "output_type": "stream",
     "text": [
      "100%|██████████| 480/480 [1:01:04<00:00,  7.63s/it, Loss=0.147, Accuracy=0.877]\n"
     ]
    },
    {
     "name": "stdout",
     "output_type": "stream",
     "text": [
      "Epoch 14/20\n"
     ]
    },
    {
     "name": "stderr",
     "output_type": "stream",
     "text": [
      "100%|██████████| 480/480 [1:01:22<00:00,  7.67s/it, Loss=0.180, Accuracy=0.886]\n"
     ]
    },
    {
     "name": "stdout",
     "output_type": "stream",
     "text": [
      "Epoch 15/20\n"
     ]
    },
    {
     "name": "stderr",
     "output_type": "stream",
     "text": [
      "100%|██████████| 480/480 [1:01:23<00:00,  7.67s/it, Loss=0.108, Accuracy=0.884]\n"
     ]
    },
    {
     "name": "stdout",
     "output_type": "stream",
     "text": [
      "Epoch 16/20\n"
     ]
    },
    {
     "name": "stderr",
     "output_type": "stream",
     "text": [
      "100%|██████████| 480/480 [1:02:15<00:00,  7.78s/it, Loss=0.002, Accuracy=0.911]\n"
     ]
    },
    {
     "name": "stdout",
     "output_type": "stream",
     "text": [
      "Epoch 17/20\n"
     ]
    },
    {
     "name": "stderr",
     "output_type": "stream",
     "text": [
      "100%|██████████| 480/480 [1:05:11<00:00,  8.15s/it, Loss=0.372, Accuracy=0.896]\n"
     ]
    },
    {
     "name": "stdout",
     "output_type": "stream",
     "text": [
      "Epoch 18/20\n"
     ]
    },
    {
     "name": "stderr",
     "output_type": "stream",
     "text": [
      "100%|██████████| 480/480 [1:04:17<00:00,  8.04s/it, Loss=0.019, Accuracy=0.902]\n"
     ]
    },
    {
     "name": "stdout",
     "output_type": "stream",
     "text": [
      "Epoch 19/20\n"
     ]
    },
    {
     "name": "stderr",
     "output_type": "stream",
     "text": [
      "100%|██████████| 480/480 [1:03:28<00:00,  7.93s/it, Loss=0.021, Accuracy=0.915]\n"
     ]
    },
    {
     "name": "stdout",
     "output_type": "stream",
     "text": [
      "Epoch 20/20\n"
     ]
    },
    {
     "name": "stderr",
     "output_type": "stream",
     "text": [
      "100%|██████████| 480/480 [1:03:33<00:00,  7.94s/it, Loss=0.036, Accuracy=0.921]\n"
     ]
    }
   ],
   "source": [
    "# Entrenamiento\n",
    "\n",
    "from torch.utils.data import DataLoader\n",
    "\n",
    "# Se fija el número de epocas para el entrenamiento\n",
    "epoch = 20\n",
    "\n",
    "\n",
    "model.train()\n",
    "\n",
    "train_loss = list()\n",
    "train_accuracies = list()\n",
    "for epoch_i in range(epoch):\n",
    "    print('Epoch %s/%s' % (epoch_i + 1, epoch))\n",
    "    time.sleep(0.3)\n",
    "\n",
    "   \n",
    "    train_loader = DataLoader(train_dataset, batch_size=2, shuffle=True)\n",
    "    \n",
    "    correct = 0\n",
    "    count = 0\n",
    "    epoch_loss = list()\n",
    "    \n",
    "    pbar = tqdm(train_loader)\n",
    "    for batch in pbar:\n",
    "        optim.zero_grad()\n",
    "        input_ids = batch['input_values'].to(device)\n",
    "        attention_mask = batch['attention_mask'].to(device)\n",
    "        labels = batch['labels'].to(device)\n",
    "        outputs = model(input_ids, attention_mask=attention_mask, labels=labels)\n",
    "        loss = outputs['loss']\n",
    "        loss.backward()\n",
    "        optim.step()\n",
    "        \n",
    "        # Se realizan las predicciones\n",
    "        predictions = predict(outputs)\n",
    "\n",
    "        # accuracy\n",
    "        correct += predictions.eq(labels).sum().item()\n",
    "        count += len(labels)\n",
    "        accuracy = correct * 1.0 / count\n",
    "\n",
    "        # se muestra el progreso en una barra y las métricas loss, accuracy\n",
    "        pbar.set_postfix({\n",
    "            'Loss': '{:.3f}'.format(loss.item()),\n",
    "            'Accuracy': '{:.3f}'.format(accuracy)\n",
    "        })\n",
    "        \n",
    "        # Se registran las perdidas para cada batch\n",
    "        epoch_loss.append(loss.item())\n",
    "        \n",
    "    pbar.close()\n",
    "    \n",
    "    # Se registran las perdidas y accuracy para cada epoca\n",
    "    train_loss += epoch_loss\n",
    "    train_accuracies.append(accuracy)"
   ]
  },
  {
   "cell_type": "code",
   "execution_count": 22,
   "metadata": {},
   "outputs": [
    {
     "data": {
      "image/png": "[encoded data removed]",
      "text/plain": [
       "<Figure size 432x288 with 1 Axes>"
      ]
     },
     "metadata": {
      "needs_background": "light"
     },
     "output_type": "display_data"
    },
    {
     "data": {
      "image/png": "[encoded data removed]",
      "text/plain": [
       "<Figure size 432x288 with 1 Axes>"
      ]
     },
     "metadata": {
      "needs_background": "light"
     },
     "output_type": "display_data"
    }
   ],
   "source": [
    "import matplotlib.pyplot as plt\n",
    "import numpy as np\n",
    "\n",
    "# Plot Iteration vs Training Loss\n",
    "plt.plot(train_loss, label=\"Training Loss\")\n",
    "plt.xlabel(\"Iteration\")\n",
    "plt.ylabel(\"Loss\")\n",
    "plt.title(\"Iteration vs Training Loss\")  \n",
    "plt.legend()\n",
    "plt.show()\n",
    "\n",
    "# Plot Epoch vs Training Accuracy\n",
    "acc_X = np.arange(len(train_accuracies))+1                          \n",
    "plt.plot(acc_X, train_accuracies,\"-\", label=\"Training Accuracy\")\n",
    "plt.xticks(acc_X)\n",
    "plt.xlabel(\"Epoch\")\n",
    "plt.ylabel(\"Accuracy\")\n",
    "plt.title(\"Epoch vs Training Accuracy\")  \n",
    "plt.legend()\n",
    "plt.show()\n"
   ]
  },
  {
   "cell_type": "code",
   "execution_count": 23,
   "metadata": {},
   "outputs": [
    {
     "name": "stderr",
     "output_type": "stream",
     "text": [
      "100%|██████████| 240/240 [05:08<00:00,  1.29s/it, loss=0.016, accuracy=0.921] \n"
     ]
    },
    {
     "name": "stdout",
     "output_type": "stream",
     "text": [
      "The final accuracy on the test dataset: 92.0833%\n"
     ]
    }
   ],
   "source": [
    "# Testing\n",
    "from torch.utils.data import DataLoader\n",
    "\n",
    "\n",
    "test_loader = DataLoader(test_dataset, batch_size=1, shuffle=False)\n",
    "\n",
    "# Start testing\n",
    "model.eval()\n",
    "\n",
    "with torch.no_grad():\n",
    "    \n",
    "    correct = 0\n",
    "    count = 0\n",
    "    record = {\"labels\":list(), \"predictions\":list()}\n",
    "    \n",
    "    pbar = tqdm(test_loader)\n",
    "    for batch in pbar:\n",
    "        input_ids = batch['input_values'].to(device)\n",
    "        attention_mask = batch['attention_mask'].to(device)\n",
    "        labels = batch['labels'].to(device)\n",
    "        outputs = model(input_ids, attention_mask=attention_mask, labels=labels)\n",
    "        loss = outputs['loss']\n",
    "        \n",
    "        # make predictions\n",
    "        predictions = predict(outputs)\n",
    "\n",
    "        # count accuracy\n",
    "        correct += predictions.eq(labels).sum().item()\n",
    "        count += len(labels)\n",
    "        accuracy = correct * 1.0 / count\n",
    "\n",
    "        # show progress along with metrics\n",
    "        pbar.set_postfix({\n",
    "            'loss': '{:.3f}'.format(loss.item()),\n",
    "            'accuracy': '{:.3f}'.format(accuracy)\n",
    "        })\n",
    "    \n",
    "        # record the results\n",
    "        record[\"labels\"] += labels.cpu().numpy().tolist()\n",
    "        record[\"predictions\"] += predictions.cpu().numpy().tolist()\n",
    "        \n",
    "    pbar.close()\n",
    "    \n",
    "time.sleep(0.3)\n",
    "print(\"The final accuracy on the test dataset: %s%%\" % round(accuracy*100,4))"
   ]
  },
  {
   "cell_type": "code",
   "execution_count": 24,
   "metadata": {},
   "outputs": [],
   "source": [
    "test_df2['emotion']= test_df2.path.apply(lambda x : x.split('/')[2])"
   ]
  },
  {
   "cell_type": "code",
   "execution_count": 25,
   "metadata": {},
   "outputs": [
    {
     "data": {
      "text/html": [
       "<div>\n",
       "<style scoped>\n",
       "    .dataframe tbody tr th:only-of-type {\n",
       "        vertical-align: middle;\n",
       "    }\n",
       "\n",
       "    .dataframe tbody tr th {\n",
       "        vertical-align: top;\n",
       "    }\n",
       "\n",
       "    .dataframe thead th {\n",
       "        text-align: right;\n",
       "    }\n",
       "</style>\n",
       "<table border=\"1\" class=\"dataframe\">\n",
       "  <thead>\n",
       "    <tr style=\"text-align: right;\">\n",
       "      <th></th>\n",
       "      <th>label</th>\n",
       "      <th>level_1</th>\n",
       "      <th>path</th>\n",
       "      <th>labels</th>\n",
       "      <th>emotion</th>\n",
       "      <th>Model Prediction</th>\n",
       "    </tr>\n",
       "  </thead>\n",
       "  <tbody>\n",
       "    <tr>\n",
       "      <th>0</th>\n",
       "      <td>0</td>\n",
       "      <td>1642</td>\n",
       "      <td>Emotions/input/Angry\\1091_MTI_ANG_XX.wav</td>\n",
       "      <td>0</td>\n",
       "      <td>Ang</td>\n",
       "      <td>neu</td>\n",
       "    </tr>\n",
       "    <tr>\n",
       "      <th>1</th>\n",
       "      <td>0</td>\n",
       "      <td>1449</td>\n",
       "      <td>Emotions/input/Angry\\1077_TSI_ANG_XX.wav</td>\n",
       "      <td>0</td>\n",
       "      <td>Ang</td>\n",
       "      <td>neu</td>\n",
       "    </tr>\n",
       "    <tr>\n",
       "      <th>2</th>\n",
       "      <td>0</td>\n",
       "      <td>1054</td>\n",
       "      <td>Emotions/input/Angry\\1049_MTI_ANG_XX.wav</td>\n",
       "      <td>0</td>\n",
       "      <td>Ang</td>\n",
       "      <td>neu</td>\n",
       "    </tr>\n",
       "    <tr>\n",
       "      <th>3</th>\n",
       "      <td>0</td>\n",
       "      <td>522</td>\n",
       "      <td>Emotions/input/Angry\\1011_IWW_ANG_XX.wav</td>\n",
       "      <td>0</td>\n",
       "      <td>Ang</td>\n",
       "      <td>sad</td>\n",
       "    </tr>\n",
       "    <tr>\n",
       "      <th>4</th>\n",
       "      <td>0</td>\n",
       "      <td>1189</td>\n",
       "      <td>Emotions/input/Angry\\1059_IOM_ANG_XX.wav</td>\n",
       "      <td>0</td>\n",
       "      <td>Ang</td>\n",
       "      <td>neu</td>\n",
       "    </tr>\n",
       "    <tr>\n",
       "      <th>...</th>\n",
       "      <td>...</td>\n",
       "      <td>...</td>\n",
       "      <td>...</td>\n",
       "      <td>...</td>\n",
       "      <td>...</td>\n",
       "      <td>...</td>\n",
       "    </tr>\n",
       "    <tr>\n",
       "      <th>235</th>\n",
       "      <td>3</td>\n",
       "      <td>7473</td>\n",
       "      <td>Emotions/input/Happy\\1074_IEO_HAP_HI.wav</td>\n",
       "      <td>3</td>\n",
       "      <td>Hap</td>\n",
       "      <td>neu</td>\n",
       "    </tr>\n",
       "    <tr>\n",
       "      <th>236</th>\n",
       "      <td>3</td>\n",
       "      <td>7227</td>\n",
       "      <td>Emotions/input/Happy\\1056_IWL_HAP_XX.wav</td>\n",
       "      <td>3</td>\n",
       "      <td>Hap</td>\n",
       "      <td>sad</td>\n",
       "    </tr>\n",
       "    <tr>\n",
       "      <th>237</th>\n",
       "      <td>3</td>\n",
       "      <td>7422</td>\n",
       "      <td>Emotions/input/Happy\\1070_ITS_HAP_XX.wav</td>\n",
       "      <td>3</td>\n",
       "      <td>Hap</td>\n",
       "      <td>sad</td>\n",
       "    </tr>\n",
       "    <tr>\n",
       "      <th>238</th>\n",
       "      <td>3</td>\n",
       "      <td>6743</td>\n",
       "      <td>Emotions/input/Happy\\1021_WSI_HAP_XX.wav</td>\n",
       "      <td>3</td>\n",
       "      <td>Hap</td>\n",
       "      <td>sad</td>\n",
       "    </tr>\n",
       "    <tr>\n",
       "      <th>239</th>\n",
       "      <td>3</td>\n",
       "      <td>6586</td>\n",
       "      <td>Emotions/input/Happy\\1010_MTI_HAP_XX.wav</td>\n",
       "      <td>3</td>\n",
       "      <td>Hap</td>\n",
       "      <td>sad</td>\n",
       "    </tr>\n",
       "  </tbody>\n",
       "</table>\n",
       "<p>240 rows × 6 columns</p>\n",
       "</div>"
      ],
      "text/plain": [
       "     label  level_1                                      path  labels emotion  \\\n",
       "0        0     1642  Emotions/input/Angry\\1091_MTI_ANG_XX.wav       0     Ang   \n",
       "1        0     1449  Emotions/input/Angry\\1077_TSI_ANG_XX.wav       0     Ang   \n",
       "2        0     1054  Emotions/input/Angry\\1049_MTI_ANG_XX.wav       0     Ang   \n",
       "3        0      522  Emotions/input/Angry\\1011_IWW_ANG_XX.wav       0     Ang   \n",
       "4        0     1189  Emotions/input/Angry\\1059_IOM_ANG_XX.wav       0     Ang   \n",
       "..     ...      ...                                       ...     ...     ...   \n",
       "235      3     7473  Emotions/input/Happy\\1074_IEO_HAP_HI.wav       3     Hap   \n",
       "236      3     7227  Emotions/input/Happy\\1056_IWL_HAP_XX.wav       3     Hap   \n",
       "237      3     7422  Emotions/input/Happy\\1070_ITS_HAP_XX.wav       3     Hap   \n",
       "238      3     6743  Emotions/input/Happy\\1021_WSI_HAP_XX.wav       3     Hap   \n",
       "239      3     6586  Emotions/input/Happy\\1010_MTI_HAP_XX.wav       3     Hap   \n",
       "\n",
       "    Model Prediction  \n",
       "0                neu  \n",
       "1                neu  \n",
       "2                neu  \n",
       "3                sad  \n",
       "4                neu  \n",
       "..               ...  \n",
       "235              neu  \n",
       "236              sad  \n",
       "237              sad  \n",
       "238              sad  \n",
       "239              sad  \n",
       "\n",
       "[240 rows x 6 columns]"
      ]
     },
     "execution_count": 25,
     "metadata": {},
     "output_type": "execute_result"
    }
   ],
   "source": [
    "# Se convierten los registros del test en objetos del DataFrame de pandas\n",
    "from pandas.core.frame import DataFrame\n",
    "\n",
    "df_record = DataFrame(record)\n",
    "df_record.columns = [\"Ground Truth\",\"Model Prediction\"]\n",
    "\n",
    "def get_emotion(label_id):\n",
    "    return model.config.id2label[label_id]\n",
    "    \n",
    "df_record[\"Ground Truth\"] = df_record.apply(lambda x: get_emotion(x[\"Ground Truth\"]), axis=1)\n",
    "df_record[\"Model Prediction\"] = df_record.apply(lambda x: get_emotion(x[\"Model Prediction\"]), axis=1)\n",
    "\n",
    "df = pd.concat([test_df2.reset_index(), df_record[\"Model Prediction\"]], axis=1)\n",
    "df[\"emotion\"] = df.apply(lambda x: x[\"emotion\"][:3], axis=1)\n",
    "\n",
    "\n",
    "# Se muestan las predicciones incorrectas\n",
    "df[df[\"emotion\"]!=df[\"Model Prediction\"]]\n"
   ]
  },
  {
   "cell_type": "code",
   "execution_count": 26,
   "metadata": {},
   "outputs": [
    {
     "data": {
      "text/plain": [
       "neu    70\n",
       "ang    60\n",
       "hap    57\n",
       "sad    53\n",
       "Name: Model Prediction, dtype: int64"
      ]
     },
     "execution_count": 26,
     "metadata": {},
     "output_type": "execute_result"
    }
   ],
   "source": [
    "df['Model Prediction'].value_counts()"
   ]
  },
  {
   "cell_type": "code",
   "execution_count": 27,
   "metadata": {},
   "outputs": [
    {
     "data": {
      "image/png": "[encoded data removed]",
      "text/plain": [
       "<Figure size 432x288 with 2 Axes>"
      ]
     },
     "metadata": {
      "needs_background": "light"
     },
     "output_type": "display_data"
    }
   ],
   "source": [
    "# Confusion Matrix\n",
    "import seaborn as sns\n",
    "\n",
    "crosstab = pd.crosstab(df_record[\"Ground Truth\"],df_record[\"Model Prediction\"])\n",
    "sns.heatmap(crosstab, cmap='Oranges', annot=True, fmt='g', linewidths=5)\n",
    "accuracy = df_record[\"Ground Truth\"].eq(df_record[\"Model Prediction\"]).sum() / len(df_record[\"Ground Truth\"])\n",
    "plt.title(\"Confusion Matrix (Accuracy: %s%%)\" % round(accuracy*100,2))\n",
    "plt.show()"
   ]
  }
 ],
 "metadata": {
  "kernelspec": {
   "display_name": "Python 3.8.8 ('base')",
   "language": "python",
   "name": "python3"
  },
  "language_info": {
   "codemirror_mode": {
    "name": "ipython",
    "version": 3
   },
   "file_extension": ".py",
   "mimetype": "text/x-python",
   "name": "python",
   "nbconvert_exporter": "python",
   "pygments_lexer": "ipython3",
   "version": "3.8.8"
  },
  "orig_nbformat": 4,
  "vscode": {
   "interpreter": {
    "hash": "ad2bdc8ecc057115af97d19610ffacc2b4e99fae6737bb82f5d7fb13d2f2c186"
   }
  }
 },
 "nbformat": 4,
 "nbformat_minor": 2
}
