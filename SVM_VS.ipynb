{
  "cells": [
    {
      "cell_type": "code",
      "execution_count": 1,
      "metadata": {},
      "outputs": [
        {
          "name": "stdout",
          "output_type": "stream",
          "text": [
            "Requirement already satisfied: librosa in c:\\users\\dandr\\anaconda3\\lib\\site-packages (0.9.2)\n",
            "Requirement already satisfied: numpy>=1.17.0 in c:\\users\\dandr\\anaconda3\\lib\\site-packages (from librosa) (1.21.5)\n",
            "Requirement already satisfied: audioread>=2.1.9 in c:\\users\\dandr\\anaconda3\\lib\\site-packages (from librosa) (3.0.0)\n",
            "Requirement already satisfied: decorator>=4.0.10 in c:\\users\\dandr\\anaconda3\\lib\\site-packages (from librosa) (5.1.1)\n",
            "Requirement already satisfied: resampy>=0.2.2 in c:\\users\\dandr\\anaconda3\\lib\\site-packages (from librosa) (0.4.2)\n",
            "Requirement already satisfied: scikit-learn>=0.19.1 in c:\\users\\dandr\\anaconda3\\lib\\site-packages (from librosa) (1.0.2)\n",
            "Requirement already satisfied: packaging>=20.0 in c:\\users\\dandr\\anaconda3\\lib\\site-packages (from librosa) (21.3)\n",
            "Requirement already satisfied: pooch>=1.0 in c:\\users\\dandr\\anaconda3\\lib\\site-packages (from librosa) (1.6.0)\n",
            "Requirement already satisfied: soundfile>=0.10.2 in c:\\users\\dandr\\anaconda3\\lib\\site-packages (from librosa) (0.11.0)\n",
            "Requirement already satisfied: joblib>=0.14 in c:\\users\\dandr\\anaconda3\\lib\\site-packages (from librosa) (1.1.0)\n",
            "Requirement already satisfied: scipy>=1.2.0 in c:\\users\\dandr\\anaconda3\\lib\\site-packages (from librosa) (1.7.3)\n",
            "Requirement already satisfied: numba>=0.45.1 in c:\\users\\dandr\\anaconda3\\lib\\site-packages (from librosa) (0.55.1)\n",
            "Requirement already satisfied: setuptools in c:\\users\\dandr\\anaconda3\\lib\\site-packages (from numba>=0.45.1->librosa) (61.2.0)\n",
            "Requirement already satisfied: llvmlite<0.39,>=0.38.0rc1 in c:\\users\\dandr\\anaconda3\\lib\\site-packages (from numba>=0.45.1->librosa) (0.38.0)\n",
            "Requirement already satisfied: pyparsing!=3.0.5,>=2.0.2 in c:\\users\\dandr\\anaconda3\\lib\\site-packages (from packaging>=20.0->librosa) (3.0.4)\n",
            "Requirement already satisfied: requests>=2.19.0 in c:\\users\\dandr\\anaconda3\\lib\\site-packages (from pooch>=1.0->librosa) (2.27.1)\n",
            "Requirement already satisfied: appdirs>=1.3.0 in c:\\users\\dandr\\anaconda3\\lib\\site-packages (from pooch>=1.0->librosa) (1.4.4)\n",
            "Requirement already satisfied: charset-normalizer~=2.0.0 in c:\\users\\dandr\\anaconda3\\lib\\site-packages (from requests>=2.19.0->pooch>=1.0->librosa) (2.0.4)\n",
            "Requirement already satisfied: certifi>=2017.4.17 in c:\\users\\dandr\\anaconda3\\lib\\site-packages (from requests>=2.19.0->pooch>=1.0->librosa) (2021.10.8)\n",
            "Requirement already satisfied: idna<4,>=2.5 in c:\\users\\dandr\\anaconda3\\lib\\site-packages (from requests>=2.19.0->pooch>=1.0->librosa) (3.3)\n",
            "Requirement already satisfied: urllib3<1.27,>=1.21.1 in c:\\users\\dandr\\anaconda3\\lib\\site-packages (from requests>=2.19.0->pooch>=1.0->librosa) (1.26.9)\n",
            "Requirement already satisfied: threadpoolctl>=2.0.0 in c:\\users\\dandr\\anaconda3\\lib\\site-packages (from scikit-learn>=0.19.1->librosa) (2.2.0)\n",
            "Requirement already satisfied: cffi>=1.0 in c:\\users\\dandr\\anaconda3\\lib\\site-packages (from soundfile>=0.10.2->librosa) (1.15.0)\n",
            "Requirement already satisfied: pycparser in c:\\users\\dandr\\anaconda3\\lib\\site-packages (from cffi>=1.0->soundfile>=0.10.2->librosa) (2.21)\n"
          ]
        }
      ],
      "source": [
        "!pip install librosa\n"
      ]
    },
    {
      "cell_type": "code",
      "execution_count": 32,
      "metadata": {
        "id": "j1vJcuKpYpDk"
      },
      "outputs": [],
      "source": [
        "import numpy as np\n",
        "import pandas as pd\n",
        "\n",
        "import os\n",
        "\n",
        "from matplotlib import pyplot as plt\n",
        "from matplotlib.pyplot import specgram\n",
        "\n",
        "import librosa\n",
        "import librosa.display\n",
        "import IPython.display as ipd\n",
        "from IPython.display import Audio\n",
        "\n",
        "from sklearn.svm import SVC\n",
        "from sklearn import preprocessing\n",
        "from sklearn.model_selection import train_test_split, cross_validate\n",
        "from sklearn.model_selection import KFold\n",
        "from sklearn.metrics import classification_report\n",
        "from sklearn.metrics import confusion_matrix,accuracy_score, precision_score, recall_score, f1_score\n",
        "from sklearn.preprocessing import StandardScaler\n",
        "import seaborn as sns\n",
        "from sklearn.model_selection import GridSearchCV\n",
        "\n",
        "from tensorflow import keras\n",
        "from keras import layers\n",
        "from keras.layers import LSTM, Dense, Dropout\n",
        "from keras.utils import to_categorical"
      ]
    },
    {
      "cell_type": "code",
      "execution_count": 3,
      "metadata": {
        "colab": {
          "base_uri": "https://localhost:8080/"
        },
        "id": "gO35d08RaT_x",
        "outputId": "c296dd5e-76b4-4f47-a4d6-20877612816d"
      },
      "outputs": [
        {
          "name": "stdout",
          "output_type": "stream",
          "text": [
            "C:\\Users\\dandr\\OneDrive\\Documents\\DanielAndrés\\Academico\\Maestria Sistemas\\202202 Semestre\\Aprendizaje de Maquinas\\Proyecto\n"
          ]
        }
      ],
      "source": [
        "%cd C:/Users/dandr/OneDrive/Documents/DanielAndrés/Academico/Maestria Sistemas/202202 Semestre/Aprendizaje de Maquinas/Proyecto"
      ]
    },
    {
      "cell_type": "code",
      "execution_count": 4,
      "metadata": {
        "id": "hvPvghQUaJ9f"
      },
      "outputs": [],
      "source": [
        "paths=[]\n",
        "labels=[]\n",
        "\n",
        "for dirname, _, filenames in os.walk('./Emotions/'):\n",
        "    for filename in filenames:\n",
        "        paths.append(os.path.join(dirname, filename))\n",
        "        label = filename[::-1].split('.')[0][::-1]\n",
        "        name = dirname[::].split('/')[2]\n",
        "        name_complete = name+'.'+label\n",
        "        labels.append(name_complete.lower())"
      ]
    },
    {
      "cell_type": "code",
      "execution_count": 5,
      "metadata": {
        "colab": {
          "base_uri": "https://localhost:8080/",
          "height": 363
        },
        "id": "Dq1VZCBQbNSu",
        "outputId": "78f09205-b346-41c6-dc72-c82e67075b6e"
      },
      "outputs": [
        {
          "data": {
            "text/html": [
              "<div>\n",
              "<style scoped>\n",
              "    .dataframe tbody tr th:only-of-type {\n",
              "        vertical-align: middle;\n",
              "    }\n",
              "\n",
              "    .dataframe tbody tr th {\n",
              "        vertical-align: top;\n",
              "    }\n",
              "\n",
              "    .dataframe thead th {\n",
              "        text-align: right;\n",
              "    }\n",
              "</style>\n",
              "<table border=\"1\" class=\"dataframe\">\n",
              "  <thead>\n",
              "    <tr style=\"text-align: right;\">\n",
              "      <th></th>\n",
              "      <th>speech</th>\n",
              "      <th>label</th>\n",
              "    </tr>\n",
              "  </thead>\n",
              "  <tbody>\n",
              "    <tr>\n",
              "      <th>9895</th>\n",
              "      <td>./Emotions/Neutral\\YAF_hash_neutral.wav</td>\n",
              "      <td>neutral.wav</td>\n",
              "    </tr>\n",
              "    <tr>\n",
              "      <th>8282</th>\n",
              "      <td>./Emotions/Neutral\\03-01-01-01-01-02-17.wav</td>\n",
              "      <td>neutral.wav</td>\n",
              "    </tr>\n",
              "    <tr>\n",
              "      <th>5607</th>\n",
              "      <td>./Emotions/Fearful\\1087_DFA_FEA_XX.wav</td>\n",
              "      <td>fearful.wav</td>\n",
              "    </tr>\n",
              "    <tr>\n",
              "      <th>5345</th>\n",
              "      <td>./Emotions/Fearful\\1068_IOM_FEA_XX.wav</td>\n",
              "      <td>fearful.wav</td>\n",
              "    </tr>\n",
              "    <tr>\n",
              "      <th>2093</th>\n",
              "      <td>./Emotions/Angry\\YAF_pool_angry.wav</td>\n",
              "      <td>angry.wav</td>\n",
              "    </tr>\n",
              "    <tr>\n",
              "      <th>4411</th>\n",
              "      <td>./Emotions/Fearful\\1001_ITH_FEA_XX.wav</td>\n",
              "      <td>fearful.wav</td>\n",
              "    </tr>\n",
              "    <tr>\n",
              "      <th>12023</th>\n",
              "      <td>./Emotions/Sad\\YAF_chair_sad.wav</td>\n",
              "      <td>sad.wav</td>\n",
              "    </tr>\n",
              "    <tr>\n",
              "      <th>2125</th>\n",
              "      <td>./Emotions/Angry\\YAF_soup_angry.wav</td>\n",
              "      <td>angry.wav</td>\n",
              "    </tr>\n",
              "    <tr>\n",
              "      <th>7479</th>\n",
              "      <td>./Emotions/Happy\\1074_IWL_HAP_XX.wav</td>\n",
              "      <td>happy.wav</td>\n",
              "    </tr>\n",
              "    <tr>\n",
              "      <th>7413</th>\n",
              "      <td>./Emotions/Happy\\1069_TIE_HAP_XX.wav</td>\n",
              "      <td>happy.wav</td>\n",
              "    </tr>\n",
              "  </tbody>\n",
              "</table>\n",
              "</div>"
            ],
            "text/plain": [
              "                                            speech        label\n",
              "9895       ./Emotions/Neutral\\YAF_hash_neutral.wav  neutral.wav\n",
              "8282   ./Emotions/Neutral\\03-01-01-01-01-02-17.wav  neutral.wav\n",
              "5607        ./Emotions/Fearful\\1087_DFA_FEA_XX.wav  fearful.wav\n",
              "5345        ./Emotions/Fearful\\1068_IOM_FEA_XX.wav  fearful.wav\n",
              "2093           ./Emotions/Angry\\YAF_pool_angry.wav    angry.wav\n",
              "4411        ./Emotions/Fearful\\1001_ITH_FEA_XX.wav  fearful.wav\n",
              "12023             ./Emotions/Sad\\YAF_chair_sad.wav      sad.wav\n",
              "2125           ./Emotions/Angry\\YAF_soup_angry.wav    angry.wav\n",
              "7479          ./Emotions/Happy\\1074_IWL_HAP_XX.wav    happy.wav\n",
              "7413          ./Emotions/Happy\\1069_TIE_HAP_XX.wav    happy.wav"
            ]
          },
          "execution_count": 5,
          "metadata": {},
          "output_type": "execute_result"
        }
      ],
      "source": [
        "data = pd.DataFrame({'speech':paths,'label':labels})\n",
        "data.sample(10)"
      ]
    },
    {
      "cell_type": "code",
      "execution_count": 6,
      "metadata": {
        "id": "avBbRgqKcP1B"
      },
      "outputs": [],
      "source": [
        "label_encoder = preprocessing.LabelEncoder()\n",
        "data['label'] = data['label'].apply(lambda x: str(x).split('.wav')[0])\n",
        "data['label']= label_encoder.fit_transform(data['label'])"
      ]
    },
    {
      "cell_type": "code",
      "execution_count": 7,
      "metadata": {
        "colab": {
          "base_uri": "https://localhost:8080/",
          "height": 206
        },
        "id": "sX2BXmRgdLjq",
        "outputId": "2e502fcc-e5a6-4ec6-ea76-11faa3b77ec8"
      },
      "outputs": [
        {
          "data": {
            "text/html": [
              "<div>\n",
              "<style scoped>\n",
              "    .dataframe tbody tr th:only-of-type {\n",
              "        vertical-align: middle;\n",
              "    }\n",
              "\n",
              "    .dataframe tbody tr th {\n",
              "        vertical-align: top;\n",
              "    }\n",
              "\n",
              "    .dataframe thead th {\n",
              "        text-align: right;\n",
              "    }\n",
              "</style>\n",
              "<table border=\"1\" class=\"dataframe\">\n",
              "  <thead>\n",
              "    <tr style=\"text-align: right;\">\n",
              "      <th></th>\n",
              "      <th>speech</th>\n",
              "      <th>label</th>\n",
              "    </tr>\n",
              "  </thead>\n",
              "  <tbody>\n",
              "    <tr>\n",
              "      <th>0</th>\n",
              "      <td>./Emotions/Angry\\03-01-05-01-01-01-01.wav</td>\n",
              "      <td>0</td>\n",
              "    </tr>\n",
              "    <tr>\n",
              "      <th>1</th>\n",
              "      <td>./Emotions/Angry\\03-01-05-01-01-01-02.wav</td>\n",
              "      <td>0</td>\n",
              "    </tr>\n",
              "    <tr>\n",
              "      <th>2</th>\n",
              "      <td>./Emotions/Angry\\03-01-05-01-01-01-03.wav</td>\n",
              "      <td>0</td>\n",
              "    </tr>\n",
              "    <tr>\n",
              "      <th>3</th>\n",
              "      <td>./Emotions/Angry\\03-01-05-01-01-01-04.wav</td>\n",
              "      <td>0</td>\n",
              "    </tr>\n",
              "    <tr>\n",
              "      <th>4</th>\n",
              "      <td>./Emotions/Angry\\03-01-05-01-01-01-05.wav</td>\n",
              "      <td>0</td>\n",
              "    </tr>\n",
              "  </tbody>\n",
              "</table>\n",
              "</div>"
            ],
            "text/plain": [
              "                                      speech  label\n",
              "0  ./Emotions/Angry\\03-01-05-01-01-01-01.wav      0\n",
              "1  ./Emotions/Angry\\03-01-05-01-01-01-02.wav      0\n",
              "2  ./Emotions/Angry\\03-01-05-01-01-01-03.wav      0\n",
              "3  ./Emotions/Angry\\03-01-05-01-01-01-04.wav      0\n",
              "4  ./Emotions/Angry\\03-01-05-01-01-01-05.wav      0"
            ]
          },
          "execution_count": 7,
          "metadata": {},
          "output_type": "execute_result"
        }
      ],
      "source": [
        "data.head()"
      ]
    },
    {
      "cell_type": "code",
      "execution_count": 8,
      "metadata": {
        "colab": {
          "base_uri": "https://localhost:8080/"
        },
        "id": "ewHLJsHafPrJ",
        "outputId": "a6de4d4f-7e57-4ad8-ff27-a8f87d4e5550"
      },
      "outputs": [
        {
          "data": {
            "text/plain": [
              "[0, 1, 2, 3, 4, 5, 6]"
            ]
          },
          "execution_count": 8,
          "metadata": {},
          "output_type": "execute_result"
        }
      ],
      "source": [
        "data['label'].unique().tolist()"
      ]
    },
    {
      "cell_type": "code",
      "execution_count": 9,
      "metadata": {
        "id": "PU_ClEiTfYNX"
      },
      "outputs": [],
      "source": [
        "def MFCC(filename):\n",
        "    y, sr = librosa.load(filename,duration=3,offset=0.5)\n",
        "    return np.mean(librosa.feature.mfcc(y=y,sr=sr,n_mfcc=40).T,axis=0)\n",
        "\n",
        "mfcc= data['speech'].apply(lambda x:MFCC(x))"
      ]
    },
    {
      "cell_type": "code",
      "execution_count": 27,
      "metadata": {},
      "outputs": [],
      "source": [
        "np.save('mfcc.npy', mfcc)"
      ]
    },
    {
      "cell_type": "code",
      "execution_count": 29,
      "metadata": {
        "colab": {
          "base_uri": "https://localhost:8080/"
        },
        "id": "zM1s8kbNhtJ3",
        "outputId": "a7fada01-710e-48c5-d0bb-917e259de5e4"
      },
      "outputs": [
        {
          "data": {
            "text/plain": [
              "0        [-492.3691, 56.363403, -9.584242, 18.014067, -...\n",
              "1        [-527.9743, 54.69438, -14.746856, 8.957756, -9...\n",
              "2        [-557.1632, 79.16915, -1.0876596, 23.747974, 1...\n",
              "3        [-523.06934, 43.876232, -14.765749, 5.915091, ...\n",
              "4        [-473.48077, 75.53822, -19.6035, 10.482581, 4....\n",
              "                               ...                        \n",
              "12793    [-376.5839, 63.959797, -3.0598657, 11.498796, ...\n",
              "12794    [-355.02838, 87.61325, -22.081991, 2.3526454, ...\n",
              "12795    [-345.9045, 62.633904, 2.1816177, 3.6597912, -...\n",
              "12796    [-334.6705, 80.249825, -32.716793, 3.8717272, ...\n",
              "12797    [-376.12756, 63.290413, -6.5078444, 16.757233,...\n",
              "Name: speech, Length: 12798, dtype: object"
            ]
          },
          "execution_count": 29,
          "metadata": {},
          "output_type": "execute_result"
        }
      ],
      "source": [
        "mfcc"
      ]
    },
    {
      "cell_type": "code",
      "execution_count": 11,
      "metadata": {
        "colab": {
          "base_uri": "https://localhost:8080/"
        },
        "id": "-Zx9nnfdhwPv",
        "outputId": "e83c8f09-14b6-4060-c9ca-308fd5220924"
      },
      "outputs": [
        {
          "name": "stdout",
          "output_type": "stream",
          "text": [
            "Cantidad de Registros de Audio: (12798,)\n"
          ]
        }
      ],
      "source": [
        "print(f'Cantidad de Registros de Audio: {mfcc.shape}')"
      ]
    },
    {
      "cell_type": "code",
      "execution_count": 12,
      "metadata": {
        "id": "f69A-IQmh4Nj"
      },
      "outputs": [],
      "source": [
        "import numpy as np\n",
        "X = np.asarray(mfcc.to_list())\n",
        "y = np.asarray(data['label'])"
      ]
    },
    {
      "cell_type": "code",
      "execution_count": 13,
      "metadata": {
        "colab": {
          "base_uri": "https://localhost:8080/"
        },
        "id": "w-xExQHGh7dW",
        "outputId": "06a83208-f514-41b1-c59e-012b8c69dfe1"
      },
      "outputs": [
        {
          "data": {
            "text/plain": [
              "array([[-4.9236911e+02,  5.6363403e+01, -9.5842419e+00, ...,\n",
              "        -3.0204344e-01, -4.6737876e+00, -1.5017204e+00],\n",
              "       [-5.2797430e+02,  5.4694382e+01, -1.4746856e+01, ...,\n",
              "         1.8938642e+00,  4.9922967e-01,  1.0369350e+00],\n",
              "       [-5.5716321e+02,  7.9169151e+01, -1.0876596e+00, ...,\n",
              "        -2.7364600e+00, -6.0165200e+00, -1.7894464e+00],\n",
              "       ...,\n",
              "       [-3.4590451e+02,  6.2633904e+01,  2.1816177e+00, ...,\n",
              "         3.1764922e+00, -1.4632544e-01,  2.7278659e+00],\n",
              "       [-3.3467050e+02,  8.0249825e+01, -3.2716793e+01, ...,\n",
              "         6.3607258e-01,  1.6670488e+00,  3.2698379e+00],\n",
              "       [-3.7612756e+02,  6.3290413e+01, -6.5078444e+00, ...,\n",
              "         5.6975141e+00,  3.1801865e+00,  2.4653609e+00]], dtype=float32)"
            ]
          },
          "execution_count": 13,
          "metadata": {},
          "output_type": "execute_result"
        }
      ],
      "source": [
        "X"
      ]
    },
    {
      "cell_type": "code",
      "execution_count": 14,
      "metadata": {
        "colab": {
          "base_uri": "https://localhost:8080/"
        },
        "id": "ysWz3hDfj8vU",
        "outputId": "8d1441de-54d7-452d-e5a1-476028045742"
      },
      "outputs": [
        {
          "data": {
            "text/plain": [
              "array([0, 0, 0, ..., 6, 6, 6])"
            ]
          },
          "execution_count": 14,
          "metadata": {},
          "output_type": "execute_result"
        }
      ],
      "source": [
        "y"
      ]
    },
    {
      "cell_type": "code",
      "execution_count": 41,
      "metadata": {},
      "outputs": [],
      "source": [
        "np.save('X_SVM.npy', X)\n",
        "np.save('y_SVM.npy', y)"
      ]
    },
    {
      "cell_type": "code",
      "execution_count": 15,
      "metadata": {
        "id": "wOVXFlf3j9mS"
      },
      "outputs": [],
      "source": [
        "sc = StandardScaler()\n",
        "X = sc.fit_transform(X)"
      ]
    },
    {
      "cell_type": "code",
      "execution_count": 16,
      "metadata": {
        "colab": {
          "base_uri": "https://localhost:8080/"
        },
        "id": "GkRLc3g_kJbB",
        "outputId": "55bb6268-d132-4b32-b02d-b15045377476"
      },
      "outputs": [
        {
          "name": "stdout",
          "output_type": "stream",
          "text": [
            "Dimensiones mfcc:(12798, 40)\n",
            "Dimensiones label:(12798,)\n"
          ]
        }
      ],
      "source": [
        "print(f'Dimensiones mfcc:{X.shape}')\n",
        "print(f'Dimensiones label:{y.shape}')"
      ]
    },
    {
      "cell_type": "code",
      "execution_count": 17,
      "metadata": {
        "id": "IEfEo3XJlQZF"
      },
      "outputs": [],
      "source": [
        "X_train, X_test, y_train, y_test = train_test_split(X, y, test_size=0.1, random_state=42)"
      ]
    },
    {
      "cell_type": "code",
      "execution_count": 18,
      "metadata": {
        "id": "XhWJAP7imCXc"
      },
      "outputs": [],
      "source": [
        "svc_model=SVC(gamma='auto')"
      ]
    },
    {
      "cell_type": "code",
      "execution_count": 19,
      "metadata": {
        "id": "iTdeWOhnlVqU"
      },
      "outputs": [],
      "source": [
        "parameters = {\n",
        "    'C': [i/10 for i in range(1,11)],\n",
        "    'kernel': ['linear', 'poly', 'rbf', 'sigmoid'],\n",
        "    'gamma': ['scale', 'auto',1/10,1/20]\n",
        "}"
      ]
    },
    {
      "cell_type": "code",
      "execution_count": 20,
      "metadata": {
        "id": "LozcArYkl4po"
      },
      "outputs": [],
      "source": [
        "grid = GridSearchCV(estimator=svc_model,\n",
        "                    param_grid=parameters,\n",
        "                    scoring=['balanced_accuracy','f1_weighted'],\n",
        "                    refit= 'balanced_accuracy',\n",
        "                    verbose=4,\n",
        "                    cv=3)"
      ]
    },
    {
      "cell_type": "code",
      "execution_count": 21,
      "metadata": {
        "colab": {
          "base_uri": "https://localhost:8080/"
        },
        "id": "q3s6l3wal8Ku",
        "outputId": "ac5d2295-e6f6-4001-aac3-87602fb5761a"
      },
      "outputs": [
        {
          "name": "stdout",
          "output_type": "stream",
          "text": [
            "Fitting 3 folds for each of 160 candidates, totalling 480 fits\n",
            "[CV 1/3] END C=0.1, gamma=scale, kernel=linear; balanced_accuracy: (test=0.512) f1_weighted: (test=0.498) total time=   4.0s\n",
            "[CV 2/3] END C=0.1, gamma=scale, kernel=linear; balanced_accuracy: (test=0.513) f1_weighted: (test=0.490) total time=   3.7s\n",
            "[CV 3/3] END C=0.1, gamma=scale, kernel=linear; balanced_accuracy: (test=0.522) f1_weighted: (test=0.504) total time=   3.8s\n",
            "[CV 1/3] END C=0.1, gamma=scale, kernel=poly; balanced_accuracy: (test=0.495) f1_weighted: (test=0.496) total time=   4.2s\n",
            "[CV 2/3] END C=0.1, gamma=scale, kernel=poly; balanced_accuracy: (test=0.490) f1_weighted: (test=0.489) total time=   4.2s\n",
            "[CV 3/3] END C=0.1, gamma=scale, kernel=poly; balanced_accuracy: (test=0.509) f1_weighted: (test=0.510) total time=   4.3s\n",
            "[CV 1/3] END C=0.1, gamma=scale, kernel=rbf; balanced_accuracy: (test=0.564) f1_weighted: (test=0.544) total time=   7.2s\n",
            "[CV 2/3] END C=0.1, gamma=scale, kernel=rbf; balanced_accuracy: (test=0.556) f1_weighted: (test=0.536) total time=   7.1s\n",
            "[CV 3/3] END C=0.1, gamma=scale, kernel=rbf; balanced_accuracy: (test=0.552) f1_weighted: (test=0.535) total time=   7.1s\n",
            "[CV 1/3] END C=0.1, gamma=scale, kernel=sigmoid; balanced_accuracy: (test=0.226) f1_weighted: (test=0.241) total time=   5.5s\n",
            "[CV 2/3] END C=0.1, gamma=scale, kernel=sigmoid; balanced_accuracy: (test=0.216) f1_weighted: (test=0.233) total time=   5.5s\n",
            "[CV 3/3] END C=0.1, gamma=scale, kernel=sigmoid; balanced_accuracy: (test=0.217) f1_weighted: (test=0.233) total time=   5.5s\n",
            "[CV 1/3] END C=0.1, gamma=auto, kernel=linear; balanced_accuracy: (test=0.512) f1_weighted: (test=0.498) total time=   3.7s\n",
            "[CV 2/3] END C=0.1, gamma=auto, kernel=linear; balanced_accuracy: (test=0.513) f1_weighted: (test=0.490) total time=   3.7s\n",
            "[CV 3/3] END C=0.1, gamma=auto, kernel=linear; balanced_accuracy: (test=0.522) f1_weighted: (test=0.504) total time=   3.7s\n",
            "[CV 1/3] END C=0.1, gamma=auto, kernel=poly; balanced_accuracy: (test=0.495) f1_weighted: (test=0.496) total time=   4.8s\n",
            "[CV 2/3] END C=0.1, gamma=auto, kernel=poly; balanced_accuracy: (test=0.490) f1_weighted: (test=0.489) total time=   4.6s\n",
            "[CV 3/3] END C=0.1, gamma=auto, kernel=poly; balanced_accuracy: (test=0.507) f1_weighted: (test=0.508) total time=   5.3s\n",
            "[CV 1/3] END C=0.1, gamma=auto, kernel=rbf; balanced_accuracy: (test=0.564) f1_weighted: (test=0.544) total time=   8.2s\n",
            "[CV 2/3] END C=0.1, gamma=auto, kernel=rbf; balanced_accuracy: (test=0.556) f1_weighted: (test=0.536) total time=   7.3s\n",
            "[CV 3/3] END C=0.1, gamma=auto, kernel=rbf; balanced_accuracy: (test=0.552) f1_weighted: (test=0.535) total time=   7.8s\n",
            "[CV 1/3] END C=0.1, gamma=auto, kernel=sigmoid; balanced_accuracy: (test=0.227) f1_weighted: (test=0.242) total time=   8.1s\n",
            "[CV 2/3] END C=0.1, gamma=auto, kernel=sigmoid; balanced_accuracy: (test=0.216) f1_weighted: (test=0.233) total time=   7.5s\n",
            "[CV 3/3] END C=0.1, gamma=auto, kernel=sigmoid; balanced_accuracy: (test=0.217) f1_weighted: (test=0.232) total time=   7.7s\n",
            "[CV 1/3] END C=0.1, gamma=0.1, kernel=linear; balanced_accuracy: (test=0.512) f1_weighted: (test=0.498) total time=   3.7s\n",
            "[CV 2/3] END C=0.1, gamma=0.1, kernel=linear; balanced_accuracy: (test=0.513) f1_weighted: (test=0.490) total time=   3.7s\n",
            "[CV 3/3] END C=0.1, gamma=0.1, kernel=linear; balanced_accuracy: (test=0.522) f1_weighted: (test=0.504) total time=   3.9s\n",
            "[CV 1/3] END C=0.1, gamma=0.1, kernel=poly; balanced_accuracy: (test=0.647) f1_weighted: (test=0.625) total time=   3.5s\n",
            "[CV 2/3] END C=0.1, gamma=0.1, kernel=poly; balanced_accuracy: (test=0.635) f1_weighted: (test=0.607) total time=   3.4s\n",
            "[CV 3/3] END C=0.1, gamma=0.1, kernel=poly; balanced_accuracy: (test=0.648) f1_weighted: (test=0.624) total time=   3.4s\n",
            "[CV 1/3] END C=0.1, gamma=0.1, kernel=rbf; balanced_accuracy: (test=0.449) f1_weighted: (test=0.447) total time=   8.4s\n",
            "[CV 2/3] END C=0.1, gamma=0.1, kernel=rbf; balanced_accuracy: (test=0.443) f1_weighted: (test=0.438) total time=   8.4s\n",
            "[CV 3/3] END C=0.1, gamma=0.1, kernel=rbf; balanced_accuracy: (test=0.466) f1_weighted: (test=0.464) total time=   8.4s\n",
            "[CV 1/3] END C=0.1, gamma=0.1, kernel=sigmoid; balanced_accuracy: (test=0.161) f1_weighted: (test=0.169) total time=   6.6s\n",
            "[CV 2/3] END C=0.1, gamma=0.1, kernel=sigmoid; balanced_accuracy: (test=0.162) f1_weighted: (test=0.172) total time=   6.6s\n",
            "[CV 3/3] END C=0.1, gamma=0.1, kernel=sigmoid; balanced_accuracy: (test=0.156) f1_weighted: (test=0.159) total time=   6.4s\n",
            "[CV 1/3] END C=0.1, gamma=0.05, kernel=linear; balanced_accuracy: (test=0.512) f1_weighted: (test=0.498) total time=   3.8s\n",
            "[CV 2/3] END C=0.1, gamma=0.05, kernel=linear; balanced_accuracy: (test=0.513) f1_weighted: (test=0.490) total time=   3.7s\n",
            "[CV 3/3] END C=0.1, gamma=0.05, kernel=linear; balanced_accuracy: (test=0.522) f1_weighted: (test=0.504) total time=   3.8s\n",
            "[CV 1/3] END C=0.1, gamma=0.05, kernel=poly; balanced_accuracy: (test=0.574) f1_weighted: (test=0.561) total time=   3.5s\n",
            "[CV 2/3] END C=0.1, gamma=0.05, kernel=poly; balanced_accuracy: (test=0.563) f1_weighted: (test=0.551) total time=   3.5s\n",
            "[CV 3/3] END C=0.1, gamma=0.05, kernel=poly; balanced_accuracy: (test=0.579) f1_weighted: (test=0.568) total time=   3.6s\n",
            "[CV 1/3] END C=0.1, gamma=0.05, kernel=rbf; balanced_accuracy: (test=0.581) f1_weighted: (test=0.559) total time=   7.5s\n",
            "[CV 2/3] END C=0.1, gamma=0.05, kernel=rbf; balanced_accuracy: (test=0.569) f1_weighted: (test=0.542) total time=   7.5s\n",
            "[CV 3/3] END C=0.1, gamma=0.05, kernel=rbf; balanced_accuracy: (test=0.570) f1_weighted: (test=0.552) total time=   8.0s\n",
            "[CV 1/3] END C=0.1, gamma=0.05, kernel=sigmoid; balanced_accuracy: (test=0.186) f1_weighted: (test=0.199) total time=   5.6s\n",
            "[CV 2/3] END C=0.1, gamma=0.05, kernel=sigmoid; balanced_accuracy: (test=0.181) f1_weighted: (test=0.196) total time=   5.6s\n",
            "[CV 3/3] END C=0.1, gamma=0.05, kernel=sigmoid; balanced_accuracy: (test=0.177) f1_weighted: (test=0.188) total time=   5.5s\n",
            "[CV 1/3] END C=0.2, gamma=scale, kernel=linear; balanced_accuracy: (test=0.511) f1_weighted: (test=0.498) total time=   4.1s\n",
            "[CV 2/3] END C=0.2, gamma=scale, kernel=linear; balanced_accuracy: (test=0.514) f1_weighted: (test=0.491) total time=   4.0s\n",
            "[CV 3/3] END C=0.2, gamma=scale, kernel=linear; balanced_accuracy: (test=0.520) f1_weighted: (test=0.503) total time=   4.1s\n",
            "[CV 1/3] END C=0.2, gamma=scale, kernel=poly; balanced_accuracy: (test=0.525) f1_weighted: (test=0.520) total time=   3.9s\n",
            "[CV 2/3] END C=0.2, gamma=scale, kernel=poly; balanced_accuracy: (test=0.517) f1_weighted: (test=0.512) total time=   3.9s\n",
            "[CV 3/3] END C=0.2, gamma=scale, kernel=poly; balanced_accuracy: (test=0.537) f1_weighted: (test=0.533) total time=   3.9s\n",
            "[CV 1/3] END C=0.2, gamma=scale, kernel=rbf; balanced_accuracy: (test=0.610) f1_weighted: (test=0.585) total time=   7.3s\n",
            "[CV 2/3] END C=0.2, gamma=scale, kernel=rbf; balanced_accuracy: (test=0.595) f1_weighted: (test=0.569) total time=   6.6s\n",
            "[CV 3/3] END C=0.2, gamma=scale, kernel=rbf; balanced_accuracy: (test=0.602) f1_weighted: (test=0.581) total time=   6.8s\n",
            "[CV 1/3] END C=0.2, gamma=scale, kernel=sigmoid; balanced_accuracy: (test=0.208) f1_weighted: (test=0.222) total time=   5.1s\n",
            "[CV 2/3] END C=0.2, gamma=scale, kernel=sigmoid; balanced_accuracy: (test=0.193) f1_weighted: (test=0.209) total time=   5.0s\n",
            "[CV 3/3] END C=0.2, gamma=scale, kernel=sigmoid; balanced_accuracy: (test=0.197) f1_weighted: (test=0.211) total time=   5.0s\n",
            "[CV 1/3] END C=0.2, gamma=auto, kernel=linear; balanced_accuracy: (test=0.511) f1_weighted: (test=0.498) total time=   6.4s\n",
            "[CV 2/3] END C=0.2, gamma=auto, kernel=linear; balanced_accuracy: (test=0.514) f1_weighted: (test=0.491) total time=   4.1s\n",
            "[CV 3/3] END C=0.2, gamma=auto, kernel=linear; balanced_accuracy: (test=0.520) f1_weighted: (test=0.503) total time=   4.1s\n",
            "[CV 1/3] END C=0.2, gamma=auto, kernel=poly; balanced_accuracy: (test=0.525) f1_weighted: (test=0.520) total time=   4.0s\n",
            "[CV 2/3] END C=0.2, gamma=auto, kernel=poly; balanced_accuracy: (test=0.517) f1_weighted: (test=0.512) total time=   3.8s\n",
            "[CV 3/3] END C=0.2, gamma=auto, kernel=poly; balanced_accuracy: (test=0.536) f1_weighted: (test=0.532) total time=   3.9s\n",
            "[CV 1/3] END C=0.2, gamma=auto, kernel=rbf; balanced_accuracy: (test=0.608) f1_weighted: (test=0.584) total time=   6.6s\n",
            "[CV 2/3] END C=0.2, gamma=auto, kernel=rbf; balanced_accuracy: (test=0.595) f1_weighted: (test=0.569) total time=   6.6s\n",
            "[CV 3/3] END C=0.2, gamma=auto, kernel=rbf; balanced_accuracy: (test=0.601) f1_weighted: (test=0.580) total time=   6.7s\n",
            "[CV 1/3] END C=0.2, gamma=auto, kernel=sigmoid; balanced_accuracy: (test=0.209) f1_weighted: (test=0.223) total time=   5.1s\n",
            "[CV 2/3] END C=0.2, gamma=auto, kernel=sigmoid; balanced_accuracy: (test=0.193) f1_weighted: (test=0.209) total time=   5.0s\n",
            "[CV 3/3] END C=0.2, gamma=auto, kernel=sigmoid; balanced_accuracy: (test=0.199) f1_weighted: (test=0.212) total time=   5.0s\n",
            "[CV 1/3] END C=0.2, gamma=0.1, kernel=linear; balanced_accuracy: (test=0.511) f1_weighted: (test=0.498) total time=   4.1s\n",
            "[CV 2/3] END C=0.2, gamma=0.1, kernel=linear; balanced_accuracy: (test=0.514) f1_weighted: (test=0.491) total time=   4.0s\n",
            "[CV 3/3] END C=0.2, gamma=0.1, kernel=linear; balanced_accuracy: (test=0.520) f1_weighted: (test=0.503) total time=   4.1s\n",
            "[CV 1/3] END C=0.2, gamma=0.1, kernel=poly; balanced_accuracy: (test=0.652) f1_weighted: (test=0.627) total time=   3.9s\n",
            "[CV 2/3] END C=0.2, gamma=0.1, kernel=poly; balanced_accuracy: (test=0.643) f1_weighted: (test=0.614) total time=   3.5s\n",
            "[CV 3/3] END C=0.2, gamma=0.1, kernel=poly; balanced_accuracy: (test=0.653) f1_weighted: (test=0.627) total time=   3.5s\n",
            "[CV 1/3] END C=0.2, gamma=0.1, kernel=rbf; balanced_accuracy: (test=0.582) f1_weighted: (test=0.568) total time=   7.9s\n",
            "[CV 2/3] END C=0.2, gamma=0.1, kernel=rbf; balanced_accuracy: (test=0.560) f1_weighted: (test=0.537) total time=   8.0s\n",
            "[CV 3/3] END C=0.2, gamma=0.1, kernel=rbf; balanced_accuracy: (test=0.586) f1_weighted: (test=0.571) total time=   7.9s\n",
            "[CV 1/3] END C=0.2, gamma=0.1, kernel=sigmoid; balanced_accuracy: (test=0.160) f1_weighted: (test=0.168) total time=   6.0s\n",
            "[CV 2/3] END C=0.2, gamma=0.1, kernel=sigmoid; balanced_accuracy: (test=0.156) f1_weighted: (test=0.165) total time=   6.0s\n",
            "[CV 3/3] END C=0.2, gamma=0.1, kernel=sigmoid; balanced_accuracy: (test=0.154) f1_weighted: (test=0.156) total time=   6.0s\n",
            "[CV 1/3] END C=0.2, gamma=0.05, kernel=linear; balanced_accuracy: (test=0.511) f1_weighted: (test=0.498) total time=   4.1s\n",
            "[CV 2/3] END C=0.2, gamma=0.05, kernel=linear; balanced_accuracy: (test=0.514) f1_weighted: (test=0.491) total time=   4.0s\n",
            "[CV 3/3] END C=0.2, gamma=0.05, kernel=linear; balanced_accuracy: (test=0.520) f1_weighted: (test=0.503) total time=   4.1s\n",
            "[CV 1/3] END C=0.2, gamma=0.05, kernel=poly; balanced_accuracy: (test=0.607) f1_weighted: (test=0.591) total time=   3.5s\n",
            "[CV 2/3] END C=0.2, gamma=0.05, kernel=poly; balanced_accuracy: (test=0.594) f1_weighted: (test=0.580) total time=   3.4s\n",
            "[CV 3/3] END C=0.2, gamma=0.05, kernel=poly; balanced_accuracy: (test=0.611) f1_weighted: (test=0.600) total time=   3.4s\n",
            "[CV 1/3] END C=0.2, gamma=0.05, kernel=rbf; balanced_accuracy: (test=0.628) f1_weighted: (test=0.603) total time=   6.9s\n",
            "[CV 2/3] END C=0.2, gamma=0.05, kernel=rbf; balanced_accuracy: (test=0.607) f1_weighted: (test=0.581) total time=   8.5s\n",
            "[CV 3/3] END C=0.2, gamma=0.05, kernel=rbf; balanced_accuracy: (test=0.615) f1_weighted: (test=0.592) total time=   7.1s\n",
            "[CV 1/3] END C=0.2, gamma=0.05, kernel=sigmoid; balanced_accuracy: (test=0.179) f1_weighted: (test=0.189) total time=   5.2s\n",
            "[CV 2/3] END C=0.2, gamma=0.05, kernel=sigmoid; balanced_accuracy: (test=0.174) f1_weighted: (test=0.186) total time=   5.1s\n",
            "[CV 3/3] END C=0.2, gamma=0.05, kernel=sigmoid; balanced_accuracy: (test=0.172) f1_weighted: (test=0.180) total time=   5.0s\n",
            "[CV 1/3] END C=0.3, gamma=scale, kernel=linear; balanced_accuracy: (test=0.511) f1_weighted: (test=0.499) total time=   4.5s\n",
            "[CV 2/3] END C=0.3, gamma=scale, kernel=linear; balanced_accuracy: (test=0.513) f1_weighted: (test=0.490) total time=   4.4s\n",
            "[CV 3/3] END C=0.3, gamma=scale, kernel=linear; balanced_accuracy: (test=0.517) f1_weighted: (test=0.500) total time=   4.4s\n",
            "[CV 1/3] END C=0.3, gamma=scale, kernel=poly; balanced_accuracy: (test=0.538) f1_weighted: (test=0.535) total time=   3.8s\n",
            "[CV 2/3] END C=0.3, gamma=scale, kernel=poly; balanced_accuracy: (test=0.528) f1_weighted: (test=0.522) total time=   3.8s\n",
            "[CV 3/3] END C=0.3, gamma=scale, kernel=poly; balanced_accuracy: (test=0.547) f1_weighted: (test=0.545) total time=   3.8s\n",
            "[CV 1/3] END C=0.3, gamma=scale, kernel=rbf; balanced_accuracy: (test=0.631) f1_weighted: (test=0.607) total time=   6.4s\n",
            "[CV 2/3] END C=0.3, gamma=scale, kernel=rbf; balanced_accuracy: (test=0.612) f1_weighted: (test=0.586) total time=   6.3s\n",
            "[CV 3/3] END C=0.3, gamma=scale, kernel=rbf; balanced_accuracy: (test=0.617) f1_weighted: (test=0.594) total time=   6.4s\n",
            "[CV 1/3] END C=0.3, gamma=scale, kernel=sigmoid; balanced_accuracy: (test=0.199) f1_weighted: (test=0.212) total time=   4.9s\n",
            "[CV 2/3] END C=0.3, gamma=scale, kernel=sigmoid; balanced_accuracy: (test=0.192) f1_weighted: (test=0.205) total time=   4.7s\n",
            "[CV 3/3] END C=0.3, gamma=scale, kernel=sigmoid; balanced_accuracy: (test=0.189) f1_weighted: (test=0.200) total time=   4.8s\n",
            "[CV 1/3] END C=0.3, gamma=auto, kernel=linear; balanced_accuracy: (test=0.511) f1_weighted: (test=0.499) total time=   4.4s\n",
            "[CV 2/3] END C=0.3, gamma=auto, kernel=linear; balanced_accuracy: (test=0.513) f1_weighted: (test=0.490) total time=   4.5s\n",
            "[CV 3/3] END C=0.3, gamma=auto, kernel=linear; balanced_accuracy: (test=0.517) f1_weighted: (test=0.500) total time=   4.5s\n",
            "[CV 1/3] END C=0.3, gamma=auto, kernel=poly; balanced_accuracy: (test=0.537) f1_weighted: (test=0.534) total time=   3.8s\n",
            "[CV 2/3] END C=0.3, gamma=auto, kernel=poly; balanced_accuracy: (test=0.528) f1_weighted: (test=0.522) total time=   4.2s\n",
            "[CV 3/3] END C=0.3, gamma=auto, kernel=poly; balanced_accuracy: (test=0.545) f1_weighted: (test=0.543) total time=   4.7s\n",
            "[CV 1/3] END C=0.3, gamma=auto, kernel=rbf; balanced_accuracy: (test=0.632) f1_weighted: (test=0.607) total time=   6.4s\n",
            "[CV 2/3] END C=0.3, gamma=auto, kernel=rbf; balanced_accuracy: (test=0.612) f1_weighted: (test=0.586) total time=   6.4s\n",
            "[CV 3/3] END C=0.3, gamma=auto, kernel=rbf; balanced_accuracy: (test=0.618) f1_weighted: (test=0.595) total time=   6.4s\n",
            "[CV 1/3] END C=0.3, gamma=auto, kernel=sigmoid; balanced_accuracy: (test=0.199) f1_weighted: (test=0.212) total time=   4.8s\n",
            "[CV 2/3] END C=0.3, gamma=auto, kernel=sigmoid; balanced_accuracy: (test=0.191) f1_weighted: (test=0.205) total time=   4.7s\n",
            "[CV 3/3] END C=0.3, gamma=auto, kernel=sigmoid; balanced_accuracy: (test=0.191) f1_weighted: (test=0.202) total time=   4.8s\n",
            "[CV 1/3] END C=0.3, gamma=0.1, kernel=linear; balanced_accuracy: (test=0.511) f1_weighted: (test=0.499) total time=   4.4s\n",
            "[CV 2/3] END C=0.3, gamma=0.1, kernel=linear; balanced_accuracy: (test=0.513) f1_weighted: (test=0.490) total time=   4.3s\n",
            "[CV 3/3] END C=0.3, gamma=0.1, kernel=linear; balanced_accuracy: (test=0.517) f1_weighted: (test=0.500) total time=   4.4s\n",
            "[CV 1/3] END C=0.3, gamma=0.1, kernel=poly; balanced_accuracy: (test=0.652) f1_weighted: (test=0.627) total time=   3.5s\n",
            "[CV 2/3] END C=0.3, gamma=0.1, kernel=poly; balanced_accuracy: (test=0.651) f1_weighted: (test=0.619) total time=   3.5s\n",
            "[CV 3/3] END C=0.3, gamma=0.1, kernel=poly; balanced_accuracy: (test=0.651) f1_weighted: (test=0.625) total time=   3.5s\n",
            "[CV 1/3] END C=0.3, gamma=0.1, kernel=rbf; balanced_accuracy: (test=0.615) f1_weighted: (test=0.597) total time=   7.7s\n",
            "[CV 2/3] END C=0.3, gamma=0.1, kernel=rbf; balanced_accuracy: (test=0.603) f1_weighted: (test=0.576) total time=   7.8s\n",
            "[CV 3/3] END C=0.3, gamma=0.1, kernel=rbf; balanced_accuracy: (test=0.619) f1_weighted: (test=0.603) total time=   8.2s\n",
            "[CV 1/3] END C=0.3, gamma=0.1, kernel=sigmoid; balanced_accuracy: (test=0.165) f1_weighted: (test=0.174) total time=   6.9s\n",
            "[CV 2/3] END C=0.3, gamma=0.1, kernel=sigmoid; balanced_accuracy: (test=0.154) f1_weighted: (test=0.164) total time=   6.1s\n",
            "[CV 3/3] END C=0.3, gamma=0.1, kernel=sigmoid; balanced_accuracy: (test=0.153) f1_weighted: (test=0.155) total time=   6.1s\n",
            "[CV 1/3] END C=0.3, gamma=0.05, kernel=linear; balanced_accuracy: (test=0.511) f1_weighted: (test=0.499) total time=   4.4s\n",
            "[CV 2/3] END C=0.3, gamma=0.05, kernel=linear; balanced_accuracy: (test=0.513) f1_weighted: (test=0.490) total time=   4.3s\n",
            "[CV 3/3] END C=0.3, gamma=0.05, kernel=linear; balanced_accuracy: (test=0.517) f1_weighted: (test=0.500) total time=   4.4s\n",
            "[CV 1/3] END C=0.3, gamma=0.05, kernel=poly; balanced_accuracy: (test=0.622) f1_weighted: (test=0.603) total time=   3.5s\n",
            "[CV 2/3] END C=0.3, gamma=0.05, kernel=poly; balanced_accuracy: (test=0.613) f1_weighted: (test=0.591) total time=   3.5s\n",
            "[CV 3/3] END C=0.3, gamma=0.05, kernel=poly; balanced_accuracy: (test=0.626) f1_weighted: (test=0.611) total time=   3.5s\n",
            "[CV 1/3] END C=0.3, gamma=0.05, kernel=rbf; balanced_accuracy: (test=0.647) f1_weighted: (test=0.620) total time=   7.3s\n",
            "[CV 2/3] END C=0.3, gamma=0.05, kernel=rbf; balanced_accuracy: (test=0.626) f1_weighted: (test=0.600) total time=   6.5s\n",
            "[CV 3/3] END C=0.3, gamma=0.05, kernel=rbf; balanced_accuracy: (test=0.628) f1_weighted: (test=0.604) total time=   6.9s\n",
            "[CV 1/3] END C=0.3, gamma=0.05, kernel=sigmoid; balanced_accuracy: (test=0.176) f1_weighted: (test=0.186) total time=   5.0s\n",
            "[CV 2/3] END C=0.3, gamma=0.05, kernel=sigmoid; balanced_accuracy: (test=0.173) f1_weighted: (test=0.184) total time=   4.8s\n",
            "[CV 3/3] END C=0.3, gamma=0.05, kernel=sigmoid; balanced_accuracy: (test=0.171) f1_weighted: (test=0.178) total time=   4.9s\n",
            "[CV 1/3] END C=0.4, gamma=scale, kernel=linear; balanced_accuracy: (test=0.513) f1_weighted: (test=0.500) total time=   5.0s\n",
            "[CV 2/3] END C=0.4, gamma=scale, kernel=linear; balanced_accuracy: (test=0.511) f1_weighted: (test=0.489) total time=   4.8s\n",
            "[CV 3/3] END C=0.4, gamma=scale, kernel=linear; balanced_accuracy: (test=0.520) f1_weighted: (test=0.503) total time=   4.9s\n",
            "[CV 1/3] END C=0.4, gamma=scale, kernel=poly; balanced_accuracy: (test=0.550) f1_weighted: (test=0.542) total time=   3.8s\n",
            "[CV 2/3] END C=0.4, gamma=scale, kernel=poly; balanced_accuracy: (test=0.534) f1_weighted: (test=0.523) total time=   3.9s\n",
            "[CV 3/3] END C=0.4, gamma=scale, kernel=poly; balanced_accuracy: (test=0.553) f1_weighted: (test=0.549) total time=   4.5s\n",
            "[CV 1/3] END C=0.4, gamma=scale, kernel=rbf; balanced_accuracy: (test=0.640) f1_weighted: (test=0.616) total time=   6.5s\n",
            "[CV 2/3] END C=0.4, gamma=scale, kernel=rbf; balanced_accuracy: (test=0.623) f1_weighted: (test=0.598) total time=   6.2s\n",
            "[CV 3/3] END C=0.4, gamma=scale, kernel=rbf; balanced_accuracy: (test=0.623) f1_weighted: (test=0.600) total time=   6.3s\n",
            "[CV 1/3] END C=0.4, gamma=scale, kernel=sigmoid; balanced_accuracy: (test=0.196) f1_weighted: (test=0.208) total time=   4.6s\n",
            "[CV 2/3] END C=0.4, gamma=scale, kernel=sigmoid; balanced_accuracy: (test=0.191) f1_weighted: (test=0.204) total time=   5.0s\n",
            "[CV 3/3] END C=0.4, gamma=scale, kernel=sigmoid; balanced_accuracy: (test=0.185) f1_weighted: (test=0.195) total time=   5.3s\n",
            "[CV 1/3] END C=0.4, gamma=auto, kernel=linear; balanced_accuracy: (test=0.513) f1_weighted: (test=0.500) total time=   5.6s\n",
            "[CV 2/3] END C=0.4, gamma=auto, kernel=linear; balanced_accuracy: (test=0.511) f1_weighted: (test=0.489) total time=   5.4s\n",
            "[CV 3/3] END C=0.4, gamma=auto, kernel=linear; balanced_accuracy: (test=0.520) f1_weighted: (test=0.503) total time=   5.6s\n",
            "[CV 1/3] END C=0.4, gamma=auto, kernel=poly; balanced_accuracy: (test=0.550) f1_weighted: (test=0.542) total time=   4.8s\n",
            "[CV 2/3] END C=0.4, gamma=auto, kernel=poly; balanced_accuracy: (test=0.534) f1_weighted: (test=0.523) total time=   4.1s\n",
            "[CV 3/3] END C=0.4, gamma=auto, kernel=poly; balanced_accuracy: (test=0.553) f1_weighted: (test=0.549) total time=   3.7s\n",
            "[CV 1/3] END C=0.4, gamma=auto, kernel=rbf; balanced_accuracy: (test=0.640) f1_weighted: (test=0.616) total time=   7.2s\n",
            "[CV 2/3] END C=0.4, gamma=auto, kernel=rbf; balanced_accuracy: (test=0.623) f1_weighted: (test=0.598) total time=   6.1s\n",
            "[CV 3/3] END C=0.4, gamma=auto, kernel=rbf; balanced_accuracy: (test=0.623) f1_weighted: (test=0.600) total time=   6.1s\n",
            "[CV 1/3] END C=0.4, gamma=auto, kernel=sigmoid; balanced_accuracy: (test=0.196) f1_weighted: (test=0.208) total time=   4.7s\n",
            "[CV 2/3] END C=0.4, gamma=auto, kernel=sigmoid; balanced_accuracy: (test=0.191) f1_weighted: (test=0.204) total time=   5.1s\n",
            "[CV 3/3] END C=0.4, gamma=auto, kernel=sigmoid; balanced_accuracy: (test=0.185) f1_weighted: (test=0.195) total time=   5.5s\n",
            "[CV 1/3] END C=0.4, gamma=0.1, kernel=linear; balanced_accuracy: (test=0.513) f1_weighted: (test=0.500) total time=   6.0s\n",
            "[CV 2/3] END C=0.4, gamma=0.1, kernel=linear; balanced_accuracy: (test=0.511) f1_weighted: (test=0.489) total time=   5.4s\n",
            "[CV 3/3] END C=0.4, gamma=0.1, kernel=linear; balanced_accuracy: (test=0.520) f1_weighted: (test=0.503) total time=   6.1s\n",
            "[CV 1/3] END C=0.4, gamma=0.1, kernel=poly; balanced_accuracy: (test=0.649) f1_weighted: (test=0.624) total time=   4.4s\n",
            "[CV 2/3] END C=0.4, gamma=0.1, kernel=poly; balanced_accuracy: (test=0.651) f1_weighted: (test=0.619) total time=   4.3s\n",
            "[CV 3/3] END C=0.4, gamma=0.1, kernel=poly; balanced_accuracy: (test=0.652) f1_weighted: (test=0.625) total time=   4.2s\n",
            "[CV 1/3] END C=0.4, gamma=0.1, kernel=rbf; balanced_accuracy: (test=0.632) f1_weighted: (test=0.614) total time=   9.1s\n",
            "[CV 2/3] END C=0.4, gamma=0.1, kernel=rbf; balanced_accuracy: (test=0.627) f1_weighted: (test=0.601) total time=   7.3s\n",
            "[CV 3/3] END C=0.4, gamma=0.1, kernel=rbf; balanced_accuracy: (test=0.635) f1_weighted: (test=0.617) total time=   7.7s\n",
            "[CV 1/3] END C=0.4, gamma=0.1, kernel=sigmoid; balanced_accuracy: (test=0.161) f1_weighted: (test=0.169) total time=   6.0s\n",
            "[CV 2/3] END C=0.4, gamma=0.1, kernel=sigmoid; balanced_accuracy: (test=0.155) f1_weighted: (test=0.164) total time=   5.9s\n",
            "[CV 3/3] END C=0.4, gamma=0.1, kernel=sigmoid; balanced_accuracy: (test=0.152) f1_weighted: (test=0.153) total time=   5.9s\n",
            "[CV 1/3] END C=0.4, gamma=0.05, kernel=linear; balanced_accuracy: (test=0.513) f1_weighted: (test=0.500) total time=   5.7s\n",
            "[CV 2/3] END C=0.4, gamma=0.05, kernel=linear; balanced_accuracy: (test=0.511) f1_weighted: (test=0.489) total time=   4.7s\n",
            "[CV 3/3] END C=0.4, gamma=0.05, kernel=linear; balanced_accuracy: (test=0.520) f1_weighted: (test=0.503) total time=   4.7s\n",
            "[CV 1/3] END C=0.4, gamma=0.05, kernel=poly; balanced_accuracy: (test=0.634) f1_weighted: (test=0.614) total time=   3.4s\n",
            "[CV 2/3] END C=0.4, gamma=0.05, kernel=poly; balanced_accuracy: (test=0.625) f1_weighted: (test=0.600) total time=   3.5s\n",
            "[CV 3/3] END C=0.4, gamma=0.05, kernel=poly; balanced_accuracy: (test=0.637) f1_weighted: (test=0.616) total time=   3.5s\n",
            "[CV 1/3] END C=0.4, gamma=0.05, kernel=rbf; balanced_accuracy: (test=0.656) f1_weighted: (test=0.629) total time=   6.8s\n",
            "[CV 2/3] END C=0.4, gamma=0.05, kernel=rbf; balanced_accuracy: (test=0.640) f1_weighted: (test=0.611) total time=   6.7s\n",
            "[CV 3/3] END C=0.4, gamma=0.05, kernel=rbf; balanced_accuracy: (test=0.636) f1_weighted: (test=0.611) total time=   6.9s\n",
            "[CV 1/3] END C=0.4, gamma=0.05, kernel=sigmoid; balanced_accuracy: (test=0.176) f1_weighted: (test=0.185) total time=   4.9s\n",
            "[CV 2/3] END C=0.4, gamma=0.05, kernel=sigmoid; balanced_accuracy: (test=0.173) f1_weighted: (test=0.184) total time=   4.7s\n",
            "[CV 3/3] END C=0.4, gamma=0.05, kernel=sigmoid; balanced_accuracy: (test=0.170) f1_weighted: (test=0.176) total time=   4.7s\n",
            "[CV 1/3] END C=0.5, gamma=scale, kernel=linear; balanced_accuracy: (test=0.510) f1_weighted: (test=0.498) total time=   5.0s\n",
            "[CV 2/3] END C=0.5, gamma=scale, kernel=linear; balanced_accuracy: (test=0.515) f1_weighted: (test=0.493) total time=   5.8s\n",
            "[CV 3/3] END C=0.5, gamma=scale, kernel=linear; balanced_accuracy: (test=0.519) f1_weighted: (test=0.501) total time=   6.8s\n",
            "[CV 1/3] END C=0.5, gamma=scale, kernel=poly; balanced_accuracy: (test=0.557) f1_weighted: (test=0.548) total time=   4.3s\n",
            "[CV 2/3] END C=0.5, gamma=scale, kernel=poly; balanced_accuracy: (test=0.543) f1_weighted: (test=0.531) total time=   4.3s\n",
            "[CV 3/3] END C=0.5, gamma=scale, kernel=poly; balanced_accuracy: (test=0.563) f1_weighted: (test=0.557) total time=   4.7s\n",
            "[CV 1/3] END C=0.5, gamma=scale, kernel=rbf; balanced_accuracy: (test=0.649) f1_weighted: (test=0.625) total time=   7.6s\n",
            "[CV 2/3] END C=0.5, gamma=scale, kernel=rbf; balanced_accuracy: (test=0.624) f1_weighted: (test=0.599) total time=   7.3s\n",
            "[CV 3/3] END C=0.5, gamma=scale, kernel=rbf; balanced_accuracy: (test=0.628) f1_weighted: (test=0.605) total time=   7.3s\n",
            "[CV 1/3] END C=0.5, gamma=scale, kernel=sigmoid; balanced_accuracy: (test=0.196) f1_weighted: (test=0.207) total time=   5.3s\n",
            "[CV 2/3] END C=0.5, gamma=scale, kernel=sigmoid; balanced_accuracy: (test=0.189) f1_weighted: (test=0.202) total time=   4.4s\n",
            "[CV 3/3] END C=0.5, gamma=scale, kernel=sigmoid; balanced_accuracy: (test=0.185) f1_weighted: (test=0.194) total time=   5.8s\n",
            "[CV 1/3] END C=0.5, gamma=auto, kernel=linear; balanced_accuracy: (test=0.510) f1_weighted: (test=0.498) total time=   5.3s\n",
            "[CV 2/3] END C=0.5, gamma=auto, kernel=linear; balanced_accuracy: (test=0.515) f1_weighted: (test=0.493) total time=   5.2s\n",
            "[CV 3/3] END C=0.5, gamma=auto, kernel=linear; balanced_accuracy: (test=0.519) f1_weighted: (test=0.501) total time=   5.2s\n",
            "[CV 1/3] END C=0.5, gamma=auto, kernel=poly; balanced_accuracy: (test=0.557) f1_weighted: (test=0.548) total time=   3.7s\n",
            "[CV 2/3] END C=0.5, gamma=auto, kernel=poly; balanced_accuracy: (test=0.543) f1_weighted: (test=0.531) total time=   3.7s\n",
            "[CV 3/3] END C=0.5, gamma=auto, kernel=poly; balanced_accuracy: (test=0.562) f1_weighted: (test=0.556) total time=   3.6s\n",
            "[CV 1/3] END C=0.5, gamma=auto, kernel=rbf; balanced_accuracy: (test=0.649) f1_weighted: (test=0.625) total time=   6.2s\n",
            "[CV 2/3] END C=0.5, gamma=auto, kernel=rbf; balanced_accuracy: (test=0.624) f1_weighted: (test=0.599) total time=   5.9s\n",
            "[CV 3/3] END C=0.5, gamma=auto, kernel=rbf; balanced_accuracy: (test=0.627) f1_weighted: (test=0.605) total time=   6.4s\n",
            "[CV 1/3] END C=0.5, gamma=auto, kernel=sigmoid; balanced_accuracy: (test=0.195) f1_weighted: (test=0.207) total time=   4.6s\n",
            "[CV 2/3] END C=0.5, gamma=auto, kernel=sigmoid; balanced_accuracy: (test=0.189) f1_weighted: (test=0.202) total time=   4.4s\n",
            "[CV 3/3] END C=0.5, gamma=auto, kernel=sigmoid; balanced_accuracy: (test=0.186) f1_weighted: (test=0.196) total time=   4.5s\n",
            "[CV 1/3] END C=0.5, gamma=0.1, kernel=linear; balanced_accuracy: (test=0.510) f1_weighted: (test=0.498) total time=   5.1s\n",
            "[CV 2/3] END C=0.5, gamma=0.1, kernel=linear; balanced_accuracy: (test=0.515) f1_weighted: (test=0.493) total time=   5.0s\n",
            "[CV 3/3] END C=0.5, gamma=0.1, kernel=linear; balanced_accuracy: (test=0.519) f1_weighted: (test=0.501) total time=   5.3s\n",
            "[CV 1/3] END C=0.5, gamma=0.1, kernel=poly; balanced_accuracy: (test=0.648) f1_weighted: (test=0.623) total time=   3.7s\n",
            "[CV 2/3] END C=0.5, gamma=0.1, kernel=poly; balanced_accuracy: (test=0.645) f1_weighted: (test=0.614) total time=   3.8s\n",
            "[CV 3/3] END C=0.5, gamma=0.1, kernel=poly; balanced_accuracy: (test=0.650) f1_weighted: (test=0.623) total time=   3.6s\n",
            "[CV 1/3] END C=0.5, gamma=0.1, kernel=rbf; balanced_accuracy: (test=0.643) f1_weighted: (test=0.626) total time=   7.6s\n",
            "[CV 2/3] END C=0.5, gamma=0.1, kernel=rbf; balanced_accuracy: (test=0.640) f1_weighted: (test=0.613) total time=   7.3s\n",
            "[CV 3/3] END C=0.5, gamma=0.1, kernel=rbf; balanced_accuracy: (test=0.643) f1_weighted: (test=0.623) total time=   7.9s\n",
            "[CV 1/3] END C=0.5, gamma=0.1, kernel=sigmoid; balanced_accuracy: (test=0.160) f1_weighted: (test=0.168) total time=   6.2s\n",
            "[CV 2/3] END C=0.5, gamma=0.1, kernel=sigmoid; balanced_accuracy: (test=0.154) f1_weighted: (test=0.163) total time=   6.0s\n",
            "[CV 3/3] END C=0.5, gamma=0.1, kernel=sigmoid; balanced_accuracy: (test=0.152) f1_weighted: (test=0.154) total time=   5.6s\n",
            "[CV 1/3] END C=0.5, gamma=0.05, kernel=linear; balanced_accuracy: (test=0.510) f1_weighted: (test=0.498) total time=   5.5s\n",
            "[CV 2/3] END C=0.5, gamma=0.05, kernel=linear; balanced_accuracy: (test=0.515) f1_weighted: (test=0.493) total time=   5.1s\n",
            "[CV 3/3] END C=0.5, gamma=0.05, kernel=linear; balanced_accuracy: (test=0.519) f1_weighted: (test=0.501) total time=   5.4s\n",
            "[CV 1/3] END C=0.5, gamma=0.05, kernel=poly; balanced_accuracy: (test=0.640) f1_weighted: (test=0.619) total time=   3.3s\n",
            "[CV 2/3] END C=0.5, gamma=0.05, kernel=poly; balanced_accuracy: (test=0.632) f1_weighted: (test=0.604) total time=   3.4s\n",
            "[CV 3/3] END C=0.5, gamma=0.05, kernel=poly; balanced_accuracy: (test=0.642) f1_weighted: (test=0.619) total time=   3.4s\n",
            "[CV 1/3] END C=0.5, gamma=0.05, kernel=rbf; balanced_accuracy: (test=0.659) f1_weighted: (test=0.631) total time=   6.5s\n",
            "[CV 2/3] END C=0.5, gamma=0.05, kernel=rbf; balanced_accuracy: (test=0.644) f1_weighted: (test=0.616) total time=   6.4s\n",
            "[CV 3/3] END C=0.5, gamma=0.05, kernel=rbf; balanced_accuracy: (test=0.645) f1_weighted: (test=0.622) total time=   6.6s\n",
            "[CV 1/3] END C=0.5, gamma=0.05, kernel=sigmoid; balanced_accuracy: (test=0.175) f1_weighted: (test=0.183) total time=   4.9s\n",
            "[CV 2/3] END C=0.5, gamma=0.05, kernel=sigmoid; balanced_accuracy: (test=0.175) f1_weighted: (test=0.186) total time=   4.7s\n",
            "[CV 3/3] END C=0.5, gamma=0.05, kernel=sigmoid; balanced_accuracy: (test=0.171) f1_weighted: (test=0.178) total time=   5.5s\n",
            "[CV 1/3] END C=0.6, gamma=scale, kernel=linear; balanced_accuracy: (test=0.510) f1_weighted: (test=0.499) total time=   5.4s\n",
            "[CV 2/3] END C=0.6, gamma=scale, kernel=linear; balanced_accuracy: (test=0.513) f1_weighted: (test=0.491) total time=   5.4s\n",
            "[CV 3/3] END C=0.6, gamma=scale, kernel=linear; balanced_accuracy: (test=0.520) f1_weighted: (test=0.502) total time=   5.5s\n",
            "[CV 1/3] END C=0.6, gamma=scale, kernel=poly; balanced_accuracy: (test=0.565) f1_weighted: (test=0.553) total time=   3.6s\n",
            "[CV 2/3] END C=0.6, gamma=scale, kernel=poly; balanced_accuracy: (test=0.553) f1_weighted: (test=0.540) total time=   3.5s\n",
            "[CV 3/3] END C=0.6, gamma=scale, kernel=poly; balanced_accuracy: (test=0.571) f1_weighted: (test=0.561) total time=   3.6s\n",
            "[CV 1/3] END C=0.6, gamma=scale, kernel=rbf; balanced_accuracy: (test=0.653) f1_weighted: (test=0.627) total time=   6.4s\n",
            "[CV 2/3] END C=0.6, gamma=scale, kernel=rbf; balanced_accuracy: (test=0.632) f1_weighted: (test=0.606) total time=   8.1s\n",
            "[CV 3/3] END C=0.6, gamma=scale, kernel=rbf; balanced_accuracy: (test=0.635) f1_weighted: (test=0.612) total time=   7.2s\n",
            "[CV 1/3] END C=0.6, gamma=scale, kernel=sigmoid; balanced_accuracy: (test=0.191) f1_weighted: (test=0.203) total time=   5.4s\n",
            "[CV 2/3] END C=0.6, gamma=scale, kernel=sigmoid; balanced_accuracy: (test=0.190) f1_weighted: (test=0.203) total time=   5.5s\n",
            "[CV 3/3] END C=0.6, gamma=scale, kernel=sigmoid; balanced_accuracy: (test=0.183) f1_weighted: (test=0.192) total time=   5.3s\n",
            "[CV 1/3] END C=0.6, gamma=auto, kernel=linear; balanced_accuracy: (test=0.510) f1_weighted: (test=0.499) total time=   7.6s\n",
            "[CV 2/3] END C=0.6, gamma=auto, kernel=linear; balanced_accuracy: (test=0.513) f1_weighted: (test=0.491) total time=   6.7s\n",
            "[CV 3/3] END C=0.6, gamma=auto, kernel=linear; balanced_accuracy: (test=0.520) f1_weighted: (test=0.502) total time=   5.8s\n",
            "[CV 1/3] END C=0.6, gamma=auto, kernel=poly; balanced_accuracy: (test=0.564) f1_weighted: (test=0.553) total time=   3.6s\n",
            "[CV 2/3] END C=0.6, gamma=auto, kernel=poly; balanced_accuracy: (test=0.553) f1_weighted: (test=0.540) total time=   3.6s\n",
            "[CV 3/3] END C=0.6, gamma=auto, kernel=poly; balanced_accuracy: (test=0.569) f1_weighted: (test=0.560) total time=   3.6s\n",
            "[CV 1/3] END C=0.6, gamma=auto, kernel=rbf; balanced_accuracy: (test=0.653) f1_weighted: (test=0.627) total time=   5.9s\n",
            "[CV 2/3] END C=0.6, gamma=auto, kernel=rbf; balanced_accuracy: (test=0.632) f1_weighted: (test=0.606) total time=   5.8s\n",
            "[CV 3/3] END C=0.6, gamma=auto, kernel=rbf; balanced_accuracy: (test=0.634) f1_weighted: (test=0.612) total time=   6.0s\n",
            "[CV 1/3] END C=0.6, gamma=auto, kernel=sigmoid; balanced_accuracy: (test=0.191) f1_weighted: (test=0.203) total time=   5.4s\n",
            "[CV 2/3] END C=0.6, gamma=auto, kernel=sigmoid; balanced_accuracy: (test=0.190) f1_weighted: (test=0.203) total time=   4.5s\n",
            "[CV 3/3] END C=0.6, gamma=auto, kernel=sigmoid; balanced_accuracy: (test=0.184) f1_weighted: (test=0.194) total time=   4.4s\n",
            "[CV 1/3] END C=0.6, gamma=0.1, kernel=linear; balanced_accuracy: (test=0.510) f1_weighted: (test=0.499) total time=   5.4s\n",
            "[CV 2/3] END C=0.6, gamma=0.1, kernel=linear; balanced_accuracy: (test=0.513) f1_weighted: (test=0.491) total time=   5.4s\n",
            "[CV 3/3] END C=0.6, gamma=0.1, kernel=linear; balanced_accuracy: (test=0.520) f1_weighted: (test=0.502) total time=   5.4s\n",
            "[CV 1/3] END C=0.6, gamma=0.1, kernel=poly; balanced_accuracy: (test=0.643) f1_weighted: (test=0.616) total time=   3.7s\n",
            "[CV 2/3] END C=0.6, gamma=0.1, kernel=poly; balanced_accuracy: (test=0.645) f1_weighted: (test=0.614) total time=   3.6s\n",
            "[CV 3/3] END C=0.6, gamma=0.1, kernel=poly; balanced_accuracy: (test=0.650) f1_weighted: (test=0.624) total time=   3.7s\n",
            "[CV 1/3] END C=0.6, gamma=0.1, kernel=rbf; balanced_accuracy: (test=0.657) f1_weighted: (test=0.636) total time=   7.5s\n",
            "[CV 2/3] END C=0.6, gamma=0.1, kernel=rbf; balanced_accuracy: (test=0.648) f1_weighted: (test=0.621) total time=   7.5s\n",
            "[CV 3/3] END C=0.6, gamma=0.1, kernel=rbf; balanced_accuracy: (test=0.652) f1_weighted: (test=0.630) total time=   9.0s\n",
            "[CV 1/3] END C=0.6, gamma=0.1, kernel=sigmoid; balanced_accuracy: (test=0.165) f1_weighted: (test=0.174) total time=   6.3s\n",
            "[CV 2/3] END C=0.6, gamma=0.1, kernel=sigmoid; balanced_accuracy: (test=0.154) f1_weighted: (test=0.163) total time=   5.7s\n",
            "[CV 3/3] END C=0.6, gamma=0.1, kernel=sigmoid; balanced_accuracy: (test=0.152) f1_weighted: (test=0.153) total time=   5.6s\n",
            "[CV 1/3] END C=0.6, gamma=0.05, kernel=linear; balanced_accuracy: (test=0.510) f1_weighted: (test=0.499) total time=   5.4s\n",
            "[CV 2/3] END C=0.6, gamma=0.05, kernel=linear; balanced_accuracy: (test=0.513) f1_weighted: (test=0.491) total time=   5.3s\n",
            "[CV 3/3] END C=0.6, gamma=0.05, kernel=linear; balanced_accuracy: (test=0.520) f1_weighted: (test=0.502) total time=   5.4s\n",
            "[CV 1/3] END C=0.6, gamma=0.05, kernel=poly; balanced_accuracy: (test=0.645) f1_weighted: (test=0.624) total time=   3.3s\n",
            "[CV 2/3] END C=0.6, gamma=0.05, kernel=poly; balanced_accuracy: (test=0.631) f1_weighted: (test=0.602) total time=   3.3s\n",
            "[CV 3/3] END C=0.6, gamma=0.05, kernel=poly; balanced_accuracy: (test=0.644) f1_weighted: (test=0.620) total time=   3.4s\n",
            "[CV 1/3] END C=0.6, gamma=0.05, kernel=rbf; balanced_accuracy: (test=0.661) f1_weighted: (test=0.634) total time=   6.3s\n",
            "[CV 2/3] END C=0.6, gamma=0.05, kernel=rbf; balanced_accuracy: (test=0.648) f1_weighted: (test=0.619) total time=   6.3s\n",
            "[CV 3/3] END C=0.6, gamma=0.05, kernel=rbf; balanced_accuracy: (test=0.653) f1_weighted: (test=0.628) total time=   6.8s\n",
            "[CV 1/3] END C=0.6, gamma=0.05, kernel=sigmoid; balanced_accuracy: (test=0.174) f1_weighted: (test=0.182) total time=   4.7s\n",
            "[CV 2/3] END C=0.6, gamma=0.05, kernel=sigmoid; balanced_accuracy: (test=0.174) f1_weighted: (test=0.185) total time=   4.6s\n",
            "[CV 3/3] END C=0.6, gamma=0.05, kernel=sigmoid; balanced_accuracy: (test=0.170) f1_weighted: (test=0.176) total time=   4.6s\n",
            "[CV 1/3] END C=0.7, gamma=scale, kernel=linear; balanced_accuracy: (test=0.511) f1_weighted: (test=0.499) total time=   5.7s\n",
            "[CV 2/3] END C=0.7, gamma=scale, kernel=linear; balanced_accuracy: (test=0.515) f1_weighted: (test=0.492) total time=   5.6s\n",
            "[CV 3/3] END C=0.7, gamma=scale, kernel=linear; balanced_accuracy: (test=0.520) f1_weighted: (test=0.502) total time=   5.7s\n",
            "[CV 1/3] END C=0.7, gamma=scale, kernel=poly; balanced_accuracy: (test=0.569) f1_weighted: (test=0.557) total time=   3.6s\n",
            "[CV 2/3] END C=0.7, gamma=scale, kernel=poly; balanced_accuracy: (test=0.560) f1_weighted: (test=0.547) total time=   3.5s\n",
            "[CV 3/3] END C=0.7, gamma=scale, kernel=poly; balanced_accuracy: (test=0.574) f1_weighted: (test=0.565) total time=   3.5s\n",
            "[CV 1/3] END C=0.7, gamma=scale, kernel=rbf; balanced_accuracy: (test=0.656) f1_weighted: (test=0.631) total time=   5.8s\n",
            "[CV 2/3] END C=0.7, gamma=scale, kernel=rbf; balanced_accuracy: (test=0.636) f1_weighted: (test=0.610) total time=   5.8s\n",
            "[CV 3/3] END C=0.7, gamma=scale, kernel=rbf; balanced_accuracy: (test=0.636) f1_weighted: (test=0.614) total time=   5.7s\n",
            "[CV 1/3] END C=0.7, gamma=scale, kernel=sigmoid; balanced_accuracy: (test=0.193) f1_weighted: (test=0.205) total time=   4.3s\n",
            "[CV 2/3] END C=0.7, gamma=scale, kernel=sigmoid; balanced_accuracy: (test=0.189) f1_weighted: (test=0.202) total time=   4.2s\n",
            "[CV 3/3] END C=0.7, gamma=scale, kernel=sigmoid; balanced_accuracy: (test=0.183) f1_weighted: (test=0.192) total time=   4.6s\n",
            "[CV 1/3] END C=0.7, gamma=auto, kernel=linear; balanced_accuracy: (test=0.511) f1_weighted: (test=0.499) total time=   6.0s\n",
            "[CV 2/3] END C=0.7, gamma=auto, kernel=linear; balanced_accuracy: (test=0.515) f1_weighted: (test=0.492) total time=   5.6s\n",
            "[CV 3/3] END C=0.7, gamma=auto, kernel=linear; balanced_accuracy: (test=0.520) f1_weighted: (test=0.502) total time=   5.7s\n",
            "[CV 1/3] END C=0.7, gamma=auto, kernel=poly; balanced_accuracy: (test=0.568) f1_weighted: (test=0.557) total time=   3.6s\n",
            "[CV 2/3] END C=0.7, gamma=auto, kernel=poly; balanced_accuracy: (test=0.560) f1_weighted: (test=0.547) total time=   4.3s\n",
            "[CV 3/3] END C=0.7, gamma=auto, kernel=poly; balanced_accuracy: (test=0.576) f1_weighted: (test=0.566) total time=   3.5s\n",
            "[CV 1/3] END C=0.7, gamma=auto, kernel=rbf; balanced_accuracy: (test=0.656) f1_weighted: (test=0.631) total time=   5.8s\n",
            "[CV 2/3] END C=0.7, gamma=auto, kernel=rbf; balanced_accuracy: (test=0.636) f1_weighted: (test=0.610) total time=   5.8s\n",
            "[CV 3/3] END C=0.7, gamma=auto, kernel=rbf; balanced_accuracy: (test=0.636) f1_weighted: (test=0.613) total time=   5.9s\n",
            "[CV 1/3] END C=0.7, gamma=auto, kernel=sigmoid; balanced_accuracy: (test=0.192) f1_weighted: (test=0.205) total time=   4.4s\n",
            "[CV 2/3] END C=0.7, gamma=auto, kernel=sigmoid; balanced_accuracy: (test=0.189) f1_weighted: (test=0.202) total time=   5.1s\n",
            "[CV 3/3] END C=0.7, gamma=auto, kernel=sigmoid; balanced_accuracy: (test=0.182) f1_weighted: (test=0.191) total time=   5.3s\n",
            "[CV 1/3] END C=0.7, gamma=0.1, kernel=linear; balanced_accuracy: (test=0.511) f1_weighted: (test=0.499) total time=   5.9s\n",
            "[CV 2/3] END C=0.7, gamma=0.1, kernel=linear; balanced_accuracy: (test=0.515) f1_weighted: (test=0.492) total time=   6.2s\n",
            "[CV 3/3] END C=0.7, gamma=0.1, kernel=linear; balanced_accuracy: (test=0.520) f1_weighted: (test=0.502) total time=   6.4s\n",
            "[CV 1/3] END C=0.7, gamma=0.1, kernel=poly; balanced_accuracy: (test=0.640) f1_weighted: (test=0.613) total time=   4.2s\n",
            "[CV 2/3] END C=0.7, gamma=0.1, kernel=poly; balanced_accuracy: (test=0.641) f1_weighted: (test=0.610) total time=   5.1s\n",
            "[CV 3/3] END C=0.7, gamma=0.1, kernel=poly; balanced_accuracy: (test=0.647) f1_weighted: (test=0.621) total time=   4.1s\n",
            "[CV 1/3] END C=0.7, gamma=0.1, kernel=rbf; balanced_accuracy: (test=0.663) f1_weighted: (test=0.641) total time=   9.3s\n",
            "[CV 2/3] END C=0.7, gamma=0.1, kernel=rbf; balanced_accuracy: (test=0.652) f1_weighted: (test=0.626) total time=   8.8s\n",
            "[CV 3/3] END C=0.7, gamma=0.1, kernel=rbf; balanced_accuracy: (test=0.661) f1_weighted: (test=0.639) total time=   8.3s\n",
            "[CV 1/3] END C=0.7, gamma=0.1, kernel=sigmoid; balanced_accuracy: (test=0.163) f1_weighted: (test=0.172) total time=   6.0s\n",
            "[CV 2/3] END C=0.7, gamma=0.1, kernel=sigmoid; balanced_accuracy: (test=0.154) f1_weighted: (test=0.163) total time=   6.0s\n",
            "[CV 3/3] END C=0.7, gamma=0.1, kernel=sigmoid; balanced_accuracy: (test=0.151) f1_weighted: (test=0.152) total time=   6.5s\n",
            "[CV 1/3] END C=0.7, gamma=0.05, kernel=linear; balanced_accuracy: (test=0.511) f1_weighted: (test=0.499) total time=   6.3s\n",
            "[CV 2/3] END C=0.7, gamma=0.05, kernel=linear; balanced_accuracy: (test=0.515) f1_weighted: (test=0.492) total time=   6.9s\n",
            "[CV 3/3] END C=0.7, gamma=0.05, kernel=linear; balanced_accuracy: (test=0.520) f1_weighted: (test=0.502) total time=  10.7s\n",
            "[CV 1/3] END C=0.7, gamma=0.05, kernel=poly; balanced_accuracy: (test=0.645) f1_weighted: (test=0.624) total time=   4.6s\n",
            "[CV 2/3] END C=0.7, gamma=0.05, kernel=poly; balanced_accuracy: (test=0.633) f1_weighted: (test=0.604) total time=   4.3s\n",
            "[CV 3/3] END C=0.7, gamma=0.05, kernel=poly; balanced_accuracy: (test=0.647) f1_weighted: (test=0.623) total time=   4.3s\n",
            "[CV 1/3] END C=0.7, gamma=0.05, kernel=rbf; balanced_accuracy: (test=0.666) f1_weighted: (test=0.640) total time=   8.0s\n",
            "[CV 2/3] END C=0.7, gamma=0.05, kernel=rbf; balanced_accuracy: (test=0.650) f1_weighted: (test=0.622) total time=   8.1s\n",
            "[CV 3/3] END C=0.7, gamma=0.05, kernel=rbf; balanced_accuracy: (test=0.660) f1_weighted: (test=0.636) total time=   8.3s\n",
            "[CV 1/3] END C=0.7, gamma=0.05, kernel=sigmoid; balanced_accuracy: (test=0.174) f1_weighted: (test=0.182) total time=   6.7s\n",
            "[CV 2/3] END C=0.7, gamma=0.05, kernel=sigmoid; balanced_accuracy: (test=0.173) f1_weighted: (test=0.184) total time=   6.3s\n",
            "[CV 3/3] END C=0.7, gamma=0.05, kernel=sigmoid; balanced_accuracy: (test=0.169) f1_weighted: (test=0.175) total time=   6.5s\n",
            "[CV 1/3] END C=0.8, gamma=scale, kernel=linear; balanced_accuracy: (test=0.510) f1_weighted: (test=0.498) total time=   8.8s\n",
            "[CV 2/3] END C=0.8, gamma=scale, kernel=linear; balanced_accuracy: (test=0.515) f1_weighted: (test=0.492) total time=   7.5s\n",
            "[CV 3/3] END C=0.8, gamma=scale, kernel=linear; balanced_accuracy: (test=0.518) f1_weighted: (test=0.502) total time=   7.7s\n",
            "[CV 1/3] END C=0.8, gamma=scale, kernel=poly; balanced_accuracy: (test=0.574) f1_weighted: (test=0.561) total time=   4.6s\n",
            "[CV 2/3] END C=0.8, gamma=scale, kernel=poly; balanced_accuracy: (test=0.563) f1_weighted: (test=0.551) total time=   6.6s\n",
            "[CV 3/3] END C=0.8, gamma=scale, kernel=poly; balanced_accuracy: (test=0.581) f1_weighted: (test=0.571) total time=   5.9s\n",
            "[CV 1/3] END C=0.8, gamma=scale, kernel=rbf; balanced_accuracy: (test=0.658) f1_weighted: (test=0.632) total time=   9.7s\n",
            "[CV 2/3] END C=0.8, gamma=scale, kernel=rbf; balanced_accuracy: (test=0.638) f1_weighted: (test=0.611) total time=   9.6s\n",
            "[CV 3/3] END C=0.8, gamma=scale, kernel=rbf; balanced_accuracy: (test=0.641) f1_weighted: (test=0.618) total time=   8.9s\n",
            "[CV 1/3] END C=0.8, gamma=scale, kernel=sigmoid; balanced_accuracy: (test=0.189) f1_weighted: (test=0.200) total time=   5.8s\n",
            "[CV 2/3] END C=0.8, gamma=scale, kernel=sigmoid; balanced_accuracy: (test=0.188) f1_weighted: (test=0.201) total time=   5.4s\n",
            "[CV 3/3] END C=0.8, gamma=scale, kernel=sigmoid; balanced_accuracy: (test=0.182) f1_weighted: (test=0.191) total time=   9.1s\n",
            "[CV 1/3] END C=0.8, gamma=auto, kernel=linear; balanced_accuracy: (test=0.510) f1_weighted: (test=0.498) total time=   6.9s\n",
            "[CV 2/3] END C=0.8, gamma=auto, kernel=linear; balanced_accuracy: (test=0.515) f1_weighted: (test=0.492) total time=   6.5s\n",
            "[CV 3/3] END C=0.8, gamma=auto, kernel=linear; balanced_accuracy: (test=0.518) f1_weighted: (test=0.502) total time=   6.3s\n",
            "[CV 1/3] END C=0.8, gamma=auto, kernel=poly; balanced_accuracy: (test=0.574) f1_weighted: (test=0.561) total time=   3.8s\n",
            "[CV 2/3] END C=0.8, gamma=auto, kernel=poly; balanced_accuracy: (test=0.563) f1_weighted: (test=0.551) total time=   3.6s\n",
            "[CV 3/3] END C=0.8, gamma=auto, kernel=poly; balanced_accuracy: (test=0.579) f1_weighted: (test=0.568) total time=   3.7s\n",
            "[CV 1/3] END C=0.8, gamma=auto, kernel=rbf; balanced_accuracy: (test=0.658) f1_weighted: (test=0.632) total time=   6.2s\n",
            "[CV 2/3] END C=0.8, gamma=auto, kernel=rbf; balanced_accuracy: (test=0.638) f1_weighted: (test=0.611) total time=   6.1s\n",
            "[CV 3/3] END C=0.8, gamma=auto, kernel=rbf; balanced_accuracy: (test=0.640) f1_weighted: (test=0.617) total time=   6.2s\n",
            "[CV 1/3] END C=0.8, gamma=auto, kernel=sigmoid; balanced_accuracy: (test=0.189) f1_weighted: (test=0.200) total time=   4.6s\n",
            "[CV 2/3] END C=0.8, gamma=auto, kernel=sigmoid; balanced_accuracy: (test=0.188) f1_weighted: (test=0.201) total time=   4.4s\n",
            "[CV 3/3] END C=0.8, gamma=auto, kernel=sigmoid; balanced_accuracy: (test=0.183) f1_weighted: (test=0.192) total time=   4.5s\n",
            "[CV 1/3] END C=0.8, gamma=0.1, kernel=linear; balanced_accuracy: (test=0.510) f1_weighted: (test=0.498) total time=   6.3s\n",
            "[CV 2/3] END C=0.8, gamma=0.1, kernel=linear; balanced_accuracy: (test=0.515) f1_weighted: (test=0.492) total time=   6.9s\n",
            "[CV 3/3] END C=0.8, gamma=0.1, kernel=linear; balanced_accuracy: (test=0.518) f1_weighted: (test=0.502) total time=   6.6s\n",
            "[CV 1/3] END C=0.8, gamma=0.1, kernel=poly; balanced_accuracy: (test=0.637) f1_weighted: (test=0.611) total time=   4.8s\n",
            "[CV 2/3] END C=0.8, gamma=0.1, kernel=poly; balanced_accuracy: (test=0.637) f1_weighted: (test=0.605) total time=   3.9s\n",
            "[CV 3/3] END C=0.8, gamma=0.1, kernel=poly; balanced_accuracy: (test=0.649) f1_weighted: (test=0.622) total time=   4.8s\n",
            "[CV 1/3] END C=0.8, gamma=0.1, kernel=rbf; balanced_accuracy: (test=0.669) f1_weighted: (test=0.646) total time=   8.2s\n",
            "[CV 2/3] END C=0.8, gamma=0.1, kernel=rbf; balanced_accuracy: (test=0.657) f1_weighted: (test=0.630) total time=   8.6s\n",
            "[CV 3/3] END C=0.8, gamma=0.1, kernel=rbf; balanced_accuracy: (test=0.667) f1_weighted: (test=0.644) total time=  11.0s\n",
            "[CV 1/3] END C=0.8, gamma=0.1, kernel=sigmoid; balanced_accuracy: (test=0.165) f1_weighted: (test=0.174) total time=   6.5s\n",
            "[CV 2/3] END C=0.8, gamma=0.1, kernel=sigmoid; balanced_accuracy: (test=0.155) f1_weighted: (test=0.163) total time=   6.1s\n",
            "[CV 3/3] END C=0.8, gamma=0.1, kernel=sigmoid; balanced_accuracy: (test=0.152) f1_weighted: (test=0.153) total time=   5.8s\n",
            "[CV 1/3] END C=0.8, gamma=0.05, kernel=linear; balanced_accuracy: (test=0.510) f1_weighted: (test=0.498) total time=   6.3s\n",
            "[CV 2/3] END C=0.8, gamma=0.05, kernel=linear; balanced_accuracy: (test=0.515) f1_weighted: (test=0.492) total time=   6.1s\n",
            "[CV 3/3] END C=0.8, gamma=0.05, kernel=linear; balanced_accuracy: (test=0.518) f1_weighted: (test=0.502) total time=   6.2s\n",
            "[CV 1/3] END C=0.8, gamma=0.05, kernel=poly; balanced_accuracy: (test=0.647) f1_weighted: (test=0.625) total time=   3.4s\n",
            "[CV 2/3] END C=0.8, gamma=0.05, kernel=poly; balanced_accuracy: (test=0.635) f1_weighted: (test=0.607) total time=   3.4s\n",
            "[CV 3/3] END C=0.8, gamma=0.05, kernel=poly; balanced_accuracy: (test=0.648) f1_weighted: (test=0.624) total time=   3.5s\n",
            "[CV 1/3] END C=0.8, gamma=0.05, kernel=rbf; balanced_accuracy: (test=0.665) f1_weighted: (test=0.640) total time=   7.4s\n",
            "[CV 2/3] END C=0.8, gamma=0.05, kernel=rbf; balanced_accuracy: (test=0.654) f1_weighted: (test=0.627) total time=   6.4s\n",
            "[CV 3/3] END C=0.8, gamma=0.05, kernel=rbf; balanced_accuracy: (test=0.662) f1_weighted: (test=0.639) total time=   6.6s\n",
            "[CV 1/3] END C=0.8, gamma=0.05, kernel=sigmoid; balanced_accuracy: (test=0.175) f1_weighted: (test=0.183) total time=   4.9s\n",
            "[CV 2/3] END C=0.8, gamma=0.05, kernel=sigmoid; balanced_accuracy: (test=0.174) f1_weighted: (test=0.184) total time=   4.7s\n",
            "[CV 3/3] END C=0.8, gamma=0.05, kernel=sigmoid; balanced_accuracy: (test=0.170) f1_weighted: (test=0.176) total time=   4.8s\n",
            "[CV 1/3] END C=0.9, gamma=scale, kernel=linear; balanced_accuracy: (test=0.508) f1_weighted: (test=0.498) total time=   6.6s\n",
            "[CV 2/3] END C=0.9, gamma=scale, kernel=linear; balanced_accuracy: (test=0.515) f1_weighted: (test=0.493) total time=   6.4s\n",
            "[CV 3/3] END C=0.9, gamma=scale, kernel=linear; balanced_accuracy: (test=0.517) f1_weighted: (test=0.501) total time=   6.7s\n",
            "[CV 1/3] END C=0.9, gamma=scale, kernel=poly; balanced_accuracy: (test=0.578) f1_weighted: (test=0.564) total time=   3.6s\n",
            "[CV 2/3] END C=0.9, gamma=scale, kernel=poly; balanced_accuracy: (test=0.568) f1_weighted: (test=0.556) total time=   3.6s\n",
            "[CV 3/3] END C=0.9, gamma=scale, kernel=poly; balanced_accuracy: (test=0.584) f1_weighted: (test=0.574) total time=   4.4s\n",
            "[CV 1/3] END C=0.9, gamma=scale, kernel=rbf; balanced_accuracy: (test=0.661) f1_weighted: (test=0.635) total time=   6.2s\n",
            "[CV 2/3] END C=0.9, gamma=scale, kernel=rbf; balanced_accuracy: (test=0.641) f1_weighted: (test=0.615) total time=   6.0s\n",
            "[CV 3/3] END C=0.9, gamma=scale, kernel=rbf; balanced_accuracy: (test=0.645) f1_weighted: (test=0.623) total time=   5.9s\n",
            "[CV 1/3] END C=0.9, gamma=scale, kernel=sigmoid; balanced_accuracy: (test=0.189) f1_weighted: (test=0.200) total time=   4.5s\n",
            "[CV 2/3] END C=0.9, gamma=scale, kernel=sigmoid; balanced_accuracy: (test=0.189) f1_weighted: (test=0.202) total time=   4.5s\n",
            "[CV 3/3] END C=0.9, gamma=scale, kernel=sigmoid; balanced_accuracy: (test=0.182) f1_weighted: (test=0.190) total time=   4.4s\n",
            "[CV 1/3] END C=0.9, gamma=auto, kernel=linear; balanced_accuracy: (test=0.508) f1_weighted: (test=0.498) total time=   6.6s\n",
            "[CV 2/3] END C=0.9, gamma=auto, kernel=linear; balanced_accuracy: (test=0.515) f1_weighted: (test=0.493) total time=   6.5s\n",
            "[CV 3/3] END C=0.9, gamma=auto, kernel=linear; balanced_accuracy: (test=0.517) f1_weighted: (test=0.501) total time=   6.9s\n",
            "[CV 1/3] END C=0.9, gamma=auto, kernel=poly; balanced_accuracy: (test=0.578) f1_weighted: (test=0.564) total time=   3.6s\n",
            "[CV 2/3] END C=0.9, gamma=auto, kernel=poly; balanced_accuracy: (test=0.568) f1_weighted: (test=0.556) total time=   3.6s\n",
            "[CV 3/3] END C=0.9, gamma=auto, kernel=poly; balanced_accuracy: (test=0.584) f1_weighted: (test=0.574) total time=   3.7s\n",
            "[CV 1/3] END C=0.9, gamma=auto, kernel=rbf; balanced_accuracy: (test=0.661) f1_weighted: (test=0.635) total time=   6.0s\n",
            "[CV 2/3] END C=0.9, gamma=auto, kernel=rbf; balanced_accuracy: (test=0.641) f1_weighted: (test=0.615) total time=   7.9s\n",
            "[CV 3/3] END C=0.9, gamma=auto, kernel=rbf; balanced_accuracy: (test=0.645) f1_weighted: (test=0.623) total time=   8.0s\n",
            "[CV 1/3] END C=0.9, gamma=auto, kernel=sigmoid; balanced_accuracy: (test=0.189) f1_weighted: (test=0.201) total time=   6.6s\n",
            "[CV 2/3] END C=0.9, gamma=auto, kernel=sigmoid; balanced_accuracy: (test=0.189) f1_weighted: (test=0.202) total time=   6.3s\n",
            "[CV 3/3] END C=0.9, gamma=auto, kernel=sigmoid; balanced_accuracy: (test=0.183) f1_weighted: (test=0.191) total time=   4.8s\n",
            "[CV 1/3] END C=0.9, gamma=0.1, kernel=linear; balanced_accuracy: (test=0.508) f1_weighted: (test=0.498) total time=   6.5s\n",
            "[CV 2/3] END C=0.9, gamma=0.1, kernel=linear; balanced_accuracy: (test=0.515) f1_weighted: (test=0.493) total time=   7.3s\n",
            "[CV 3/3] END C=0.9, gamma=0.1, kernel=linear; balanced_accuracy: (test=0.517) f1_weighted: (test=0.501) total time=   6.7s\n",
            "[CV 1/3] END C=0.9, gamma=0.1, kernel=poly; balanced_accuracy: (test=0.635) f1_weighted: (test=0.608) total time=   4.0s\n",
            "[CV 2/3] END C=0.9, gamma=0.1, kernel=poly; balanced_accuracy: (test=0.635) f1_weighted: (test=0.604) total time=   4.0s\n",
            "[CV 3/3] END C=0.9, gamma=0.1, kernel=poly; balanced_accuracy: (test=0.647) f1_weighted: (test=0.620) total time=   4.3s\n",
            "[CV 1/3] END C=0.9, gamma=0.1, kernel=rbf; balanced_accuracy: (test=0.671) f1_weighted: (test=0.648) total time=   7.8s\n",
            "[CV 2/3] END C=0.9, gamma=0.1, kernel=rbf; balanced_accuracy: (test=0.662) f1_weighted: (test=0.635) total time=   8.0s\n",
            "[CV 3/3] END C=0.9, gamma=0.1, kernel=rbf; balanced_accuracy: (test=0.670) f1_weighted: (test=0.648) total time=   8.4s\n",
            "[CV 1/3] END C=0.9, gamma=0.1, kernel=sigmoid; balanced_accuracy: (test=0.165) f1_weighted: (test=0.173) total time=   5.8s\n",
            "[CV 2/3] END C=0.9, gamma=0.1, kernel=sigmoid; balanced_accuracy: (test=0.155) f1_weighted: (test=0.163) total time=   5.7s\n",
            "[CV 3/3] END C=0.9, gamma=0.1, kernel=sigmoid; balanced_accuracy: (test=0.153) f1_weighted: (test=0.154) total time=   6.9s\n",
            "[CV 1/3] END C=0.9, gamma=0.05, kernel=linear; balanced_accuracy: (test=0.508) f1_weighted: (test=0.498) total time=   6.7s\n",
            "[CV 2/3] END C=0.9, gamma=0.05, kernel=linear; balanced_accuracy: (test=0.515) f1_weighted: (test=0.493) total time=   6.4s\n",
            "[CV 3/3] END C=0.9, gamma=0.05, kernel=linear; balanced_accuracy: (test=0.517) f1_weighted: (test=0.501) total time=   6.6s\n",
            "[CV 1/3] END C=0.9, gamma=0.05, kernel=poly; balanced_accuracy: (test=0.648) f1_weighted: (test=0.625) total time=   3.5s\n",
            "[CV 2/3] END C=0.9, gamma=0.05, kernel=poly; balanced_accuracy: (test=0.635) f1_weighted: (test=0.607) total time=   3.4s\n",
            "[CV 3/3] END C=0.9, gamma=0.05, kernel=poly; balanced_accuracy: (test=0.647) f1_weighted: (test=0.622) total time=   3.5s\n",
            "[CV 1/3] END C=0.9, gamma=0.05, kernel=rbf; balanced_accuracy: (test=0.665) f1_weighted: (test=0.640) total time=   6.5s\n",
            "[CV 2/3] END C=0.9, gamma=0.05, kernel=rbf; balanced_accuracy: (test=0.657) f1_weighted: (test=0.630) total time=   6.3s\n",
            "[CV 3/3] END C=0.9, gamma=0.05, kernel=rbf; balanced_accuracy: (test=0.667) f1_weighted: (test=0.644) total time=   6.5s\n",
            "[CV 1/3] END C=0.9, gamma=0.05, kernel=sigmoid; balanced_accuracy: (test=0.175) f1_weighted: (test=0.183) total time=   5.0s\n",
            "[CV 2/3] END C=0.9, gamma=0.05, kernel=sigmoid; balanced_accuracy: (test=0.173) f1_weighted: (test=0.184) total time=   4.7s\n",
            "[CV 3/3] END C=0.9, gamma=0.05, kernel=sigmoid; balanced_accuracy: (test=0.171) f1_weighted: (test=0.177) total time=   4.8s\n",
            "[CV 1/3] END C=1.0, gamma=scale, kernel=linear; balanced_accuracy: (test=0.508) f1_weighted: (test=0.498) total time=   6.9s\n",
            "[CV 2/3] END C=1.0, gamma=scale, kernel=linear; balanced_accuracy: (test=0.515) f1_weighted: (test=0.492) total time=   6.6s\n",
            "[CV 3/3] END C=1.0, gamma=scale, kernel=linear; balanced_accuracy: (test=0.516) f1_weighted: (test=0.501) total time=   6.8s\n",
            "[CV 1/3] END C=1.0, gamma=scale, kernel=poly; balanced_accuracy: (test=0.579) f1_weighted: (test=0.565) total time=   3.6s\n",
            "[CV 2/3] END C=1.0, gamma=scale, kernel=poly; balanced_accuracy: (test=0.573) f1_weighted: (test=0.561) total time=   3.6s\n",
            "[CV 3/3] END C=1.0, gamma=scale, kernel=poly; balanced_accuracy: (test=0.587) f1_weighted: (test=0.577) total time=   4.4s\n",
            "[CV 1/3] END C=1.0, gamma=scale, kernel=rbf; balanced_accuracy: (test=0.662) f1_weighted: (test=0.637) total time=   5.9s\n",
            "[CV 2/3] END C=1.0, gamma=scale, kernel=rbf; balanced_accuracy: (test=0.642) f1_weighted: (test=0.616) total time=   5.8s\n",
            "[CV 3/3] END C=1.0, gamma=scale, kernel=rbf; balanced_accuracy: (test=0.649) f1_weighted: (test=0.626) total time=   5.9s\n",
            "[CV 1/3] END C=1.0, gamma=scale, kernel=sigmoid; balanced_accuracy: (test=0.190) f1_weighted: (test=0.201) total time=   4.4s\n",
            "[CV 2/3] END C=1.0, gamma=scale, kernel=sigmoid; balanced_accuracy: (test=0.188) f1_weighted: (test=0.201) total time=   4.4s\n",
            "[CV 3/3] END C=1.0, gamma=scale, kernel=sigmoid; balanced_accuracy: (test=0.182) f1_weighted: (test=0.191) total time=   4.4s\n",
            "[CV 1/3] END C=1.0, gamma=auto, kernel=linear; balanced_accuracy: (test=0.508) f1_weighted: (test=0.498) total time=   6.8s\n",
            "[CV 2/3] END C=1.0, gamma=auto, kernel=linear; balanced_accuracy: (test=0.515) f1_weighted: (test=0.492) total time=   6.6s\n",
            "[CV 3/3] END C=1.0, gamma=auto, kernel=linear; balanced_accuracy: (test=0.516) f1_weighted: (test=0.501) total time=   6.8s\n",
            "[CV 1/3] END C=1.0, gamma=auto, kernel=poly; balanced_accuracy: (test=0.579) f1_weighted: (test=0.565) total time=   3.6s\n",
            "[CV 2/3] END C=1.0, gamma=auto, kernel=poly; balanced_accuracy: (test=0.573) f1_weighted: (test=0.561) total time=   3.5s\n",
            "[CV 3/3] END C=1.0, gamma=auto, kernel=poly; balanced_accuracy: (test=0.586) f1_weighted: (test=0.576) total time=   3.7s\n",
            "[CV 1/3] END C=1.0, gamma=auto, kernel=rbf; balanced_accuracy: (test=0.662) f1_weighted: (test=0.637) total time=   6.1s\n",
            "[CV 2/3] END C=1.0, gamma=auto, kernel=rbf; balanced_accuracy: (test=0.642) f1_weighted: (test=0.616) total time=   5.8s\n",
            "[CV 3/3] END C=1.0, gamma=auto, kernel=rbf; balanced_accuracy: (test=0.648) f1_weighted: (test=0.625) total time=   5.9s\n",
            "[CV 1/3] END C=1.0, gamma=auto, kernel=sigmoid; balanced_accuracy: (test=0.191) f1_weighted: (test=0.202) total time=   4.5s\n",
            "[CV 2/3] END C=1.0, gamma=auto, kernel=sigmoid; balanced_accuracy: (test=0.188) f1_weighted: (test=0.201) total time=   4.3s\n",
            "[CV 3/3] END C=1.0, gamma=auto, kernel=sigmoid; balanced_accuracy: (test=0.183) f1_weighted: (test=0.192) total time=   4.4s\n",
            "[CV 1/3] END C=1.0, gamma=0.1, kernel=linear; balanced_accuracy: (test=0.508) f1_weighted: (test=0.498) total time=   7.8s\n",
            "[CV 2/3] END C=1.0, gamma=0.1, kernel=linear; balanced_accuracy: (test=0.515) f1_weighted: (test=0.492) total time=   6.7s\n",
            "[CV 3/3] END C=1.0, gamma=0.1, kernel=linear; balanced_accuracy: (test=0.516) f1_weighted: (test=0.501) total time=   6.8s\n",
            "[CV 1/3] END C=1.0, gamma=0.1, kernel=poly; balanced_accuracy: (test=0.635) f1_weighted: (test=0.608) total time=   4.0s\n",
            "[CV 2/3] END C=1.0, gamma=0.1, kernel=poly; balanced_accuracy: (test=0.638) f1_weighted: (test=0.606) total time=   3.9s\n",
            "[CV 3/3] END C=1.0, gamma=0.1, kernel=poly; balanced_accuracy: (test=0.644) f1_weighted: (test=0.617) total time=   4.0s\n",
            "[CV 1/3] END C=1.0, gamma=0.1, kernel=rbf; balanced_accuracy: (test=0.673) f1_weighted: (test=0.649) total time=   7.8s\n",
            "[CV 2/3] END C=1.0, gamma=0.1, kernel=rbf; balanced_accuracy: (test=0.666) f1_weighted: (test=0.639) total time=   7.8s\n",
            "[CV 3/3] END C=1.0, gamma=0.1, kernel=rbf; balanced_accuracy: (test=0.674) f1_weighted: (test=0.652) total time=   7.8s\n",
            "[CV 1/3] END C=1.0, gamma=0.1, kernel=sigmoid; balanced_accuracy: (test=0.159) f1_weighted: (test=0.167) total time=   5.9s\n",
            "[CV 2/3] END C=1.0, gamma=0.1, kernel=sigmoid; balanced_accuracy: (test=0.154) f1_weighted: (test=0.162) total time=   5.7s\n",
            "[CV 3/3] END C=1.0, gamma=0.1, kernel=sigmoid; balanced_accuracy: (test=0.152) f1_weighted: (test=0.153) total time=   6.5s\n",
            "[CV 1/3] END C=1.0, gamma=0.05, kernel=linear; balanced_accuracy: (test=0.508) f1_weighted: (test=0.498) total time=   8.7s\n",
            "[CV 2/3] END C=1.0, gamma=0.05, kernel=linear; balanced_accuracy: (test=0.515) f1_weighted: (test=0.492) total time=   8.0s\n",
            "[CV 3/3] END C=1.0, gamma=0.05, kernel=linear; balanced_accuracy: (test=0.516) f1_weighted: (test=0.501) total time=   8.9s\n",
            "[CV 1/3] END C=1.0, gamma=0.05, kernel=poly; balanced_accuracy: (test=0.649) f1_weighted: (test=0.627) total time=   3.6s\n",
            "[CV 2/3] END C=1.0, gamma=0.05, kernel=poly; balanced_accuracy: (test=0.639) f1_weighted: (test=0.610) total time=   4.4s\n",
            "[CV 3/3] END C=1.0, gamma=0.05, kernel=poly; balanced_accuracy: (test=0.650) f1_weighted: (test=0.625) total time=   3.5s\n",
            "[CV 1/3] END C=1.0, gamma=0.05, kernel=rbf; balanced_accuracy: (test=0.671) f1_weighted: (test=0.645) total time=   6.4s\n",
            "[CV 2/3] END C=1.0, gamma=0.05, kernel=rbf; balanced_accuracy: (test=0.660) f1_weighted: (test=0.632) total time=   6.3s\n",
            "[CV 3/3] END C=1.0, gamma=0.05, kernel=rbf; balanced_accuracy: (test=0.668) f1_weighted: (test=0.645) total time=   6.4s\n",
            "[CV 1/3] END C=1.0, gamma=0.05, kernel=sigmoid; balanced_accuracy: (test=0.174) f1_weighted: (test=0.182) total time=   4.9s\n",
            "[CV 2/3] END C=1.0, gamma=0.05, kernel=sigmoid; balanced_accuracy: (test=0.173) f1_weighted: (test=0.184) total time=   4.7s\n",
            "[CV 3/3] END C=1.0, gamma=0.05, kernel=sigmoid; balanced_accuracy: (test=0.171) f1_weighted: (test=0.177) total time=   4.7s\n"
          ]
        },
        {
          "data": {
            "text/plain": [
              "GridSearchCV(cv=3, estimator=SVC(gamma='auto'),\n",
              "             param_grid={'C': [0.1, 0.2, 0.3, 0.4, 0.5, 0.6, 0.7, 0.8, 0.9,\n",
              "                               1.0],\n",
              "                         'gamma': ['scale', 'auto', 0.1, 0.05],\n",
              "                         'kernel': ['linear', 'poly', 'rbf', 'sigmoid']},\n",
              "             refit='balanced_accuracy',\n",
              "             scoring=['balanced_accuracy', 'f1_weighted'], verbose=4)"
            ]
          },
          "execution_count": 21,
          "metadata": {},
          "output_type": "execute_result"
        }
      ],
      "source": [
        "grid.fit(X_train, y_train)"
      ]
    },
    {
      "cell_type": "code",
      "execution_count": 22,
      "metadata": {
        "colab": {
          "base_uri": "https://localhost:8080/"
        },
        "id": "fYXhl4p6nUI4",
        "outputId": "5fec7d55-e9b4-4684-8924-7a34e1678bf3"
      },
      "outputs": [
        {
          "name": "stdout",
          "output_type": "stream",
          "text": [
            "Los parametros del mejor modelo: {'C': 1.0, 'gamma': 0.1, 'kernel': 'rbf'}\n"
          ]
        }
      ],
      "source": [
        "print(f'Los parametros del mejor modelo: {grid.best_params_}')"
      ]
    },
    {
      "cell_type": "code",
      "execution_count": 23,
      "metadata": {
        "id": "DdUgNI-OneVD"
      },
      "outputs": [],
      "source": [
        "y_pred_test = grid.predict(X_test)"
      ]
    },
    {
      "cell_type": "code",
      "execution_count": 24,
      "metadata": {
        "colab": {
          "base_uri": "https://localhost:8080/",
          "height": 743
        },
        "id": "N8FCeIqbn2w-",
        "outputId": "8677b200-e588-45f8-aa05-1c9829fae6c2"
      },
      "outputs": [
        {
          "name": "stdout",
          "output_type": "stream",
          "text": [
            "0.6765625\n",
            "              precision    recall  f1-score   support\n",
            "\n",
            "           0       0.77      0.84      0.80       221\n",
            "           1       0.57      0.56      0.57       188\n",
            "           2       0.71      0.55      0.62       216\n",
            "           3       0.69      0.59      0.64       222\n",
            "           4       0.60      0.70      0.64       175\n",
            "           5       0.67      0.74      0.70       213\n",
            "           6       0.84      0.96      0.90        45\n",
            "\n",
            "    accuracy                           0.68      1280\n",
            "   macro avg       0.69      0.71      0.70      1280\n",
            "weighted avg       0.68      0.68      0.67      1280\n",
            "\n"
          ]
        },
        {
          "data": {
            "image/png": "[encoded data removed]",
            "text/plain": [
              "<Figure size 720x576 with 2 Axes>"
            ]
          },
          "metadata": {
            "needs_background": "light"
          },
          "output_type": "display_data"
        }
      ],
      "source": [
        "print(accuracy_score(y_true=y_test,y_pred=y_pred_test))\n",
        "print(classification_report(y_test,y_pred_test)) \n",
        "matrizr = confusion_matrix(y_test,y_pred_test)\n",
        "plt.figure(figsize=(10,8))\n",
        "sns.heatmap(matrizr, annot=True, fmt=\"d\");"
      ]
    },
    {
      "cell_type": "code",
      "execution_count": 28,
      "metadata": {},
      "outputs": [],
      "source": [
        "\n",
        "import pickle\n",
        "pickle.dump(grid, open('SVM.model','wb'))"
      ]
    }
  ],
  "metadata": {
    "accelerator": "GPU",
    "colab": {
      "provenance": []
    },
    "gpuClass": "standard",
    "kernelspec": {
      "display_name": "Python 3.9.12 ('base')",
      "language": "python",
      "name": "python3"
    },
    "language_info": {
      "codemirror_mode": {
        "name": "ipython",
        "version": 3
      },
      "file_extension": ".py",
      "mimetype": "text/x-python",
      "name": "python",
      "nbconvert_exporter": "python",
      "pygments_lexer": "ipython3",
      "version": "3.9.12"
    },
    "vscode": {
      "interpreter": {
        "hash": "17bf8d3a28df8f86688888131ff3dc5c77e881409d40b4e5db72eb178f503fa9"
      }
    }
  },
  "nbformat": 4,
  "nbformat_minor": 0
}
