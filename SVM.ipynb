{
  "cells": [
    {
      "cell_type": "code",
      "execution_count": null,
      "metadata": {
        "id": "j1vJcuKpYpDk"
      },
      "outputs": [],
      "source": [
        "import numpy as np\n",
        "import pandas as pd\n",
        "\n",
        "import os\n",
        "\n",
        "from matplotlib import pyplot as plt\n",
        "from matplotlib.pyplot import specgram\n",
        "\n",
        "import librosa\n",
        "import librosa.display\n",
        "import IPython.display as ipd\n",
        "from IPython.display import Audio\n",
        "\n",
        "from sklearn.svm import SVC\n",
        "from sklearn import preprocessing\n",
        "from sklearn.model_selection import train_test_split, cross_validate\n",
        "from sklearn.model_selection import KFold\n",
        "from sklearn.metrics import classification_report\n",
        "from sklearn.metrics import confusion_matrix,accuracy_score, precision_score, recall_score, f1_score\n",
        "from sklearn.preprocessing import StandardScaler\n",
        "import seaborn as sns\n",
        "from sklearn.model_selection import GridSearchCV"
      ]
    },
    {
      "cell_type": "code",
      "execution_count": null,
      "metadata": {
        "colab": {
          "base_uri": "https://localhost:8080/"
        },
        "id": "gO35d08RaT_x",
        "outputId": "c296dd5e-76b4-4f47-a4d6-20877612816d"
      },
      "outputs": [
        {
          "name": "stdout",
          "output_type": "stream",
          "text": [
            "Drive already mounted at /content/drive; to attempt to forcibly remount, call drive.mount(\"/content/drive\", force_remount=True).\n",
            "/content/drive/MyDrive/Colab Notebooks/Aprendizaje de maquinas/Proyecto\n"
          ]
        }
      ],
      "source": [
        "from google.colab import drive\n",
        "drive.mount('/content/drive')\n",
        "%cd /content/drive/MyDrive/Colab Notebooks/Aprendizaje de maquinas/Proyecto"
      ]
    },
    {
      "cell_type": "code",
      "execution_count": null,
      "metadata": {
        "id": "hvPvghQUaJ9f"
      },
      "outputs": [],
      "source": [
        "paths=[]\n",
        "labels=[]\n",
        "\n",
        "for dirname, _, filenames in os.walk('DataSets/Emotions/'):\n",
        "    for filename in filenames:\n",
        "        paths.append(os.path.join(dirname, filename))\n",
        "        label = filename[::-1].split('.')[0][::-1]\n",
        "        name = dirname[::].split('/')[2]\n",
        "        name_complete = name+'.'+label\n",
        "        labels.append(name_complete.lower())"
      ]
    },
    {
      "cell_type": "code",
      "execution_count": null,
      "metadata": {
        "colab": {
          "base_uri": "https://localhost:8080/",
          "height": 363
        },
        "id": "Dq1VZCBQbNSu",
        "outputId": "78f09205-b346-41c6-dc72-c82e67075b6e"
      },
      "outputs": [
        {
          "data": {
            "text/html": [
              "\n",
              "  <div id=\"df-7728e344-01b6-40de-918b-5d057b6b6cf8\">\n",
              "    <div class=\"colab-df-container\">\n",
              "      <div>\n",
              "<style scoped>\n",
              "    .dataframe tbody tr th:only-of-type {\n",
              "        vertical-align: middle;\n",
              "    }\n",
              "\n",
              "    .dataframe tbody tr th {\n",
              "        vertical-align: top;\n",
              "    }\n",
              "\n",
              "    .dataframe thead th {\n",
              "        text-align: right;\n",
              "    }\n",
              "</style>\n",
              "<table border=\"1\" class=\"dataframe\">\n",
              "  <thead>\n",
              "    <tr style=\"text-align: right;\">\n",
              "      <th></th>\n",
              "      <th>speech</th>\n",
              "      <th>label</th>\n",
              "    </tr>\n",
              "  </thead>\n",
              "  <tbody>\n",
              "    <tr>\n",
              "      <th>3294</th>\n",
              "      <td>DataSets/Emotions/Sad/OAF_kite_sad.wav</td>\n",
              "      <td>sad.wav</td>\n",
              "    </tr>\n",
              "    <tr>\n",
              "      <th>5178</th>\n",
              "      <td>DataSets/Emotions/Fearful/1071_IEO_FEA_MD.wav</td>\n",
              "      <td>fearful.wav</td>\n",
              "    </tr>\n",
              "    <tr>\n",
              "      <th>6336</th>\n",
              "      <td>DataSets/Emotions/Fearful/1008_TSI_FEA_XX.wav</td>\n",
              "      <td>fearful.wav</td>\n",
              "    </tr>\n",
              "    <tr>\n",
              "      <th>6005</th>\n",
              "      <td>DataSets/Emotions/Fearful/03-01-06-02-01-02-17...</td>\n",
              "      <td>fearful.wav</td>\n",
              "    </tr>\n",
              "    <tr>\n",
              "      <th>8280</th>\n",
              "      <td>DataSets/Emotions/Happy/1011_IWL_HAP_XX.wav</td>\n",
              "      <td>happy.wav</td>\n",
              "    </tr>\n",
              "    <tr>\n",
              "      <th>7726</th>\n",
              "      <td>DataSets/Emotions/Happy/YAF_cheek_happy.wav</td>\n",
              "      <td>happy.wav</td>\n",
              "    </tr>\n",
              "    <tr>\n",
              "      <th>5014</th>\n",
              "      <td>DataSets/Emotions/Fearful/1044_IEO_FEA_HI.wav</td>\n",
              "      <td>fearful.wav</td>\n",
              "    </tr>\n",
              "    <tr>\n",
              "      <th>9973</th>\n",
              "      <td>DataSets/Emotions/Neutral/YAF_tire_neutral.wav</td>\n",
              "      <td>neutral.wav</td>\n",
              "    </tr>\n",
              "    <tr>\n",
              "      <th>643</th>\n",
              "      <td>DataSets/Emotions/Angry/1063_IEO_ANG_MD.wav</td>\n",
              "      <td>angry.wav</td>\n",
              "    </tr>\n",
              "    <tr>\n",
              "      <th>2931</th>\n",
              "      <td>DataSets/Emotions/Sad/1060_TSI_SAD_XX.wav</td>\n",
              "      <td>sad.wav</td>\n",
              "    </tr>\n",
              "  </tbody>\n",
              "</table>\n",
              "</div>\n",
              "      <button class=\"colab-df-convert\" onclick=\"convertToInteractive('df-7728e344-01b6-40de-918b-5d057b6b6cf8')\"\n",
              "              title=\"Convert this dataframe to an interactive table.\"\n",
              "              style=\"display:none;\">\n",
              "        \n",
              "  <svg xmlns=\"http://www.w3.org/2000/svg\" height=\"24px\"viewBox=\"0 0 24 24\"\n",
              "       width=\"24px\">\n",
              "    <path d=\"M0 0h24v24H0V0z\" fill=\"none\"/>\n",
              "    <path d=\"M18.56 5.44l.94 2.06.94-2.06 2.06-.94-2.06-.94-.94-2.06-.94 2.06-2.06.94zm-11 1L8.5 8.5l.94-2.06 2.06-.94-2.06-.94L8.5 2.5l-.94 2.06-2.06.94zm10 10l.94 2.06.94-2.06 2.06-.94-2.06-.94-.94-2.06-.94 2.06-2.06.94z\"/><path d=\"M17.41 7.96l-1.37-1.37c-.4-.4-.92-.59-1.43-.59-.52 0-1.04.2-1.43.59L10.3 9.45l-7.72 7.72c-.78.78-.78 2.05 0 2.83L4 21.41c.39.39.9.59 1.41.59.51 0 1.02-.2 1.41-.59l7.78-7.78 2.81-2.81c.8-.78.8-2.07 0-2.86zM5.41 20L4 18.59l7.72-7.72 1.47 1.35L5.41 20z\"/>\n",
              "  </svg>\n",
              "      </button>\n",
              "      \n",
              "  <style>\n",
              "    .colab-df-container {\n",
              "      display:flex;\n",
              "      flex-wrap:wrap;\n",
              "      gap: 12px;\n",
              "    }\n",
              "\n",
              "    .colab-df-convert {\n",
              "      background-color: #E8F0FE;\n",
              "      border: none;\n",
              "      border-radius: 50%;\n",
              "      cursor: pointer;\n",
              "      display: none;\n",
              "      fill: #1967D2;\n",
              "      height: 32px;\n",
              "      padding: 0 0 0 0;\n",
              "      width: 32px;\n",
              "    }\n",
              "\n",
              "    .colab-df-convert:hover {\n",
              "      background-color: #E2EBFA;\n",
              "      box-shadow: 0px 1px 2px rgba(60, 64, 67, 0.3), 0px 1px 3px 1px rgba(60, 64, 67, 0.15);\n",
              "      fill: #174EA6;\n",
              "    }\n",
              "\n",
              "    [theme=dark] .colab-df-convert {\n",
              "      background-color: #3B4455;\n",
              "      fill: #D2E3FC;\n",
              "    }\n",
              "\n",
              "    [theme=dark] .colab-df-convert:hover {\n",
              "      background-color: #434B5C;\n",
              "      box-shadow: 0px 1px 3px 1px rgba(0, 0, 0, 0.15);\n",
              "      filter: drop-shadow(0px 1px 2px rgba(0, 0, 0, 0.3));\n",
              "      fill: #FFFFFF;\n",
              "    }\n",
              "  </style>\n",
              "\n",
              "      <script>\n",
              "        const buttonEl =\n",
              "          document.querySelector('#df-7728e344-01b6-40de-918b-5d057b6b6cf8 button.colab-df-convert');\n",
              "        buttonEl.style.display =\n",
              "          google.colab.kernel.accessAllowed ? 'block' : 'none';\n",
              "\n",
              "        async function convertToInteractive(key) {\n",
              "          const element = document.querySelector('#df-7728e344-01b6-40de-918b-5d057b6b6cf8');\n",
              "          const dataTable =\n",
              "            await google.colab.kernel.invokeFunction('convertToInteractive',\n",
              "                                                     [key], {});\n",
              "          if (!dataTable) return;\n",
              "\n",
              "          const docLinkHtml = 'Like what you see? Visit the ' +\n",
              "            '<a target=\"_blank\" href=https://colab.research.google.com/notebooks/data_table.ipynb>data table notebook</a>'\n",
              "            + ' to learn more about interactive tables.';\n",
              "          element.innerHTML = '';\n",
              "          dataTable['output_type'] = 'display_data';\n",
              "          await google.colab.output.renderOutput(dataTable, element);\n",
              "          const docLink = document.createElement('div');\n",
              "          docLink.innerHTML = docLinkHtml;\n",
              "          element.appendChild(docLink);\n",
              "        }\n",
              "      </script>\n",
              "    </div>\n",
              "  </div>\n",
              "  "
            ],
            "text/plain": [
              "                                                 speech        label\n",
              "3294             DataSets/Emotions/Sad/OAF_kite_sad.wav      sad.wav\n",
              "5178      DataSets/Emotions/Fearful/1071_IEO_FEA_MD.wav  fearful.wav\n",
              "6336      DataSets/Emotions/Fearful/1008_TSI_FEA_XX.wav  fearful.wav\n",
              "6005  DataSets/Emotions/Fearful/03-01-06-02-01-02-17...  fearful.wav\n",
              "8280        DataSets/Emotions/Happy/1011_IWL_HAP_XX.wav    happy.wav\n",
              "7726        DataSets/Emotions/Happy/YAF_cheek_happy.wav    happy.wav\n",
              "5014      DataSets/Emotions/Fearful/1044_IEO_FEA_HI.wav  fearful.wav\n",
              "9973     DataSets/Emotions/Neutral/YAF_tire_neutral.wav  neutral.wav\n",
              "643         DataSets/Emotions/Angry/1063_IEO_ANG_MD.wav    angry.wav\n",
              "2931          DataSets/Emotions/Sad/1060_TSI_SAD_XX.wav      sad.wav"
            ]
          },
          "execution_count": 26,
          "metadata": {},
          "output_type": "execute_result"
        }
      ],
      "source": [
        "data = pd.DataFrame({'speech':paths,'label':labels})\n",
        "data.sample(10)"
      ]
    },
    {
      "cell_type": "code",
      "execution_count": null,
      "metadata": {
        "id": "avBbRgqKcP1B"
      },
      "outputs": [],
      "source": [
        "label_encoder = preprocessing.LabelEncoder()\n",
        "data['label'] = data['label'].apply(lambda x: str(x).split('.wav')[0])\n",
        "data['label']= label_encoder.fit_transform(data['label'])"
      ]
    },
    {
      "cell_type": "code",
      "execution_count": null,
      "metadata": {
        "colab": {
          "base_uri": "https://localhost:8080/",
          "height": 206
        },
        "id": "sX2BXmRgdLjq",
        "outputId": "2e502fcc-e5a6-4ec6-ea76-11faa3b77ec8"
      },
      "outputs": [
        {
          "data": {
            "text/html": [
              "\n",
              "  <div id=\"df-c9650b03-fa62-41ca-a887-cf4499a17906\">\n",
              "    <div class=\"colab-df-container\">\n",
              "      <div>\n",
              "<style scoped>\n",
              "    .dataframe tbody tr th:only-of-type {\n",
              "        vertical-align: middle;\n",
              "    }\n",
              "\n",
              "    .dataframe tbody tr th {\n",
              "        vertical-align: top;\n",
              "    }\n",
              "\n",
              "    .dataframe thead th {\n",
              "        text-align: right;\n",
              "    }\n",
              "</style>\n",
              "<table border=\"1\" class=\"dataframe\">\n",
              "  <thead>\n",
              "    <tr style=\"text-align: right;\">\n",
              "      <th></th>\n",
              "      <th>speech</th>\n",
              "      <th>label</th>\n",
              "    </tr>\n",
              "  </thead>\n",
              "  <tbody>\n",
              "    <tr>\n",
              "      <th>0</th>\n",
              "      <td>DataSets/Emotions/Suprised/03-01-08-01-01-01-0...</td>\n",
              "      <td>6</td>\n",
              "    </tr>\n",
              "    <tr>\n",
              "      <th>1</th>\n",
              "      <td>DataSets/Emotions/Suprised/03-01-08-01-01-01-0...</td>\n",
              "      <td>6</td>\n",
              "    </tr>\n",
              "    <tr>\n",
              "      <th>2</th>\n",
              "      <td>DataSets/Emotions/Suprised/03-01-08-01-01-01-0...</td>\n",
              "      <td>6</td>\n",
              "    </tr>\n",
              "    <tr>\n",
              "      <th>3</th>\n",
              "      <td>DataSets/Emotions/Suprised/03-01-08-01-01-01-0...</td>\n",
              "      <td>6</td>\n",
              "    </tr>\n",
              "    <tr>\n",
              "      <th>4</th>\n",
              "      <td>DataSets/Emotions/Suprised/03-01-08-01-01-01-0...</td>\n",
              "      <td>6</td>\n",
              "    </tr>\n",
              "  </tbody>\n",
              "</table>\n",
              "</div>\n",
              "      <button class=\"colab-df-convert\" onclick=\"convertToInteractive('df-c9650b03-fa62-41ca-a887-cf4499a17906')\"\n",
              "              title=\"Convert this dataframe to an interactive table.\"\n",
              "              style=\"display:none;\">\n",
              "        \n",
              "  <svg xmlns=\"http://www.w3.org/2000/svg\" height=\"24px\"viewBox=\"0 0 24 24\"\n",
              "       width=\"24px\">\n",
              "    <path d=\"M0 0h24v24H0V0z\" fill=\"none\"/>\n",
              "    <path d=\"M18.56 5.44l.94 2.06.94-2.06 2.06-.94-2.06-.94-.94-2.06-.94 2.06-2.06.94zm-11 1L8.5 8.5l.94-2.06 2.06-.94-2.06-.94L8.5 2.5l-.94 2.06-2.06.94zm10 10l.94 2.06.94-2.06 2.06-.94-2.06-.94-.94-2.06-.94 2.06-2.06.94z\"/><path d=\"M17.41 7.96l-1.37-1.37c-.4-.4-.92-.59-1.43-.59-.52 0-1.04.2-1.43.59L10.3 9.45l-7.72 7.72c-.78.78-.78 2.05 0 2.83L4 21.41c.39.39.9.59 1.41.59.51 0 1.02-.2 1.41-.59l7.78-7.78 2.81-2.81c.8-.78.8-2.07 0-2.86zM5.41 20L4 18.59l7.72-7.72 1.47 1.35L5.41 20z\"/>\n",
              "  </svg>\n",
              "      </button>\n",
              "      \n",
              "  <style>\n",
              "    .colab-df-container {\n",
              "      display:flex;\n",
              "      flex-wrap:wrap;\n",
              "      gap: 12px;\n",
              "    }\n",
              "\n",
              "    .colab-df-convert {\n",
              "      background-color: #E8F0FE;\n",
              "      border: none;\n",
              "      border-radius: 50%;\n",
              "      cursor: pointer;\n",
              "      display: none;\n",
              "      fill: #1967D2;\n",
              "      height: 32px;\n",
              "      padding: 0 0 0 0;\n",
              "      width: 32px;\n",
              "    }\n",
              "\n",
              "    .colab-df-convert:hover {\n",
              "      background-color: #E2EBFA;\n",
              "      box-shadow: 0px 1px 2px rgba(60, 64, 67, 0.3), 0px 1px 3px 1px rgba(60, 64, 67, 0.15);\n",
              "      fill: #174EA6;\n",
              "    }\n",
              "\n",
              "    [theme=dark] .colab-df-convert {\n",
              "      background-color: #3B4455;\n",
              "      fill: #D2E3FC;\n",
              "    }\n",
              "\n",
              "    [theme=dark] .colab-df-convert:hover {\n",
              "      background-color: #434B5C;\n",
              "      box-shadow: 0px 1px 3px 1px rgba(0, 0, 0, 0.15);\n",
              "      filter: drop-shadow(0px 1px 2px rgba(0, 0, 0, 0.3));\n",
              "      fill: #FFFFFF;\n",
              "    }\n",
              "  </style>\n",
              "\n",
              "      <script>\n",
              "        const buttonEl =\n",
              "          document.querySelector('#df-c9650b03-fa62-41ca-a887-cf4499a17906 button.colab-df-convert');\n",
              "        buttonEl.style.display =\n",
              "          google.colab.kernel.accessAllowed ? 'block' : 'none';\n",
              "\n",
              "        async function convertToInteractive(key) {\n",
              "          const element = document.querySelector('#df-c9650b03-fa62-41ca-a887-cf4499a17906');\n",
              "          const dataTable =\n",
              "            await google.colab.kernel.invokeFunction('convertToInteractive',\n",
              "                                                     [key], {});\n",
              "          if (!dataTable) return;\n",
              "\n",
              "          const docLinkHtml = 'Like what you see? Visit the ' +\n",
              "            '<a target=\"_blank\" href=https://colab.research.google.com/notebooks/data_table.ipynb>data table notebook</a>'\n",
              "            + ' to learn more about interactive tables.';\n",
              "          element.innerHTML = '';\n",
              "          dataTable['output_type'] = 'display_data';\n",
              "          await google.colab.output.renderOutput(dataTable, element);\n",
              "          const docLink = document.createElement('div');\n",
              "          docLink.innerHTML = docLinkHtml;\n",
              "          element.appendChild(docLink);\n",
              "        }\n",
              "      </script>\n",
              "    </div>\n",
              "  </div>\n",
              "  "
            ],
            "text/plain": [
              "                                              speech  label\n",
              "0  DataSets/Emotions/Suprised/03-01-08-01-01-01-0...      6\n",
              "1  DataSets/Emotions/Suprised/03-01-08-01-01-01-0...      6\n",
              "2  DataSets/Emotions/Suprised/03-01-08-01-01-01-0...      6\n",
              "3  DataSets/Emotions/Suprised/03-01-08-01-01-01-0...      6\n",
              "4  DataSets/Emotions/Suprised/03-01-08-01-01-01-0...      6"
            ]
          },
          "execution_count": 28,
          "metadata": {},
          "output_type": "execute_result"
        }
      ],
      "source": [
        "data.head()"
      ]
    },
    {
      "cell_type": "code",
      "execution_count": null,
      "metadata": {
        "colab": {
          "base_uri": "https://localhost:8080/"
        },
        "id": "ewHLJsHafPrJ",
        "outputId": "a6de4d4f-7e57-4ad8-ff27-a8f87d4e5550"
      },
      "outputs": [
        {
          "data": {
            "text/plain": [
              "[6, 0, 5, 2, 3, 4, 1]"
            ]
          },
          "execution_count": 29,
          "metadata": {},
          "output_type": "execute_result"
        }
      ],
      "source": [
        "data['label'].unique().tolist()"
      ]
    },
    {
      "cell_type": "code",
      "execution_count": null,
      "metadata": {
        "id": "PU_ClEiTfYNX"
      },
      "outputs": [],
      "source": [
        "def MFCC(filename):\n",
        "    y, sr = librosa.load(filename,duration=3,offset=0.5)\n",
        "    return np.mean(librosa.feature.mfcc(y=y,sr=sr,n_mfcc=40).T,axis=0)\n",
        "\n",
        "mfcc= data['speech'].apply(lambda x:MFCC(x))"
      ]
    },
    {
      "cell_type": "code",
      "execution_count": null,
      "metadata": {
        "colab": {
          "base_uri": "https://localhost:8080/"
        },
        "id": "zM1s8kbNhtJ3",
        "outputId": "a7fada01-710e-48c5-d0bb-917e259de5e4"
      },
      "outputs": [
        {
          "data": {
            "text/plain": [
              "0        [-634.0881, 63.586414, -2.3689847, 11.394062, ...\n",
              "1        [-541.788, 46.464664, -19.85648, 13.513388, -1...\n",
              "2        [-601.68665, 79.489105, 5.1288147, 16.806583, ...\n",
              "3        [-586.5444, 44.5932, -17.341076, 3.3907297, -1...\n",
              "4        [-594.63055, 70.331024, 1.8334208, 14.906159, ...\n",
              "                               ...                        \n",
              "12811    [-270.6576, 95.62151, -6.834071, 49.797806, -1...\n",
              "12812    [-428.9021, 147.06631, 6.2788296, 48.605995, -...\n",
              "12813    [-405.92975, 150.54169, 8.544023, 64.26955, -3...\n",
              "12814    [-404.6419, 140.73233, 20.523947, 43.12029, -1...\n",
              "12815    [-419.41592, 132.75809, 14.367569, 59.56287, -...\n",
              "Name: speech, Length: 12816, dtype: object"
            ]
          },
          "execution_count": 31,
          "metadata": {},
          "output_type": "execute_result"
        }
      ],
      "source": [
        "mfcc"
      ]
    },
    {
      "cell_type": "code",
      "execution_count": null,
      "metadata": {
        "colab": {
          "base_uri": "https://localhost:8080/"
        },
        "id": "-Zx9nnfdhwPv",
        "outputId": "e83c8f09-14b6-4060-c9ca-308fd5220924"
      },
      "outputs": [
        {
          "name": "stdout",
          "output_type": "stream",
          "text": [
            "Cantidad de Registros de Audio: (12816,)\n"
          ]
        }
      ],
      "source": [
        "print(f'Cantidad de Registros de Audio: {mfcc.shape}')"
      ]
    },
    {
      "cell_type": "code",
      "execution_count": null,
      "metadata": {
        "id": "f69A-IQmh4Nj"
      },
      "outputs": [],
      "source": [
        "import numpy as np\n",
        "X = np.asarray(mfcc.to_list())\n",
        "y = np.asarray(data['label'])"
      ]
    },
    {
      "cell_type": "code",
      "execution_count": null,
      "metadata": {
        "colab": {
          "base_uri": "https://localhost:8080/"
        },
        "id": "w-xExQHGh7dW",
        "outputId": "06a83208-f514-41b1-c59e-012b8c69dfe1"
      },
      "outputs": [
        {
          "data": {
            "text/plain": [
              "array([[-6.3408807e+02,  6.3586414e+01, -2.3689847e+00, ...,\n",
              "         3.6079395e-01, -2.4947174e+00, -1.7608403e+00],\n",
              "       [-5.4178802e+02,  4.6464664e+01, -1.9856480e+01, ...,\n",
              "         2.9893882e+00,  9.8256916e-01,  2.1074791e+00],\n",
              "       [-6.0168665e+02,  7.9489105e+01,  5.1288147e+00, ...,\n",
              "         5.5722779e-01, -1.2010038e-03,  3.3462424e+00],\n",
              "       ...,\n",
              "       [-4.0592975e+02,  1.5054169e+02,  8.5440226e+00, ...,\n",
              "        -5.6123632e-01, -5.3259504e-01,  3.0777652e+00],\n",
              "       [-4.0464191e+02,  1.4073233e+02,  2.0523947e+01, ...,\n",
              "         3.2259792e-01, -1.7822572e+00,  1.9289889e+00],\n",
              "       [-4.1941592e+02,  1.3275809e+02,  1.4367569e+01, ...,\n",
              "         3.8110783e+00,  3.0832102e+00,  5.4786520e+00]], dtype=float32)"
            ]
          },
          "execution_count": 34,
          "metadata": {},
          "output_type": "execute_result"
        }
      ],
      "source": [
        "X"
      ]
    },
    {
      "cell_type": "code",
      "execution_count": null,
      "metadata": {
        "colab": {
          "base_uri": "https://localhost:8080/"
        },
        "id": "ysWz3hDfj8vU",
        "outputId": "8d1441de-54d7-452d-e5a1-476028045742"
      },
      "outputs": [
        {
          "data": {
            "text/plain": [
              "array([6, 6, 6, ..., 1, 1, 1])"
            ]
          },
          "execution_count": 35,
          "metadata": {},
          "output_type": "execute_result"
        }
      ],
      "source": [
        "y"
      ]
    },
    {
      "cell_type": "code",
      "execution_count": null,
      "metadata": {
        "id": "wOVXFlf3j9mS"
      },
      "outputs": [],
      "source": [
        "sc = StandardScaler()\n",
        "X = sc.fit_transform(X)"
      ]
    },
    {
      "cell_type": "code",
      "execution_count": null,
      "metadata": {
        "colab": {
          "base_uri": "https://localhost:8080/"
        },
        "id": "GkRLc3g_kJbB",
        "outputId": "55bb6268-d132-4b32-b02d-b15045377476"
      },
      "outputs": [
        {
          "name": "stdout",
          "output_type": "stream",
          "text": [
            "Dimensiones mfcc:(12816, 40)\n",
            "Dimensiones label:(12816,)\n"
          ]
        }
      ],
      "source": [
        "print(f'Dimensiones mfcc:{X.shape}')\n",
        "print(f'Dimensiones label:{y.shape}')"
      ]
    },
    {
      "cell_type": "code",
      "execution_count": null,
      "metadata": {
        "id": "IEfEo3XJlQZF"
      },
      "outputs": [],
      "source": [
        "X_train, X_test, y_train, y_test = train_test_split(X, y, test_size=0.1, random_state=42)"
      ]
    },
    {
      "cell_type": "code",
      "execution_count": null,
      "metadata": {
        "id": "XhWJAP7imCXc"
      },
      "outputs": [],
      "source": [
        "svc_model=SVC(gamma='auto')"
      ]
    },
    {
      "cell_type": "code",
      "execution_count": null,
      "metadata": {
        "id": "iTdeWOhnlVqU"
      },
      "outputs": [],
      "source": [
        "parameters = {\n",
        "    'C': [i/10 for i in range(1,11)],\n",
        "    'kernel': ['linear', 'poly', 'rbf', 'sigmoid'],\n",
        "    'gamma': ['scale', 'auto',1/10,1/20]\n",
        "}"
      ]
    },
    {
      "cell_type": "code",
      "execution_count": null,
      "metadata": {
        "id": "LozcArYkl4po"
      },
      "outputs": [],
      "source": [
        "grid = GridSearchCV(estimator=svc_model,\n",
        "                    param_grid=parameters,\n",
        "                    scoring=['balanced_accuracy','f1_weighted'],\n",
        "                    refit= 'balanced_accuracy',\n",
        "                    verbose=4,\n",
        "                    cv=3)"
      ]
    },
    {
      "cell_type": "code",
      "execution_count": null,
      "metadata": {
        "colab": {
          "base_uri": "https://localhost:8080/"
        },
        "id": "q3s6l3wal8Ku",
        "outputId": "ac5d2295-e6f6-4001-aac3-87602fb5761a"
      },
      "outputs": [
        {
          "name": "stdout",
          "output_type": "stream",
          "text": [
            "Fitting 3 folds for each of 160 candidates, totalling 480 fits\n",
            "[CV 1/3] END C=0.1, gamma=scale, kernel=linear; balanced_accuracy: (test=0.510) f1_weighted: (test=0.492) total time=   3.0s\n",
            "[CV 2/3] END C=0.1, gamma=scale, kernel=linear; balanced_accuracy: (test=0.519) f1_weighted: (test=0.498) total time=   2.9s\n",
            "[CV 3/3] END C=0.1, gamma=scale, kernel=linear; balanced_accuracy: (test=0.515) f1_weighted: (test=0.497) total time=   2.9s\n",
            "[CV 1/3] END C=0.1, gamma=scale, kernel=poly; balanced_accuracy: (test=0.507) f1_weighted: (test=0.509) total time=   3.5s\n",
            "[CV 2/3] END C=0.1, gamma=scale, kernel=poly; balanced_accuracy: (test=0.495) f1_weighted: (test=0.492) total time=   3.5s\n",
            "[CV 3/3] END C=0.1, gamma=scale, kernel=poly; balanced_accuracy: (test=0.493) f1_weighted: (test=0.497) total time=   3.4s\n",
            "[CV 1/3] END C=0.1, gamma=scale, kernel=rbf; balanced_accuracy: (test=0.556) f1_weighted: (test=0.542) total time=   5.6s\n",
            "[CV 2/3] END C=0.1, gamma=scale, kernel=rbf; balanced_accuracy: (test=0.560) f1_weighted: (test=0.537) total time=   5.6s\n",
            "[CV 3/3] END C=0.1, gamma=scale, kernel=rbf; balanced_accuracy: (test=0.548) f1_weighted: (test=0.536) total time=   5.7s\n",
            "[CV 1/3] END C=0.1, gamma=scale, kernel=sigmoid; balanced_accuracy: (test=0.220) f1_weighted: (test=0.233) total time=   5.6s\n",
            "[CV 2/3] END C=0.1, gamma=scale, kernel=sigmoid; balanced_accuracy: (test=0.226) f1_weighted: (test=0.243) total time=   5.6s\n",
            "[CV 3/3] END C=0.1, gamma=scale, kernel=sigmoid; balanced_accuracy: (test=0.213) f1_weighted: (test=0.229) total time=   5.6s\n",
            "[CV 1/3] END C=0.1, gamma=auto, kernel=linear; balanced_accuracy: (test=0.510) f1_weighted: (test=0.492) total time=   2.9s\n",
            "[CV 2/3] END C=0.1, gamma=auto, kernel=linear; balanced_accuracy: (test=0.519) f1_weighted: (test=0.498) total time=   2.8s\n",
            "[CV 3/3] END C=0.1, gamma=auto, kernel=linear; balanced_accuracy: (test=0.515) f1_weighted: (test=0.497) total time=   2.9s\n",
            "[CV 1/3] END C=0.1, gamma=auto, kernel=poly; balanced_accuracy: (test=0.506) f1_weighted: (test=0.508) total time=   3.4s\n",
            "[CV 2/3] END C=0.1, gamma=auto, kernel=poly; balanced_accuracy: (test=0.494) f1_weighted: (test=0.491) total time=   3.4s\n",
            "[CV 3/3] END C=0.1, gamma=auto, kernel=poly; balanced_accuracy: (test=0.492) f1_weighted: (test=0.496) total time=   3.3s\n",
            "[CV 1/3] END C=0.1, gamma=auto, kernel=rbf; balanced_accuracy: (test=0.555) f1_weighted: (test=0.542) total time=   5.7s\n",
            "[CV 2/3] END C=0.1, gamma=auto, kernel=rbf; balanced_accuracy: (test=0.560) f1_weighted: (test=0.536) total time=   5.7s\n",
            "[CV 3/3] END C=0.1, gamma=auto, kernel=rbf; balanced_accuracy: (test=0.548) f1_weighted: (test=0.536) total time=   5.7s\n",
            "[CV 1/3] END C=0.1, gamma=auto, kernel=sigmoid; balanced_accuracy: (test=0.221) f1_weighted: (test=0.235) total time=   5.6s\n",
            "[CV 2/3] END C=0.1, gamma=auto, kernel=sigmoid; balanced_accuracy: (test=0.225) f1_weighted: (test=0.242) total time=   5.6s\n",
            "[CV 3/3] END C=0.1, gamma=auto, kernel=sigmoid; balanced_accuracy: (test=0.215) f1_weighted: (test=0.232) total time=   5.6s\n",
            "[CV 1/3] END C=0.1, gamma=0.1, kernel=linear; balanced_accuracy: (test=0.510) f1_weighted: (test=0.492) total time=   2.8s\n",
            "[CV 2/3] END C=0.1, gamma=0.1, kernel=linear; balanced_accuracy: (test=0.519) f1_weighted: (test=0.498) total time=   2.9s\n",
            "[CV 3/3] END C=0.1, gamma=0.1, kernel=linear; balanced_accuracy: (test=0.515) f1_weighted: (test=0.497) total time=   2.9s\n",
            "[CV 1/3] END C=0.1, gamma=0.1, kernel=poly; balanced_accuracy: (test=0.654) f1_weighted: (test=0.631) total time=   2.7s\n",
            "[CV 2/3] END C=0.1, gamma=0.1, kernel=poly; balanced_accuracy: (test=0.644) f1_weighted: (test=0.621) total time=   2.7s\n",
            "[CV 3/3] END C=0.1, gamma=0.1, kernel=poly; balanced_accuracy: (test=0.636) f1_weighted: (test=0.612) total time=   2.7s\n",
            "[CV 1/3] END C=0.1, gamma=0.1, kernel=rbf; balanced_accuracy: (test=0.441) f1_weighted: (test=0.444) total time=   6.8s\n",
            "[CV 2/3] END C=0.1, gamma=0.1, kernel=rbf; balanced_accuracy: (test=0.451) f1_weighted: (test=0.450) total time=   6.7s\n",
            "[CV 3/3] END C=0.1, gamma=0.1, kernel=rbf; balanced_accuracy: (test=0.455) f1_weighted: (test=0.455) total time=   6.7s\n",
            "[CV 1/3] END C=0.1, gamma=0.1, kernel=sigmoid; balanced_accuracy: (test=0.167) f1_weighted: (test=0.175) total time=   6.2s\n",
            "[CV 2/3] END C=0.1, gamma=0.1, kernel=sigmoid; balanced_accuracy: (test=0.167) f1_weighted: (test=0.173) total time=   6.2s\n",
            "[CV 3/3] END C=0.1, gamma=0.1, kernel=sigmoid; balanced_accuracy: (test=0.157) f1_weighted: (test=0.162) total time=   6.2s\n",
            "[CV 1/3] END C=0.1, gamma=0.05, kernel=linear; balanced_accuracy: (test=0.510) f1_weighted: (test=0.492) total time=   2.8s\n",
            "[CV 2/3] END C=0.1, gamma=0.05, kernel=linear; balanced_accuracy: (test=0.519) f1_weighted: (test=0.498) total time=   2.8s\n",
            "[CV 3/3] END C=0.1, gamma=0.05, kernel=linear; balanced_accuracy: (test=0.515) f1_weighted: (test=0.497) total time=   2.8s\n",
            "[CV 1/3] END C=0.1, gamma=0.05, kernel=poly; balanced_accuracy: (test=0.567) f1_weighted: (test=0.556) total time=   2.9s\n",
            "[CV 2/3] END C=0.1, gamma=0.05, kernel=poly; balanced_accuracy: (test=0.576) f1_weighted: (test=0.562) total time=   2.9s\n",
            "[CV 3/3] END C=0.1, gamma=0.05, kernel=poly; balanced_accuracy: (test=0.571) f1_weighted: (test=0.561) total time=   2.9s\n",
            "[CV 1/3] END C=0.1, gamma=0.05, kernel=rbf; balanced_accuracy: (test=0.567) f1_weighted: (test=0.549) total time=   6.0s\n",
            "[CV 2/3] END C=0.1, gamma=0.05, kernel=rbf; balanced_accuracy: (test=0.576) f1_weighted: (test=0.549) total time=   5.9s\n",
            "[CV 3/3] END C=0.1, gamma=0.05, kernel=rbf; balanced_accuracy: (test=0.567) f1_weighted: (test=0.551) total time=   6.0s\n",
            "[CV 1/3] END C=0.1, gamma=0.05, kernel=sigmoid; balanced_accuracy: (test=0.187) f1_weighted: (test=0.197) total time=   5.8s\n",
            "[CV 2/3] END C=0.1, gamma=0.05, kernel=sigmoid; balanced_accuracy: (test=0.188) f1_weighted: (test=0.200) total time=   5.8s\n",
            "[CV 3/3] END C=0.1, gamma=0.05, kernel=sigmoid; balanced_accuracy: (test=0.178) f1_weighted: (test=0.192) total time=   5.8s\n",
            "[CV 1/3] END C=0.2, gamma=scale, kernel=linear; balanced_accuracy: (test=0.511) f1_weighted: (test=0.494) total time=   3.1s\n",
            "[CV 2/3] END C=0.2, gamma=scale, kernel=linear; balanced_accuracy: (test=0.516) f1_weighted: (test=0.494) total time=   3.1s\n",
            "[CV 3/3] END C=0.2, gamma=scale, kernel=linear; balanced_accuracy: (test=0.512) f1_weighted: (test=0.494) total time=   3.1s\n",
            "[CV 1/3] END C=0.2, gamma=scale, kernel=poly; balanced_accuracy: (test=0.522) f1_weighted: (test=0.521) total time=   3.2s\n",
            "[CV 2/3] END C=0.2, gamma=scale, kernel=poly; balanced_accuracy: (test=0.531) f1_weighted: (test=0.523) total time=   3.2s\n",
            "[CV 3/3] END C=0.2, gamma=scale, kernel=poly; balanced_accuracy: (test=0.527) f1_weighted: (test=0.525) total time=   3.2s\n",
            "[CV 1/3] END C=0.2, gamma=scale, kernel=rbf; balanced_accuracy: (test=0.599) f1_weighted: (test=0.576) total time=   5.4s\n",
            "[CV 2/3] END C=0.2, gamma=scale, kernel=rbf; balanced_accuracy: (test=0.602) f1_weighted: (test=0.574) total time=   7.0s\n",
            "[CV 3/3] END C=0.2, gamma=scale, kernel=rbf; balanced_accuracy: (test=0.596) f1_weighted: (test=0.580) total time=   5.2s\n",
            "[CV 1/3] END C=0.2, gamma=scale, kernel=sigmoid; balanced_accuracy: (test=0.199) f1_weighted: (test=0.211) total time=   5.1s\n",
            "[CV 2/3] END C=0.2, gamma=scale, kernel=sigmoid; balanced_accuracy: (test=0.204) f1_weighted: (test=0.220) total time=   5.1s\n",
            "[CV 3/3] END C=0.2, gamma=scale, kernel=sigmoid; balanced_accuracy: (test=0.191) f1_weighted: (test=0.206) total time=   5.0s\n",
            "[CV 1/3] END C=0.2, gamma=auto, kernel=linear; balanced_accuracy: (test=0.511) f1_weighted: (test=0.494) total time=   3.1s\n",
            "[CV 2/3] END C=0.2, gamma=auto, kernel=linear; balanced_accuracy: (test=0.516) f1_weighted: (test=0.494) total time=   3.1s\n",
            "[CV 3/3] END C=0.2, gamma=auto, kernel=linear; balanced_accuracy: (test=0.512) f1_weighted: (test=0.494) total time=   3.1s\n",
            "[CV 1/3] END C=0.2, gamma=auto, kernel=poly; balanced_accuracy: (test=0.521) f1_weighted: (test=0.519) total time=   3.2s\n",
            "[CV 2/3] END C=0.2, gamma=auto, kernel=poly; balanced_accuracy: (test=0.531) f1_weighted: (test=0.523) total time=   3.2s\n",
            "[CV 3/3] END C=0.2, gamma=auto, kernel=poly; balanced_accuracy: (test=0.526) f1_weighted: (test=0.524) total time=   3.2s\n",
            "[CV 1/3] END C=0.2, gamma=auto, kernel=rbf; balanced_accuracy: (test=0.599) f1_weighted: (test=0.576) total time=   5.1s\n",
            "[CV 2/3] END C=0.2, gamma=auto, kernel=rbf; balanced_accuracy: (test=0.602) f1_weighted: (test=0.575) total time=   5.2s\n",
            "[CV 3/3] END C=0.2, gamma=auto, kernel=rbf; balanced_accuracy: (test=0.596) f1_weighted: (test=0.580) total time=   5.2s\n",
            "[CV 1/3] END C=0.2, gamma=auto, kernel=sigmoid; balanced_accuracy: (test=0.201) f1_weighted: (test=0.213) total time=   5.1s\n",
            "[CV 2/3] END C=0.2, gamma=auto, kernel=sigmoid; balanced_accuracy: (test=0.204) f1_weighted: (test=0.220) total time=   5.1s\n",
            "[CV 3/3] END C=0.2, gamma=auto, kernel=sigmoid; balanced_accuracy: (test=0.191) f1_weighted: (test=0.207) total time=   5.0s\n",
            "[CV 1/3] END C=0.2, gamma=0.1, kernel=linear; balanced_accuracy: (test=0.511) f1_weighted: (test=0.494) total time=   3.1s\n",
            "[CV 2/3] END C=0.2, gamma=0.1, kernel=linear; balanced_accuracy: (test=0.516) f1_weighted: (test=0.494) total time=   3.0s\n",
            "[CV 3/3] END C=0.2, gamma=0.1, kernel=linear; balanced_accuracy: (test=0.512) f1_weighted: (test=0.494) total time=   3.1s\n",
            "[CV 1/3] END C=0.2, gamma=0.1, kernel=poly; balanced_accuracy: (test=0.660) f1_weighted: (test=0.634) total time=   2.7s\n",
            "[CV 2/3] END C=0.2, gamma=0.1, kernel=poly; balanced_accuracy: (test=0.647) f1_weighted: (test=0.624) total time=   2.7s\n",
            "[CV 3/3] END C=0.2, gamma=0.1, kernel=poly; balanced_accuracy: (test=0.642) f1_weighted: (test=0.616) total time=   2.7s\n",
            "[CV 1/3] END C=0.2, gamma=0.1, kernel=rbf; balanced_accuracy: (test=0.577) f1_weighted: (test=0.562) total time=   6.4s\n",
            "[CV 2/3] END C=0.2, gamma=0.1, kernel=rbf; balanced_accuracy: (test=0.561) f1_weighted: (test=0.543) total time=   6.3s\n",
            "[CV 3/3] END C=0.2, gamma=0.1, kernel=rbf; balanced_accuracy: (test=0.576) f1_weighted: (test=0.556) total time=   6.4s\n",
            "[CV 1/3] END C=0.2, gamma=0.1, kernel=sigmoid; balanced_accuracy: (test=0.162) f1_weighted: (test=0.169) total time=   5.9s\n",
            "[CV 2/3] END C=0.2, gamma=0.1, kernel=sigmoid; balanced_accuracy: (test=0.164) f1_weighted: (test=0.169) total time=   5.9s\n",
            "[CV 3/3] END C=0.2, gamma=0.1, kernel=sigmoid; balanced_accuracy: (test=0.152) f1_weighted: (test=0.156) total time=   5.9s\n",
            "[CV 1/3] END C=0.2, gamma=0.05, kernel=linear; balanced_accuracy: (test=0.511) f1_weighted: (test=0.494) total time=   3.1s\n",
            "[CV 2/3] END C=0.2, gamma=0.05, kernel=linear; balanced_accuracy: (test=0.516) f1_weighted: (test=0.494) total time=   3.1s\n",
            "[CV 3/3] END C=0.2, gamma=0.05, kernel=linear; balanced_accuracy: (test=0.512) f1_weighted: (test=0.494) total time=   3.1s\n",
            "[CV 1/3] END C=0.2, gamma=0.05, kernel=poly; balanced_accuracy: (test=0.597) f1_weighted: (test=0.584) total time=   2.8s\n",
            "[CV 2/3] END C=0.2, gamma=0.05, kernel=poly; balanced_accuracy: (test=0.600) f1_weighted: (test=0.585) total time=   2.8s\n",
            "[CV 3/3] END C=0.2, gamma=0.05, kernel=poly; balanced_accuracy: (test=0.601) f1_weighted: (test=0.588) total time=   2.8s\n",
            "[CV 1/3] END C=0.2, gamma=0.05, kernel=rbf; balanced_accuracy: (test=0.616) f1_weighted: (test=0.592) total time=   5.4s\n",
            "[CV 2/3] END C=0.2, gamma=0.05, kernel=rbf; balanced_accuracy: (test=0.617) f1_weighted: (test=0.590) total time=   5.5s\n",
            "[CV 3/3] END C=0.2, gamma=0.05, kernel=rbf; balanced_accuracy: (test=0.607) f1_weighted: (test=0.586) total time=   5.5s\n",
            "[CV 1/3] END C=0.2, gamma=0.05, kernel=sigmoid; balanced_accuracy: (test=0.179) f1_weighted: (test=0.188) total time=   5.4s\n",
            "[CV 2/3] END C=0.2, gamma=0.05, kernel=sigmoid; balanced_accuracy: (test=0.186) f1_weighted: (test=0.196) total time=   5.4s\n",
            "[CV 3/3] END C=0.2, gamma=0.05, kernel=sigmoid; balanced_accuracy: (test=0.172) f1_weighted: (test=0.183) total time=   5.4s\n",
            "[CV 1/3] END C=0.3, gamma=scale, kernel=linear; balanced_accuracy: (test=0.508) f1_weighted: (test=0.491) total time=   3.3s\n",
            "[CV 2/3] END C=0.3, gamma=scale, kernel=linear; balanced_accuracy: (test=0.517) f1_weighted: (test=0.495) total time=   3.3s\n",
            "[CV 3/3] END C=0.3, gamma=scale, kernel=linear; balanced_accuracy: (test=0.511) f1_weighted: (test=0.494) total time=   3.3s\n",
            "[CV 1/3] END C=0.3, gamma=scale, kernel=poly; balanced_accuracy: (test=0.533) f1_weighted: (test=0.534) total time=   3.1s\n",
            "[CV 2/3] END C=0.3, gamma=scale, kernel=poly; balanced_accuracy: (test=0.544) f1_weighted: (test=0.534) total time=   3.1s\n",
            "[CV 3/3] END C=0.3, gamma=scale, kernel=poly; balanced_accuracy: (test=0.531) f1_weighted: (test=0.530) total time=   3.1s\n",
            "[CV 1/3] END C=0.3, gamma=scale, kernel=rbf; balanced_accuracy: (test=0.616) f1_weighted: (test=0.593) total time=   5.0s\n",
            "[CV 2/3] END C=0.3, gamma=scale, kernel=rbf; balanced_accuracy: (test=0.620) f1_weighted: (test=0.593) total time=   5.0s\n",
            "[CV 3/3] END C=0.3, gamma=scale, kernel=rbf; balanced_accuracy: (test=0.613) f1_weighted: (test=0.593) total time=   5.0s\n",
            "[CV 1/3] END C=0.3, gamma=scale, kernel=sigmoid; balanced_accuracy: (test=0.193) f1_weighted: (test=0.203) total time=   4.8s\n",
            "[CV 2/3] END C=0.3, gamma=scale, kernel=sigmoid; balanced_accuracy: (test=0.197) f1_weighted: (test=0.211) total time=   4.8s\n",
            "[CV 3/3] END C=0.3, gamma=scale, kernel=sigmoid; balanced_accuracy: (test=0.186) f1_weighted: (test=0.200) total time=   4.8s\n",
            "[CV 1/3] END C=0.3, gamma=auto, kernel=linear; balanced_accuracy: (test=0.508) f1_weighted: (test=0.491) total time=   3.4s\n",
            "[CV 2/3] END C=0.3, gamma=auto, kernel=linear; balanced_accuracy: (test=0.517) f1_weighted: (test=0.495) total time=   3.4s\n",
            "[CV 3/3] END C=0.3, gamma=auto, kernel=linear; balanced_accuracy: (test=0.511) f1_weighted: (test=0.494) total time=   3.3s\n",
            "[CV 1/3] END C=0.3, gamma=auto, kernel=poly; balanced_accuracy: (test=0.531) f1_weighted: (test=0.532) total time=   3.1s\n",
            "[CV 2/3] END C=0.3, gamma=auto, kernel=poly; balanced_accuracy: (test=0.544) f1_weighted: (test=0.534) total time=   3.1s\n",
            "[CV 3/3] END C=0.3, gamma=auto, kernel=poly; balanced_accuracy: (test=0.530) f1_weighted: (test=0.529) total time=   3.1s\n",
            "[CV 1/3] END C=0.3, gamma=auto, kernel=rbf; balanced_accuracy: (test=0.616) f1_weighted: (test=0.593) total time=   4.9s\n",
            "[CV 2/3] END C=0.3, gamma=auto, kernel=rbf; balanced_accuracy: (test=0.620) f1_weighted: (test=0.593) total time=   5.0s\n",
            "[CV 3/3] END C=0.3, gamma=auto, kernel=rbf; balanced_accuracy: (test=0.614) f1_weighted: (test=0.594) total time=   4.9s\n",
            "[CV 1/3] END C=0.3, gamma=auto, kernel=sigmoid; balanced_accuracy: (test=0.193) f1_weighted: (test=0.204) total time=   4.8s\n",
            "[CV 2/3] END C=0.3, gamma=auto, kernel=sigmoid; balanced_accuracy: (test=0.197) f1_weighted: (test=0.211) total time=   4.9s\n",
            "[CV 3/3] END C=0.3, gamma=auto, kernel=sigmoid; balanced_accuracy: (test=0.186) f1_weighted: (test=0.200) total time=   4.8s\n",
            "[CV 1/3] END C=0.3, gamma=0.1, kernel=linear; balanced_accuracy: (test=0.508) f1_weighted: (test=0.491) total time=   3.3s\n",
            "[CV 2/3] END C=0.3, gamma=0.1, kernel=linear; balanced_accuracy: (test=0.517) f1_weighted: (test=0.495) total time=   3.4s\n",
            "[CV 3/3] END C=0.3, gamma=0.1, kernel=linear; balanced_accuracy: (test=0.511) f1_weighted: (test=0.494) total time=   3.4s\n",
            "[CV 1/3] END C=0.3, gamma=0.1, kernel=poly; balanced_accuracy: (test=0.658) f1_weighted: (test=0.630) total time=   2.8s\n",
            "[CV 2/3] END C=0.3, gamma=0.1, kernel=poly; balanced_accuracy: (test=0.640) f1_weighted: (test=0.617) total time=   2.8s\n",
            "[CV 3/3] END C=0.3, gamma=0.1, kernel=poly; balanced_accuracy: (test=0.642) f1_weighted: (test=0.617) total time=   2.8s\n",
            "[CV 1/3] END C=0.3, gamma=0.1, kernel=rbf; balanced_accuracy: (test=0.621) f1_weighted: (test=0.603) total time=   6.1s\n",
            "[CV 2/3] END C=0.3, gamma=0.1, kernel=rbf; balanced_accuracy: (test=0.604) f1_weighted: (test=0.584) total time=   6.1s\n",
            "[CV 3/3] END C=0.3, gamma=0.1, kernel=rbf; balanced_accuracy: (test=0.604) f1_weighted: (test=0.582) total time=   6.1s\n",
            "[CV 1/3] END C=0.3, gamma=0.1, kernel=sigmoid; balanced_accuracy: (test=0.160) f1_weighted: (test=0.167) total time=   7.4s\n",
            "[CV 2/3] END C=0.3, gamma=0.1, kernel=sigmoid; balanced_accuracy: (test=0.162) f1_weighted: (test=0.167) total time=   5.8s\n",
            "[CV 3/3] END C=0.3, gamma=0.1, kernel=sigmoid; balanced_accuracy: (test=0.152) f1_weighted: (test=0.155) total time=   5.8s\n",
            "[CV 1/3] END C=0.3, gamma=0.05, kernel=linear; balanced_accuracy: (test=0.508) f1_weighted: (test=0.491) total time=   3.3s\n",
            "[CV 2/3] END C=0.3, gamma=0.05, kernel=linear; balanced_accuracy: (test=0.517) f1_weighted: (test=0.495) total time=   3.4s\n",
            "[CV 3/3] END C=0.3, gamma=0.05, kernel=linear; balanced_accuracy: (test=0.511) f1_weighted: (test=0.494) total time=   3.4s\n",
            "[CV 1/3] END C=0.3, gamma=0.05, kernel=poly; balanced_accuracy: (test=0.615) f1_weighted: (test=0.600) total time=   2.8s\n",
            "[CV 2/3] END C=0.3, gamma=0.05, kernel=poly; balanced_accuracy: (test=0.616) f1_weighted: (test=0.598) total time=   2.7s\n",
            "[CV 3/3] END C=0.3, gamma=0.05, kernel=poly; balanced_accuracy: (test=0.617) f1_weighted: (test=0.602) total time=   2.8s\n",
            "[CV 1/3] END C=0.3, gamma=0.05, kernel=rbf; balanced_accuracy: (test=0.637) f1_weighted: (test=0.613) total time=   5.2s\n",
            "[CV 2/3] END C=0.3, gamma=0.05, kernel=rbf; balanced_accuracy: (test=0.634) f1_weighted: (test=0.606) total time=   5.2s\n",
            "[CV 3/3] END C=0.3, gamma=0.05, kernel=rbf; balanced_accuracy: (test=0.633) f1_weighted: (test=0.606) total time=   5.2s\n",
            "[CV 1/3] END C=0.3, gamma=0.05, kernel=sigmoid; balanced_accuracy: (test=0.178) f1_weighted: (test=0.185) total time=   5.2s\n",
            "[CV 2/3] END C=0.3, gamma=0.05, kernel=sigmoid; balanced_accuracy: (test=0.185) f1_weighted: (test=0.194) total time=   5.2s\n",
            "[CV 3/3] END C=0.3, gamma=0.05, kernel=sigmoid; balanced_accuracy: (test=0.170) f1_weighted: (test=0.180) total time=   5.2s\n",
            "[CV 1/3] END C=0.4, gamma=scale, kernel=linear; balanced_accuracy: (test=0.505) f1_weighted: (test=0.489) total time=   3.6s\n",
            "[CV 2/3] END C=0.4, gamma=scale, kernel=linear; balanced_accuracy: (test=0.516) f1_weighted: (test=0.494) total time=   3.6s\n",
            "[CV 3/3] END C=0.4, gamma=scale, kernel=linear; balanced_accuracy: (test=0.511) f1_weighted: (test=0.495) total time=   3.6s\n",
            "[CV 1/3] END C=0.4, gamma=scale, kernel=poly; balanced_accuracy: (test=0.540) f1_weighted: (test=0.538) total time=   3.1s\n",
            "[CV 2/3] END C=0.4, gamma=scale, kernel=poly; balanced_accuracy: (test=0.553) f1_weighted: (test=0.542) total time=   3.1s\n",
            "[CV 3/3] END C=0.4, gamma=scale, kernel=poly; balanced_accuracy: (test=0.540) f1_weighted: (test=0.537) total time=   3.0s\n",
            "[CV 1/3] END C=0.4, gamma=scale, kernel=rbf; balanced_accuracy: (test=0.623) f1_weighted: (test=0.600) total time=   4.8s\n",
            "[CV 2/3] END C=0.4, gamma=scale, kernel=rbf; balanced_accuracy: (test=0.628) f1_weighted: (test=0.599) total time=   4.9s\n",
            "[CV 3/3] END C=0.4, gamma=scale, kernel=rbf; balanced_accuracy: (test=0.623) f1_weighted: (test=0.602) total time=   4.8s\n",
            "[CV 1/3] END C=0.4, gamma=scale, kernel=sigmoid; balanced_accuracy: (test=0.190) f1_weighted: (test=0.200) total time=   4.7s\n",
            "[CV 2/3] END C=0.4, gamma=scale, kernel=sigmoid; balanced_accuracy: (test=0.194) f1_weighted: (test=0.208) total time=   4.7s\n",
            "[CV 3/3] END C=0.4, gamma=scale, kernel=sigmoid; balanced_accuracy: (test=0.184) f1_weighted: (test=0.197) total time=   4.7s\n",
            "[CV 1/3] END C=0.4, gamma=auto, kernel=linear; balanced_accuracy: (test=0.505) f1_weighted: (test=0.489) total time=   3.6s\n",
            "[CV 2/3] END C=0.4, gamma=auto, kernel=linear; balanced_accuracy: (test=0.516) f1_weighted: (test=0.494) total time=   3.6s\n",
            "[CV 3/3] END C=0.4, gamma=auto, kernel=linear; balanced_accuracy: (test=0.511) f1_weighted: (test=0.495) total time=   3.6s\n",
            "[CV 1/3] END C=0.4, gamma=auto, kernel=poly; balanced_accuracy: (test=0.540) f1_weighted: (test=0.538) total time=   3.1s\n",
            "[CV 2/3] END C=0.4, gamma=auto, kernel=poly; balanced_accuracy: (test=0.553) f1_weighted: (test=0.542) total time=   3.1s\n",
            "[CV 3/3] END C=0.4, gamma=auto, kernel=poly; balanced_accuracy: (test=0.539) f1_weighted: (test=0.536) total time=   3.1s\n",
            "[CV 1/3] END C=0.4, gamma=auto, kernel=rbf; balanced_accuracy: (test=0.623) f1_weighted: (test=0.600) total time=   4.9s\n",
            "[CV 2/3] END C=0.4, gamma=auto, kernel=rbf; balanced_accuracy: (test=0.628) f1_weighted: (test=0.600) total time=   4.8s\n",
            "[CV 3/3] END C=0.4, gamma=auto, kernel=rbf; balanced_accuracy: (test=0.623) f1_weighted: (test=0.602) total time=   4.9s\n",
            "[CV 1/3] END C=0.4, gamma=auto, kernel=sigmoid; balanced_accuracy: (test=0.191) f1_weighted: (test=0.201) total time=   4.7s\n",
            "[CV 2/3] END C=0.4, gamma=auto, kernel=sigmoid; balanced_accuracy: (test=0.194) f1_weighted: (test=0.208) total time=   4.7s\n",
            "[CV 3/3] END C=0.4, gamma=auto, kernel=sigmoid; balanced_accuracy: (test=0.185) f1_weighted: (test=0.199) total time=   4.7s\n",
            "[CV 1/3] END C=0.4, gamma=0.1, kernel=linear; balanced_accuracy: (test=0.505) f1_weighted: (test=0.489) total time=   3.6s\n",
            "[CV 2/3] END C=0.4, gamma=0.1, kernel=linear; balanced_accuracy: (test=0.516) f1_weighted: (test=0.494) total time=   3.8s\n",
            "[CV 3/3] END C=0.4, gamma=0.1, kernel=linear; balanced_accuracy: (test=0.511) f1_weighted: (test=0.495) total time=   3.6s\n",
            "[CV 1/3] END C=0.4, gamma=0.1, kernel=poly; balanced_accuracy: (test=0.655) f1_weighted: (test=0.627) total time=   2.8s\n",
            "[CV 2/3] END C=0.4, gamma=0.1, kernel=poly; balanced_accuracy: (test=0.639) f1_weighted: (test=0.616) total time=   2.9s\n",
            "[CV 3/3] END C=0.4, gamma=0.1, kernel=poly; balanced_accuracy: (test=0.646) f1_weighted: (test=0.620) total time=   2.8s\n",
            "[CV 1/3] END C=0.4, gamma=0.1, kernel=rbf; balanced_accuracy: (test=0.642) f1_weighted: (test=0.620) total time=   6.0s\n",
            "[CV 2/3] END C=0.4, gamma=0.1, kernel=rbf; balanced_accuracy: (test=0.625) f1_weighted: (test=0.604) total time=   6.1s\n",
            "[CV 3/3] END C=0.4, gamma=0.1, kernel=rbf; balanced_accuracy: (test=0.625) f1_weighted: (test=0.604) total time=   6.0s\n",
            "[CV 1/3] END C=0.4, gamma=0.1, kernel=sigmoid; balanced_accuracy: (test=0.158) f1_weighted: (test=0.164) total time=   5.6s\n",
            "[CV 2/3] END C=0.4, gamma=0.1, kernel=sigmoid; balanced_accuracy: (test=0.161) f1_weighted: (test=0.166) total time=   5.7s\n",
            "[CV 3/3] END C=0.4, gamma=0.1, kernel=sigmoid; balanced_accuracy: (test=0.152) f1_weighted: (test=0.154) total time=   5.6s\n",
            "[CV 1/3] END C=0.4, gamma=0.05, kernel=linear; balanced_accuracy: (test=0.505) f1_weighted: (test=0.489) total time=   3.6s\n",
            "[CV 2/3] END C=0.4, gamma=0.05, kernel=linear; balanced_accuracy: (test=0.516) f1_weighted: (test=0.494) total time=   3.6s\n",
            "[CV 3/3] END C=0.4, gamma=0.05, kernel=linear; balanced_accuracy: (test=0.511) f1_weighted: (test=0.495) total time=   3.6s\n",
            "[CV 1/3] END C=0.4, gamma=0.05, kernel=poly; balanced_accuracy: (test=0.632) f1_weighted: (test=0.614) total time=   2.7s\n",
            "[CV 2/3] END C=0.4, gamma=0.05, kernel=poly; balanced_accuracy: (test=0.622) f1_weighted: (test=0.602) total time=   2.7s\n",
            "[CV 3/3] END C=0.4, gamma=0.05, kernel=poly; balanced_accuracy: (test=0.627) f1_weighted: (test=0.609) total time=   2.7s\n",
            "[CV 1/3] END C=0.4, gamma=0.05, kernel=rbf; balanced_accuracy: (test=0.647) f1_weighted: (test=0.622) total time=   5.2s\n",
            "[CV 2/3] END C=0.4, gamma=0.05, kernel=rbf; balanced_accuracy: (test=0.644) f1_weighted: (test=0.617) total time=   5.1s\n",
            "[CV 3/3] END C=0.4, gamma=0.05, kernel=rbf; balanced_accuracy: (test=0.639) f1_weighted: (test=0.613) total time=   5.1s\n",
            "[CV 1/3] END C=0.4, gamma=0.05, kernel=sigmoid; balanced_accuracy: (test=0.175) f1_weighted: (test=0.182) total time=   5.1s\n",
            "[CV 2/3] END C=0.4, gamma=0.05, kernel=sigmoid; balanced_accuracy: (test=0.185) f1_weighted: (test=0.194) total time=   5.1s\n",
            "[CV 3/3] END C=0.4, gamma=0.05, kernel=sigmoid; balanced_accuracy: (test=0.171) f1_weighted: (test=0.181) total time=   5.1s\n",
            "[CV 1/3] END C=0.5, gamma=scale, kernel=linear; balanced_accuracy: (test=0.505) f1_weighted: (test=0.489) total time=   3.7s\n",
            "[CV 2/3] END C=0.5, gamma=scale, kernel=linear; balanced_accuracy: (test=0.516) f1_weighted: (test=0.495) total time=   3.8s\n",
            "[CV 3/3] END C=0.5, gamma=scale, kernel=linear; balanced_accuracy: (test=0.511) f1_weighted: (test=0.494) total time=   3.8s\n",
            "[CV 1/3] END C=0.5, gamma=scale, kernel=poly; balanced_accuracy: (test=0.553) f1_weighted: (test=0.547) total time=   3.0s\n",
            "[CV 2/3] END C=0.5, gamma=scale, kernel=poly; balanced_accuracy: (test=0.560) f1_weighted: (test=0.547) total time=   3.0s\n",
            "[CV 3/3] END C=0.5, gamma=scale, kernel=poly; balanced_accuracy: (test=0.548) f1_weighted: (test=0.542) total time=   3.0s\n",
            "[CV 1/3] END C=0.5, gamma=scale, kernel=rbf; balanced_accuracy: (test=0.632) f1_weighted: (test=0.610) total time=   4.7s\n",
            "[CV 2/3] END C=0.5, gamma=scale, kernel=rbf; balanced_accuracy: (test=0.634) f1_weighted: (test=0.606) total time=   4.7s\n",
            "[CV 3/3] END C=0.5, gamma=scale, kernel=rbf; balanced_accuracy: (test=0.629) f1_weighted: (test=0.607) total time=   4.7s\n",
            "[CV 1/3] END C=0.5, gamma=scale, kernel=sigmoid; balanced_accuracy: (test=0.186) f1_weighted: (test=0.194) total time=   5.1s\n",
            "[CV 2/3] END C=0.5, gamma=scale, kernel=sigmoid; balanced_accuracy: (test=0.193) f1_weighted: (test=0.206) total time=   5.9s\n",
            "[CV 3/3] END C=0.5, gamma=scale, kernel=sigmoid; balanced_accuracy: (test=0.183) f1_weighted: (test=0.196) total time=   4.6s\n",
            "[CV 1/3] END C=0.5, gamma=auto, kernel=linear; balanced_accuracy: (test=0.505) f1_weighted: (test=0.489) total time=   3.7s\n",
            "[CV 2/3] END C=0.5, gamma=auto, kernel=linear; balanced_accuracy: (test=0.516) f1_weighted: (test=0.495) total time=   3.8s\n",
            "[CV 3/3] END C=0.5, gamma=auto, kernel=linear; balanced_accuracy: (test=0.511) f1_weighted: (test=0.494) total time=   3.8s\n",
            "[CV 1/3] END C=0.5, gamma=auto, kernel=poly; balanced_accuracy: (test=0.551) f1_weighted: (test=0.545) total time=   3.0s\n",
            "[CV 2/3] END C=0.5, gamma=auto, kernel=poly; balanced_accuracy: (test=0.560) f1_weighted: (test=0.548) total time=   3.0s\n",
            "[CV 3/3] END C=0.5, gamma=auto, kernel=poly; balanced_accuracy: (test=0.547) f1_weighted: (test=0.542) total time=   3.0s\n",
            "[CV 1/3] END C=0.5, gamma=auto, kernel=rbf; balanced_accuracy: (test=0.632) f1_weighted: (test=0.610) total time=   4.7s\n",
            "[CV 2/3] END C=0.5, gamma=auto, kernel=rbf; balanced_accuracy: (test=0.634) f1_weighted: (test=0.606) total time=   4.7s\n",
            "[CV 3/3] END C=0.5, gamma=auto, kernel=rbf; balanced_accuracy: (test=0.629) f1_weighted: (test=0.607) total time=   4.7s\n",
            "[CV 1/3] END C=0.5, gamma=auto, kernel=sigmoid; balanced_accuracy: (test=0.188) f1_weighted: (test=0.196) total time=   4.6s\n",
            "[CV 2/3] END C=0.5, gamma=auto, kernel=sigmoid; balanced_accuracy: (test=0.193) f1_weighted: (test=0.205) total time=   4.6s\n",
            "[CV 3/3] END C=0.5, gamma=auto, kernel=sigmoid; balanced_accuracy: (test=0.185) f1_weighted: (test=0.198) total time=   4.5s\n",
            "[CV 1/3] END C=0.5, gamma=0.1, kernel=linear; balanced_accuracy: (test=0.505) f1_weighted: (test=0.489) total time=   3.7s\n",
            "[CV 2/3] END C=0.5, gamma=0.1, kernel=linear; balanced_accuracy: (test=0.516) f1_weighted: (test=0.495) total time=   3.8s\n",
            "[CV 3/3] END C=0.5, gamma=0.1, kernel=linear; balanced_accuracy: (test=0.511) f1_weighted: (test=0.494) total time=   3.8s\n",
            "[CV 1/3] END C=0.5, gamma=0.1, kernel=poly; balanced_accuracy: (test=0.653) f1_weighted: (test=0.625) total time=   2.8s\n",
            "[CV 2/3] END C=0.5, gamma=0.1, kernel=poly; balanced_accuracy: (test=0.637) f1_weighted: (test=0.613) total time=   2.9s\n",
            "[CV 3/3] END C=0.5, gamma=0.1, kernel=poly; balanced_accuracy: (test=0.647) f1_weighted: (test=0.621) total time=   2.8s\n",
            "[CV 1/3] END C=0.5, gamma=0.1, kernel=rbf; balanced_accuracy: (test=0.651) f1_weighted: (test=0.630) total time=   6.0s\n",
            "[CV 2/3] END C=0.5, gamma=0.1, kernel=rbf; balanced_accuracy: (test=0.640) f1_weighted: (test=0.618) total time=   6.0s\n",
            "[CV 3/3] END C=0.5, gamma=0.1, kernel=rbf; balanced_accuracy: (test=0.642) f1_weighted: (test=0.620) total time=   6.0s\n",
            "[CV 1/3] END C=0.5, gamma=0.1, kernel=sigmoid; balanced_accuracy: (test=0.157) f1_weighted: (test=0.163) total time=   5.6s\n",
            "[CV 2/3] END C=0.5, gamma=0.1, kernel=sigmoid; balanced_accuracy: (test=0.162) f1_weighted: (test=0.167) total time=   5.6s\n",
            "[CV 3/3] END C=0.5, gamma=0.1, kernel=sigmoid; balanced_accuracy: (test=0.152) f1_weighted: (test=0.155) total time=   5.6s\n",
            "[CV 1/3] END C=0.5, gamma=0.05, kernel=linear; balanced_accuracy: (test=0.505) f1_weighted: (test=0.489) total time=   3.7s\n",
            "[CV 2/3] END C=0.5, gamma=0.05, kernel=linear; balanced_accuracy: (test=0.516) f1_weighted: (test=0.495) total time=   3.8s\n",
            "[CV 3/3] END C=0.5, gamma=0.05, kernel=linear; balanced_accuracy: (test=0.511) f1_weighted: (test=0.494) total time=   3.8s\n",
            "[CV 1/3] END C=0.5, gamma=0.05, kernel=poly; balanced_accuracy: (test=0.637) f1_weighted: (test=0.617) total time=   2.7s\n",
            "[CV 2/3] END C=0.5, gamma=0.05, kernel=poly; balanced_accuracy: (test=0.629) f1_weighted: (test=0.608) total time=   2.7s\n",
            "[CV 3/3] END C=0.5, gamma=0.05, kernel=poly; balanced_accuracy: (test=0.629) f1_weighted: (test=0.610) total time=   2.7s\n",
            "[CV 1/3] END C=0.5, gamma=0.05, kernel=rbf; balanced_accuracy: (test=0.656) f1_weighted: (test=0.630) total time=   5.0s\n",
            "[CV 2/3] END C=0.5, gamma=0.05, kernel=rbf; balanced_accuracy: (test=0.647) f1_weighted: (test=0.621) total time=   5.0s\n",
            "[CV 3/3] END C=0.5, gamma=0.05, kernel=rbf; balanced_accuracy: (test=0.647) f1_weighted: (test=0.621) total time=   5.0s\n",
            "[CV 1/3] END C=0.5, gamma=0.05, kernel=sigmoid; balanced_accuracy: (test=0.177) f1_weighted: (test=0.183) total time=   5.0s\n",
            "[CV 2/3] END C=0.5, gamma=0.05, kernel=sigmoid; balanced_accuracy: (test=0.184) f1_weighted: (test=0.193) total time=   5.0s\n",
            "[CV 3/3] END C=0.5, gamma=0.05, kernel=sigmoid; balanced_accuracy: (test=0.170) f1_weighted: (test=0.180) total time=   5.0s\n",
            "[CV 1/3] END C=0.6, gamma=scale, kernel=linear; balanced_accuracy: (test=0.505) f1_weighted: (test=0.490) total time=   4.0s\n",
            "[CV 2/3] END C=0.6, gamma=scale, kernel=linear; balanced_accuracy: (test=0.518) f1_weighted: (test=0.496) total time=   3.9s\n",
            "[CV 3/3] END C=0.6, gamma=scale, kernel=linear; balanced_accuracy: (test=0.509) f1_weighted: (test=0.493) total time=   4.0s\n",
            "[CV 1/3] END C=0.6, gamma=scale, kernel=poly; balanced_accuracy: (test=0.559) f1_weighted: (test=0.549) total time=   3.0s\n",
            "[CV 2/3] END C=0.6, gamma=scale, kernel=poly; balanced_accuracy: (test=0.564) f1_weighted: (test=0.552) total time=   2.9s\n",
            "[CV 3/3] END C=0.6, gamma=scale, kernel=poly; balanced_accuracy: (test=0.560) f1_weighted: (test=0.551) total time=   2.9s\n",
            "[CV 1/3] END C=0.6, gamma=scale, kernel=rbf; balanced_accuracy: (test=0.641) f1_weighted: (test=0.619) total time=   4.6s\n",
            "[CV 2/3] END C=0.6, gamma=scale, kernel=rbf; balanced_accuracy: (test=0.639) f1_weighted: (test=0.612) total time=   4.6s\n",
            "[CV 3/3] END C=0.6, gamma=scale, kernel=rbf; balanced_accuracy: (test=0.634) f1_weighted: (test=0.610) total time=   4.6s\n",
            "[CV 1/3] END C=0.6, gamma=scale, kernel=sigmoid; balanced_accuracy: (test=0.185) f1_weighted: (test=0.193) total time=   4.5s\n",
            "[CV 2/3] END C=0.6, gamma=scale, kernel=sigmoid; balanced_accuracy: (test=0.192) f1_weighted: (test=0.204) total time=   4.5s\n",
            "[CV 3/3] END C=0.6, gamma=scale, kernel=sigmoid; balanced_accuracy: (test=0.183) f1_weighted: (test=0.195) total time=   4.5s\n",
            "[CV 1/3] END C=0.6, gamma=auto, kernel=linear; balanced_accuracy: (test=0.505) f1_weighted: (test=0.490) total time=   4.1s\n",
            "[CV 2/3] END C=0.6, gamma=auto, kernel=linear; balanced_accuracy: (test=0.518) f1_weighted: (test=0.496) total time=   4.0s\n",
            "[CV 3/3] END C=0.6, gamma=auto, kernel=linear; balanced_accuracy: (test=0.509) f1_weighted: (test=0.493) total time=   4.1s\n",
            "[CV 1/3] END C=0.6, gamma=auto, kernel=poly; balanced_accuracy: (test=0.558) f1_weighted: (test=0.548) total time=   3.0s\n",
            "[CV 2/3] END C=0.6, gamma=auto, kernel=poly; balanced_accuracy: (test=0.565) f1_weighted: (test=0.553) total time=   3.0s\n",
            "[CV 3/3] END C=0.6, gamma=auto, kernel=poly; balanced_accuracy: (test=0.559) f1_weighted: (test=0.550) total time=   2.9s\n",
            "[CV 1/3] END C=0.6, gamma=auto, kernel=rbf; balanced_accuracy: (test=0.641) f1_weighted: (test=0.618) total time=   4.7s\n",
            "[CV 2/3] END C=0.6, gamma=auto, kernel=rbf; balanced_accuracy: (test=0.639) f1_weighted: (test=0.612) total time=   4.6s\n",
            "[CV 3/3] END C=0.6, gamma=auto, kernel=rbf; balanced_accuracy: (test=0.634) f1_weighted: (test=0.610) total time=   4.7s\n",
            "[CV 1/3] END C=0.6, gamma=auto, kernel=sigmoid; balanced_accuracy: (test=0.192) f1_weighted: (test=0.200) total time=   4.5s\n",
            "[CV 2/3] END C=0.6, gamma=auto, kernel=sigmoid; balanced_accuracy: (test=0.192) f1_weighted: (test=0.204) total time=   4.5s\n",
            "[CV 3/3] END C=0.6, gamma=auto, kernel=sigmoid; balanced_accuracy: (test=0.183) f1_weighted: (test=0.196) total time=   4.5s\n",
            "[CV 1/3] END C=0.6, gamma=0.1, kernel=linear; balanced_accuracy: (test=0.505) f1_weighted: (test=0.490) total time=   4.0s\n",
            "[CV 2/3] END C=0.6, gamma=0.1, kernel=linear; balanced_accuracy: (test=0.518) f1_weighted: (test=0.496) total time=   4.0s\n",
            "[CV 3/3] END C=0.6, gamma=0.1, kernel=linear; balanced_accuracy: (test=0.509) f1_weighted: (test=0.493) total time=   4.0s\n",
            "[CV 1/3] END C=0.6, gamma=0.1, kernel=poly; balanced_accuracy: (test=0.653) f1_weighted: (test=0.625) total time=   2.9s\n",
            "[CV 2/3] END C=0.6, gamma=0.1, kernel=poly; balanced_accuracy: (test=0.638) f1_weighted: (test=0.614) total time=   2.9s\n",
            "[CV 3/3] END C=0.6, gamma=0.1, kernel=poly; balanced_accuracy: (test=0.648) f1_weighted: (test=0.622) total time=   2.9s\n",
            "[CV 1/3] END C=0.6, gamma=0.1, kernel=rbf; balanced_accuracy: (test=0.660) f1_weighted: (test=0.639) total time=   6.0s\n",
            "[CV 2/3] END C=0.6, gamma=0.1, kernel=rbf; balanced_accuracy: (test=0.647) f1_weighted: (test=0.626) total time=   6.1s\n",
            "[CV 3/3] END C=0.6, gamma=0.1, kernel=rbf; balanced_accuracy: (test=0.651) f1_weighted: (test=0.629) total time=   6.0s\n",
            "[CV 1/3] END C=0.6, gamma=0.1, kernel=sigmoid; balanced_accuracy: (test=0.156) f1_weighted: (test=0.162) total time=   7.3s\n",
            "[CV 2/3] END C=0.6, gamma=0.1, kernel=sigmoid; balanced_accuracy: (test=0.162) f1_weighted: (test=0.167) total time=   5.6s\n",
            "[CV 3/3] END C=0.6, gamma=0.1, kernel=sigmoid; balanced_accuracy: (test=0.151) f1_weighted: (test=0.154) total time=   5.6s\n",
            "[CV 1/3] END C=0.6, gamma=0.05, kernel=linear; balanced_accuracy: (test=0.505) f1_weighted: (test=0.490) total time=   4.0s\n",
            "[CV 2/3] END C=0.6, gamma=0.05, kernel=linear; balanced_accuracy: (test=0.518) f1_weighted: (test=0.496) total time=   4.0s\n",
            "[CV 3/3] END C=0.6, gamma=0.05, kernel=linear; balanced_accuracy: (test=0.509) f1_weighted: (test=0.493) total time=   4.0s\n",
            "[CV 1/3] END C=0.6, gamma=0.05, kernel=poly; balanced_accuracy: (test=0.645) f1_weighted: (test=0.622) total time=   2.7s\n",
            "[CV 2/3] END C=0.6, gamma=0.05, kernel=poly; balanced_accuracy: (test=0.634) f1_weighted: (test=0.613) total time=   2.7s\n",
            "[CV 3/3] END C=0.6, gamma=0.05, kernel=poly; balanced_accuracy: (test=0.633) f1_weighted: (test=0.612) total time=   2.7s\n",
            "[CV 1/3] END C=0.6, gamma=0.05, kernel=rbf; balanced_accuracy: (test=0.661) f1_weighted: (test=0.636) total time=   5.0s\n",
            "[CV 2/3] END C=0.6, gamma=0.05, kernel=rbf; balanced_accuracy: (test=0.652) f1_weighted: (test=0.627) total time=   5.0s\n",
            "[CV 3/3] END C=0.6, gamma=0.05, kernel=rbf; balanced_accuracy: (test=0.654) f1_weighted: (test=0.628) total time=   5.0s\n",
            "[CV 1/3] END C=0.6, gamma=0.05, kernel=sigmoid; balanced_accuracy: (test=0.176) f1_weighted: (test=0.182) total time=   5.0s\n",
            "[CV 2/3] END C=0.6, gamma=0.05, kernel=sigmoid; balanced_accuracy: (test=0.184) f1_weighted: (test=0.193) total time=   5.0s\n",
            "[CV 3/3] END C=0.6, gamma=0.05, kernel=sigmoid; balanced_accuracy: (test=0.172) f1_weighted: (test=0.181) total time=   4.9s\n",
            "[CV 1/3] END C=0.7, gamma=scale, kernel=linear; balanced_accuracy: (test=0.504) f1_weighted: (test=0.489) total time=   4.2s\n",
            "[CV 2/3] END C=0.7, gamma=scale, kernel=linear; balanced_accuracy: (test=0.519) f1_weighted: (test=0.497) total time=   4.1s\n",
            "[CV 3/3] END C=0.7, gamma=scale, kernel=linear; balanced_accuracy: (test=0.511) f1_weighted: (test=0.493) total time=   4.2s\n",
            "[CV 1/3] END C=0.7, gamma=scale, kernel=poly; balanced_accuracy: (test=0.563) f1_weighted: (test=0.553) total time=   2.9s\n",
            "[CV 2/3] END C=0.7, gamma=scale, kernel=poly; balanced_accuracy: (test=0.570) f1_weighted: (test=0.556) total time=   2.9s\n",
            "[CV 3/3] END C=0.7, gamma=scale, kernel=poly; balanced_accuracy: (test=0.566) f1_weighted: (test=0.557) total time=   2.9s\n",
            "[CV 1/3] END C=0.7, gamma=scale, kernel=rbf; balanced_accuracy: (test=0.645) f1_weighted: (test=0.621) total time=   4.6s\n",
            "[CV 2/3] END C=0.7, gamma=scale, kernel=rbf; balanced_accuracy: (test=0.643) f1_weighted: (test=0.615) total time=   4.6s\n",
            "[CV 3/3] END C=0.7, gamma=scale, kernel=rbf; balanced_accuracy: (test=0.643) f1_weighted: (test=0.619) total time=   4.6s\n",
            "[CV 1/3] END C=0.7, gamma=scale, kernel=sigmoid; balanced_accuracy: (test=0.187) f1_weighted: (test=0.196) total time=   4.5s\n",
            "[CV 2/3] END C=0.7, gamma=scale, kernel=sigmoid; balanced_accuracy: (test=0.192) f1_weighted: (test=0.205) total time=   4.5s\n",
            "[CV 3/3] END C=0.7, gamma=scale, kernel=sigmoid; balanced_accuracy: (test=0.183) f1_weighted: (test=0.195) total time=   4.4s\n",
            "[CV 1/3] END C=0.7, gamma=auto, kernel=linear; balanced_accuracy: (test=0.504) f1_weighted: (test=0.489) total time=   4.2s\n",
            "[CV 2/3] END C=0.7, gamma=auto, kernel=linear; balanced_accuracy: (test=0.519) f1_weighted: (test=0.497) total time=   4.2s\n",
            "[CV 3/3] END C=0.7, gamma=auto, kernel=linear; balanced_accuracy: (test=0.511) f1_weighted: (test=0.493) total time=   4.2s\n",
            "[CV 1/3] END C=0.7, gamma=auto, kernel=poly; balanced_accuracy: (test=0.562) f1_weighted: (test=0.552) total time=   2.9s\n",
            "[CV 2/3] END C=0.7, gamma=auto, kernel=poly; balanced_accuracy: (test=0.570) f1_weighted: (test=0.556) total time=   2.9s\n",
            "[CV 3/3] END C=0.7, gamma=auto, kernel=poly; balanced_accuracy: (test=0.565) f1_weighted: (test=0.556) total time=   2.9s\n",
            "[CV 1/3] END C=0.7, gamma=auto, kernel=rbf; balanced_accuracy: (test=0.644) f1_weighted: (test=0.620) total time=   4.7s\n",
            "[CV 2/3] END C=0.7, gamma=auto, kernel=rbf; balanced_accuracy: (test=0.643) f1_weighted: (test=0.616) total time=   4.6s\n",
            "[CV 3/3] END C=0.7, gamma=auto, kernel=rbf; balanced_accuracy: (test=0.642) f1_weighted: (test=0.619) total time=   4.7s\n",
            "[CV 1/3] END C=0.7, gamma=auto, kernel=sigmoid; balanced_accuracy: (test=0.188) f1_weighted: (test=0.196) total time=   4.5s\n",
            "[CV 2/3] END C=0.7, gamma=auto, kernel=sigmoid; balanced_accuracy: (test=0.192) f1_weighted: (test=0.205) total time=   4.5s\n",
            "[CV 3/3] END C=0.7, gamma=auto, kernel=sigmoid; balanced_accuracy: (test=0.183) f1_weighted: (test=0.196) total time=   4.5s\n",
            "[CV 1/3] END C=0.7, gamma=0.1, kernel=linear; balanced_accuracy: (test=0.504) f1_weighted: (test=0.489) total time=   4.2s\n",
            "[CV 2/3] END C=0.7, gamma=0.1, kernel=linear; balanced_accuracy: (test=0.519) f1_weighted: (test=0.497) total time=   4.2s\n",
            "[CV 3/3] END C=0.7, gamma=0.1, kernel=linear; balanced_accuracy: (test=0.511) f1_weighted: (test=0.493) total time=   4.3s\n",
            "[CV 1/3] END C=0.7, gamma=0.1, kernel=poly; balanced_accuracy: (test=0.651) f1_weighted: (test=0.624) total time=   2.9s\n",
            "[CV 2/3] END C=0.7, gamma=0.1, kernel=poly; balanced_accuracy: (test=0.635) f1_weighted: (test=0.611) total time=   2.9s\n",
            "[CV 3/3] END C=0.7, gamma=0.1, kernel=poly; balanced_accuracy: (test=0.652) f1_weighted: (test=0.624) total time=   2.9s\n",
            "[CV 1/3] END C=0.7, gamma=0.1, kernel=rbf; balanced_accuracy: (test=0.667) f1_weighted: (test=0.647) total time=   6.0s\n",
            "[CV 2/3] END C=0.7, gamma=0.1, kernel=rbf; balanced_accuracy: (test=0.650) f1_weighted: (test=0.629) total time=   6.0s\n",
            "[CV 3/3] END C=0.7, gamma=0.1, kernel=rbf; balanced_accuracy: (test=0.656) f1_weighted: (test=0.635) total time=   6.0s\n",
            "[CV 1/3] END C=0.7, gamma=0.1, kernel=sigmoid; balanced_accuracy: (test=0.157) f1_weighted: (test=0.162) total time=   5.6s\n",
            "[CV 2/3] END C=0.7, gamma=0.1, kernel=sigmoid; balanced_accuracy: (test=0.161) f1_weighted: (test=0.166) total time=   5.6s\n",
            "[CV 3/3] END C=0.7, gamma=0.1, kernel=sigmoid; balanced_accuracy: (test=0.152) f1_weighted: (test=0.155) total time=   5.6s\n",
            "[CV 1/3] END C=0.7, gamma=0.05, kernel=linear; balanced_accuracy: (test=0.504) f1_weighted: (test=0.489) total time=   4.2s\n",
            "[CV 2/3] END C=0.7, gamma=0.05, kernel=linear; balanced_accuracy: (test=0.519) f1_weighted: (test=0.497) total time=   4.2s\n",
            "[CV 3/3] END C=0.7, gamma=0.05, kernel=linear; balanced_accuracy: (test=0.511) f1_weighted: (test=0.493) total time=   4.3s\n",
            "[CV 1/3] END C=0.7, gamma=0.05, kernel=poly; balanced_accuracy: (test=0.651) f1_weighted: (test=0.629) total time=   2.8s\n",
            "[CV 2/3] END C=0.7, gamma=0.05, kernel=poly; balanced_accuracy: (test=0.640) f1_weighted: (test=0.617) total time=   2.7s\n",
            "[CV 3/3] END C=0.7, gamma=0.05, kernel=poly; balanced_accuracy: (test=0.636) f1_weighted: (test=0.613) total time=   2.7s\n",
            "[CV 1/3] END C=0.7, gamma=0.05, kernel=rbf; balanced_accuracy: (test=0.665) f1_weighted: (test=0.640) total time=   5.0s\n",
            "[CV 2/3] END C=0.7, gamma=0.05, kernel=rbf; balanced_accuracy: (test=0.656) f1_weighted: (test=0.631) total time=   5.0s\n",
            "[CV 3/3] END C=0.7, gamma=0.05, kernel=rbf; balanced_accuracy: (test=0.658) f1_weighted: (test=0.631) total time=   5.0s\n",
            "[CV 1/3] END C=0.7, gamma=0.05, kernel=sigmoid; balanced_accuracy: (test=0.175) f1_weighted: (test=0.181) total time=   5.0s\n",
            "[CV 2/3] END C=0.7, gamma=0.05, kernel=sigmoid; balanced_accuracy: (test=0.183) f1_weighted: (test=0.191) total time=   5.0s\n",
            "[CV 3/3] END C=0.7, gamma=0.05, kernel=sigmoid; balanced_accuracy: (test=0.172) f1_weighted: (test=0.181) total time=   5.0s\n",
            "[CV 1/3] END C=0.8, gamma=scale, kernel=linear; balanced_accuracy: (test=0.504) f1_weighted: (test=0.490) total time=   4.5s\n",
            "[CV 2/3] END C=0.8, gamma=scale, kernel=linear; balanced_accuracy: (test=0.517) f1_weighted: (test=0.495) total time=   4.4s\n",
            "[CV 3/3] END C=0.8, gamma=scale, kernel=linear; balanced_accuracy: (test=0.511) f1_weighted: (test=0.494) total time=   4.7s\n",
            "[CV 1/3] END C=0.8, gamma=scale, kernel=poly; balanced_accuracy: (test=0.568) f1_weighted: (test=0.557) total time=   2.9s\n",
            "[CV 2/3] END C=0.8, gamma=scale, kernel=poly; balanced_accuracy: (test=0.576) f1_weighted: (test=0.562) total time=   2.9s\n",
            "[CV 3/3] END C=0.8, gamma=scale, kernel=poly; balanced_accuracy: (test=0.572) f1_weighted: (test=0.562) total time=   2.9s\n",
            "[CV 1/3] END C=0.8, gamma=scale, kernel=rbf; balanced_accuracy: (test=0.648) f1_weighted: (test=0.624) total time=   4.5s\n",
            "[CV 2/3] END C=0.8, gamma=scale, kernel=rbf; balanced_accuracy: (test=0.648) f1_weighted: (test=0.623) total time=   4.6s\n",
            "[CV 3/3] END C=0.8, gamma=scale, kernel=rbf; balanced_accuracy: (test=0.647) f1_weighted: (test=0.622) total time=   4.5s\n",
            "[CV 1/3] END C=0.8, gamma=scale, kernel=sigmoid; balanced_accuracy: (test=0.188) f1_weighted: (test=0.195) total time=   5.1s\n",
            "[CV 2/3] END C=0.8, gamma=scale, kernel=sigmoid; balanced_accuracy: (test=0.193) f1_weighted: (test=0.206) total time=   5.6s\n",
            "[CV 3/3] END C=0.8, gamma=scale, kernel=sigmoid; balanced_accuracy: (test=0.181) f1_weighted: (test=0.194) total time=   4.4s\n",
            "[CV 1/3] END C=0.8, gamma=auto, kernel=linear; balanced_accuracy: (test=0.504) f1_weighted: (test=0.490) total time=   4.5s\n",
            "[CV 2/3] END C=0.8, gamma=auto, kernel=linear; balanced_accuracy: (test=0.517) f1_weighted: (test=0.495) total time=   4.4s\n",
            "[CV 3/3] END C=0.8, gamma=auto, kernel=linear; balanced_accuracy: (test=0.511) f1_weighted: (test=0.494) total time=   4.5s\n",
            "[CV 1/3] END C=0.8, gamma=auto, kernel=poly; balanced_accuracy: (test=0.567) f1_weighted: (test=0.556) total time=   2.9s\n",
            "[CV 2/3] END C=0.8, gamma=auto, kernel=poly; balanced_accuracy: (test=0.576) f1_weighted: (test=0.562) total time=   2.9s\n",
            "[CV 3/3] END C=0.8, gamma=auto, kernel=poly; balanced_accuracy: (test=0.571) f1_weighted: (test=0.561) total time=   3.0s\n",
            "[CV 1/3] END C=0.8, gamma=auto, kernel=rbf; balanced_accuracy: (test=0.648) f1_weighted: (test=0.624) total time=   4.6s\n",
            "[CV 2/3] END C=0.8, gamma=auto, kernel=rbf; balanced_accuracy: (test=0.648) f1_weighted: (test=0.623) total time=   4.6s\n",
            "[CV 3/3] END C=0.8, gamma=auto, kernel=rbf; balanced_accuracy: (test=0.647) f1_weighted: (test=0.622) total time=   4.6s\n",
            "[CV 1/3] END C=0.8, gamma=auto, kernel=sigmoid; balanced_accuracy: (test=0.187) f1_weighted: (test=0.194) total time=   4.5s\n",
            "[CV 2/3] END C=0.8, gamma=auto, kernel=sigmoid; balanced_accuracy: (test=0.193) f1_weighted: (test=0.206) total time=   4.5s\n",
            "[CV 3/3] END C=0.8, gamma=auto, kernel=sigmoid; balanced_accuracy: (test=0.181) f1_weighted: (test=0.194) total time=   4.5s\n",
            "[CV 1/3] END C=0.8, gamma=0.1, kernel=linear; balanced_accuracy: (test=0.504) f1_weighted: (test=0.490) total time=   4.5s\n",
            "[CV 2/3] END C=0.8, gamma=0.1, kernel=linear; balanced_accuracy: (test=0.517) f1_weighted: (test=0.495) total time=   4.4s\n",
            "[CV 3/3] END C=0.8, gamma=0.1, kernel=linear; balanced_accuracy: (test=0.511) f1_weighted: (test=0.494) total time=   4.5s\n",
            "[CV 1/3] END C=0.8, gamma=0.1, kernel=poly; balanced_accuracy: (test=0.655) f1_weighted: (test=0.626) total time=   3.0s\n",
            "[CV 2/3] END C=0.8, gamma=0.1, kernel=poly; balanced_accuracy: (test=0.634) f1_weighted: (test=0.609) total time=   3.1s\n",
            "[CV 3/3] END C=0.8, gamma=0.1, kernel=poly; balanced_accuracy: (test=0.650) f1_weighted: (test=0.621) total time=   3.0s\n",
            "[CV 1/3] END C=0.8, gamma=0.1, kernel=rbf; balanced_accuracy: (test=0.670) f1_weighted: (test=0.650) total time=   6.0s\n",
            "[CV 2/3] END C=0.8, gamma=0.1, kernel=rbf; balanced_accuracy: (test=0.657) f1_weighted: (test=0.637) total time=   6.1s\n",
            "[CV 3/3] END C=0.8, gamma=0.1, kernel=rbf; balanced_accuracy: (test=0.662) f1_weighted: (test=0.641) total time=   6.0s\n",
            "[CV 1/3] END C=0.8, gamma=0.1, kernel=sigmoid; balanced_accuracy: (test=0.157) f1_weighted: (test=0.163) total time=   5.5s\n",
            "[CV 2/3] END C=0.8, gamma=0.1, kernel=sigmoid; balanced_accuracy: (test=0.161) f1_weighted: (test=0.165) total time=   5.6s\n",
            "[CV 3/3] END C=0.8, gamma=0.1, kernel=sigmoid; balanced_accuracy: (test=0.152) f1_weighted: (test=0.156) total time=   5.5s\n",
            "[CV 1/3] END C=0.8, gamma=0.05, kernel=linear; balanced_accuracy: (test=0.504) f1_weighted: (test=0.490) total time=   4.5s\n",
            "[CV 2/3] END C=0.8, gamma=0.05, kernel=linear; balanced_accuracy: (test=0.517) f1_weighted: (test=0.495) total time=   4.4s\n",
            "[CV 3/3] END C=0.8, gamma=0.05, kernel=linear; balanced_accuracy: (test=0.511) f1_weighted: (test=0.494) total time=   4.5s\n",
            "[CV 1/3] END C=0.8, gamma=0.05, kernel=poly; balanced_accuracy: (test=0.654) f1_weighted: (test=0.631) total time=   2.8s\n",
            "[CV 2/3] END C=0.8, gamma=0.05, kernel=poly; balanced_accuracy: (test=0.644) f1_weighted: (test=0.621) total time=   2.8s\n",
            "[CV 3/3] END C=0.8, gamma=0.05, kernel=poly; balanced_accuracy: (test=0.636) f1_weighted: (test=0.612) total time=   2.8s\n",
            "[CV 1/3] END C=0.8, gamma=0.05, kernel=rbf; balanced_accuracy: (test=0.669) f1_weighted: (test=0.645) total time=   5.0s\n",
            "[CV 2/3] END C=0.8, gamma=0.05, kernel=rbf; balanced_accuracy: (test=0.660) f1_weighted: (test=0.634) total time=   4.9s\n",
            "[CV 3/3] END C=0.8, gamma=0.05, kernel=rbf; balanced_accuracy: (test=0.662) f1_weighted: (test=0.635) total time=   5.0s\n",
            "[CV 1/3] END C=0.8, gamma=0.05, kernel=sigmoid; balanced_accuracy: (test=0.175) f1_weighted: (test=0.181) total time=   5.0s\n",
            "[CV 2/3] END C=0.8, gamma=0.05, kernel=sigmoid; balanced_accuracy: (test=0.183) f1_weighted: (test=0.192) total time=   5.0s\n",
            "[CV 3/3] END C=0.8, gamma=0.05, kernel=sigmoid; balanced_accuracy: (test=0.172) f1_weighted: (test=0.181) total time=   5.0s\n",
            "[CV 1/3] END C=0.9, gamma=scale, kernel=linear; balanced_accuracy: (test=0.504) f1_weighted: (test=0.490) total time=   4.7s\n",
            "[CV 2/3] END C=0.9, gamma=scale, kernel=linear; balanced_accuracy: (test=0.517) f1_weighted: (test=0.494) total time=   4.6s\n",
            "[CV 3/3] END C=0.9, gamma=scale, kernel=linear; balanced_accuracy: (test=0.514) f1_weighted: (test=0.496) total time=   4.6s\n",
            "[CV 1/3] END C=0.9, gamma=scale, kernel=poly; balanced_accuracy: (test=0.572) f1_weighted: (test=0.561) total time=   2.9s\n",
            "[CV 2/3] END C=0.9, gamma=scale, kernel=poly; balanced_accuracy: (test=0.578) f1_weighted: (test=0.565) total time=   2.9s\n",
            "[CV 3/3] END C=0.9, gamma=scale, kernel=poly; balanced_accuracy: (test=0.577) f1_weighted: (test=0.567) total time=   2.9s\n",
            "[CV 1/3] END C=0.9, gamma=scale, kernel=rbf; balanced_accuracy: (test=0.653) f1_weighted: (test=0.628) total time=   4.5s\n",
            "[CV 2/3] END C=0.9, gamma=scale, kernel=rbf; balanced_accuracy: (test=0.652) f1_weighted: (test=0.627) total time=   4.6s\n",
            "[CV 3/3] END C=0.9, gamma=scale, kernel=rbf; balanced_accuracy: (test=0.648) f1_weighted: (test=0.624) total time=   4.5s\n",
            "[CV 1/3] END C=0.9, gamma=scale, kernel=sigmoid; balanced_accuracy: (test=0.188) f1_weighted: (test=0.196) total time=   4.5s\n",
            "[CV 2/3] END C=0.9, gamma=scale, kernel=sigmoid; balanced_accuracy: (test=0.192) f1_weighted: (test=0.204) total time=   4.4s\n",
            "[CV 3/3] END C=0.9, gamma=scale, kernel=sigmoid; balanced_accuracy: (test=0.180) f1_weighted: (test=0.193) total time=   4.4s\n",
            "[CV 1/3] END C=0.9, gamma=auto, kernel=linear; balanced_accuracy: (test=0.504) f1_weighted: (test=0.490) total time=   4.7s\n",
            "[CV 2/3] END C=0.9, gamma=auto, kernel=linear; balanced_accuracy: (test=0.517) f1_weighted: (test=0.494) total time=   4.6s\n",
            "[CV 3/3] END C=0.9, gamma=auto, kernel=linear; balanced_accuracy: (test=0.514) f1_weighted: (test=0.496) total time=   4.7s\n",
            "[CV 1/3] END C=0.9, gamma=auto, kernel=poly; balanced_accuracy: (test=0.572) f1_weighted: (test=0.560) total time=   2.9s\n",
            "[CV 2/3] END C=0.9, gamma=auto, kernel=poly; balanced_accuracy: (test=0.579) f1_weighted: (test=0.566) total time=   2.9s\n",
            "[CV 3/3] END C=0.9, gamma=auto, kernel=poly; balanced_accuracy: (test=0.577) f1_weighted: (test=0.567) total time=   2.9s\n",
            "[CV 1/3] END C=0.9, gamma=auto, kernel=rbf; balanced_accuracy: (test=0.652) f1_weighted: (test=0.628) total time=   4.6s\n",
            "[CV 2/3] END C=0.9, gamma=auto, kernel=rbf; balanced_accuracy: (test=0.652) f1_weighted: (test=0.627) total time=   4.6s\n",
            "[CV 3/3] END C=0.9, gamma=auto, kernel=rbf; balanced_accuracy: (test=0.649) f1_weighted: (test=0.624) total time=   4.5s\n",
            "[CV 1/3] END C=0.9, gamma=auto, kernel=sigmoid; balanced_accuracy: (test=0.187) f1_weighted: (test=0.195) total time=   4.5s\n",
            "[CV 2/3] END C=0.9, gamma=auto, kernel=sigmoid; balanced_accuracy: (test=0.191) f1_weighted: (test=0.203) total time=   4.4s\n",
            "[CV 3/3] END C=0.9, gamma=auto, kernel=sigmoid; balanced_accuracy: (test=0.181) f1_weighted: (test=0.193) total time=   4.4s\n",
            "[CV 1/3] END C=0.9, gamma=0.1, kernel=linear; balanced_accuracy: (test=0.504) f1_weighted: (test=0.490) total time=   4.6s\n",
            "[CV 2/3] END C=0.9, gamma=0.1, kernel=linear; balanced_accuracy: (test=0.517) f1_weighted: (test=0.494) total time=   4.6s\n",
            "[CV 3/3] END C=0.9, gamma=0.1, kernel=linear; balanced_accuracy: (test=0.514) f1_weighted: (test=0.496) total time=   4.7s\n",
            "[CV 1/3] END C=0.9, gamma=0.1, kernel=poly; balanced_accuracy: (test=0.652) f1_weighted: (test=0.624) total time=   3.0s\n",
            "[CV 2/3] END C=0.9, gamma=0.1, kernel=poly; balanced_accuracy: (test=0.634) f1_weighted: (test=0.609) total time=   3.0s\n",
            "[CV 3/3] END C=0.9, gamma=0.1, kernel=poly; balanced_accuracy: (test=0.647) f1_weighted: (test=0.619) total time=   3.1s\n",
            "[CV 1/3] END C=0.9, gamma=0.1, kernel=rbf; balanced_accuracy: (test=0.674) f1_weighted: (test=0.655) total time=   6.1s\n",
            "[CV 2/3] END C=0.9, gamma=0.1, kernel=rbf; balanced_accuracy: (test=0.662) f1_weighted: (test=0.642) total time=   6.1s\n",
            "[CV 3/3] END C=0.9, gamma=0.1, kernel=rbf; balanced_accuracy: (test=0.663) f1_weighted: (test=0.642) total time=   6.0s\n",
            "[CV 1/3] END C=0.9, gamma=0.1, kernel=sigmoid; balanced_accuracy: (test=0.156) f1_weighted: (test=0.162) total time=   7.4s\n",
            "[CV 2/3] END C=0.9, gamma=0.1, kernel=sigmoid; balanced_accuracy: (test=0.160) f1_weighted: (test=0.165) total time=   5.6s\n",
            "[CV 3/3] END C=0.9, gamma=0.1, kernel=sigmoid; balanced_accuracy: (test=0.152) f1_weighted: (test=0.156) total time=   5.6s\n",
            "[CV 1/3] END C=0.9, gamma=0.05, kernel=linear; balanced_accuracy: (test=0.504) f1_weighted: (test=0.490) total time=   4.7s\n",
            "[CV 2/3] END C=0.9, gamma=0.05, kernel=linear; balanced_accuracy: (test=0.517) f1_weighted: (test=0.494) total time=   4.6s\n",
            "[CV 3/3] END C=0.9, gamma=0.05, kernel=linear; balanced_accuracy: (test=0.514) f1_weighted: (test=0.496) total time=   4.7s\n",
            "[CV 1/3] END C=0.9, gamma=0.05, kernel=poly; balanced_accuracy: (test=0.655) f1_weighted: (test=0.632) total time=   2.8s\n",
            "[CV 2/3] END C=0.9, gamma=0.05, kernel=poly; balanced_accuracy: (test=0.646) f1_weighted: (test=0.624) total time=   2.8s\n",
            "[CV 3/3] END C=0.9, gamma=0.05, kernel=poly; balanced_accuracy: (test=0.639) f1_weighted: (test=0.615) total time=   2.8s\n",
            "[CV 1/3] END C=0.9, gamma=0.05, kernel=rbf; balanced_accuracy: (test=0.672) f1_weighted: (test=0.648) total time=   4.9s\n",
            "[CV 2/3] END C=0.9, gamma=0.05, kernel=rbf; balanced_accuracy: (test=0.663) f1_weighted: (test=0.638) total time=   5.0s\n",
            "[CV 3/3] END C=0.9, gamma=0.05, kernel=rbf; balanced_accuracy: (test=0.662) f1_weighted: (test=0.636) total time=   5.0s\n",
            "[CV 1/3] END C=0.9, gamma=0.05, kernel=sigmoid; balanced_accuracy: (test=0.175) f1_weighted: (test=0.180) total time=   5.0s\n",
            "[CV 2/3] END C=0.9, gamma=0.05, kernel=sigmoid; balanced_accuracy: (test=0.183) f1_weighted: (test=0.191) total time=   5.0s\n",
            "[CV 3/3] END C=0.9, gamma=0.05, kernel=sigmoid; balanced_accuracy: (test=0.172) f1_weighted: (test=0.181) total time=   5.0s\n",
            "[CV 1/3] END C=1.0, gamma=scale, kernel=linear; balanced_accuracy: (test=0.506) f1_weighted: (test=0.491) total time=   5.0s\n",
            "[CV 2/3] END C=1.0, gamma=scale, kernel=linear; balanced_accuracy: (test=0.517) f1_weighted: (test=0.495) total time=   4.8s\n",
            "[CV 3/3] END C=1.0, gamma=scale, kernel=linear; balanced_accuracy: (test=0.513) f1_weighted: (test=0.496) total time=   4.9s\n",
            "[CV 1/3] END C=1.0, gamma=scale, kernel=poly; balanced_accuracy: (test=0.576) f1_weighted: (test=0.565) total time=   2.9s\n",
            "[CV 2/3] END C=1.0, gamma=scale, kernel=poly; balanced_accuracy: (test=0.579) f1_weighted: (test=0.566) total time=   2.9s\n",
            "[CV 3/3] END C=1.0, gamma=scale, kernel=poly; balanced_accuracy: (test=0.578) f1_weighted: (test=0.568) total time=   2.9s\n",
            "[CV 1/3] END C=1.0, gamma=scale, kernel=rbf; balanced_accuracy: (test=0.654) f1_weighted: (test=0.631) total time=   4.5s\n",
            "[CV 2/3] END C=1.0, gamma=scale, kernel=rbf; balanced_accuracy: (test=0.654) f1_weighted: (test=0.629) total time=   4.5s\n",
            "[CV 3/3] END C=1.0, gamma=scale, kernel=rbf; balanced_accuracy: (test=0.651) f1_weighted: (test=0.627) total time=   4.5s\n",
            "[CV 1/3] END C=1.0, gamma=scale, kernel=sigmoid; balanced_accuracy: (test=0.186) f1_weighted: (test=0.194) total time=   4.5s\n",
            "[CV 2/3] END C=1.0, gamma=scale, kernel=sigmoid; balanced_accuracy: (test=0.191) f1_weighted: (test=0.203) total time=   4.4s\n",
            "[CV 3/3] END C=1.0, gamma=scale, kernel=sigmoid; balanced_accuracy: (test=0.179) f1_weighted: (test=0.191) total time=   4.4s\n",
            "[CV 1/3] END C=1.0, gamma=auto, kernel=linear; balanced_accuracy: (test=0.506) f1_weighted: (test=0.491) total time=   4.9s\n",
            "[CV 2/3] END C=1.0, gamma=auto, kernel=linear; balanced_accuracy: (test=0.517) f1_weighted: (test=0.495) total time=   4.8s\n",
            "[CV 3/3] END C=1.0, gamma=auto, kernel=linear; balanced_accuracy: (test=0.513) f1_weighted: (test=0.496) total time=   4.8s\n",
            "[CV 1/3] END C=1.0, gamma=auto, kernel=poly; balanced_accuracy: (test=0.577) f1_weighted: (test=0.566) total time=   2.9s\n",
            "[CV 2/3] END C=1.0, gamma=auto, kernel=poly; balanced_accuracy: (test=0.581) f1_weighted: (test=0.567) total time=   2.9s\n",
            "[CV 3/3] END C=1.0, gamma=auto, kernel=poly; balanced_accuracy: (test=0.578) f1_weighted: (test=0.568) total time=   2.9s\n",
            "[CV 1/3] END C=1.0, gamma=auto, kernel=rbf; balanced_accuracy: (test=0.654) f1_weighted: (test=0.631) total time=   4.5s\n",
            "[CV 2/3] END C=1.0, gamma=auto, kernel=rbf; balanced_accuracy: (test=0.654) f1_weighted: (test=0.629) total time=   4.5s\n",
            "[CV 3/3] END C=1.0, gamma=auto, kernel=rbf; balanced_accuracy: (test=0.651) f1_weighted: (test=0.627) total time=   4.5s\n",
            "[CV 1/3] END C=1.0, gamma=auto, kernel=sigmoid; balanced_accuracy: (test=0.187) f1_weighted: (test=0.195) total time=   4.4s\n",
            "[CV 2/3] END C=1.0, gamma=auto, kernel=sigmoid; balanced_accuracy: (test=0.191) f1_weighted: (test=0.203) total time=   4.5s\n",
            "[CV 3/3] END C=1.0, gamma=auto, kernel=sigmoid; balanced_accuracy: (test=0.180) f1_weighted: (test=0.191) total time=   4.3s\n",
            "[CV 1/3] END C=1.0, gamma=0.1, kernel=linear; balanced_accuracy: (test=0.506) f1_weighted: (test=0.491) total time=   4.9s\n",
            "[CV 2/3] END C=1.0, gamma=0.1, kernel=linear; balanced_accuracy: (test=0.517) f1_weighted: (test=0.495) total time=   4.8s\n",
            "[CV 3/3] END C=1.0, gamma=0.1, kernel=linear; balanced_accuracy: (test=0.513) f1_weighted: (test=0.496) total time=   4.9s\n",
            "[CV 1/3] END C=1.0, gamma=0.1, kernel=poly; balanced_accuracy: (test=0.652) f1_weighted: (test=0.624) total time=   3.1s\n",
            "[CV 2/3] END C=1.0, gamma=0.1, kernel=poly; balanced_accuracy: (test=0.631) f1_weighted: (test=0.607) total time=   3.1s\n",
            "[CV 3/3] END C=1.0, gamma=0.1, kernel=poly; balanced_accuracy: (test=0.644) f1_weighted: (test=0.617) total time=   3.1s\n",
            "[CV 1/3] END C=1.0, gamma=0.1, kernel=rbf; balanced_accuracy: (test=0.678) f1_weighted: (test=0.657) total time=   6.0s\n",
            "[CV 2/3] END C=1.0, gamma=0.1, kernel=rbf; balanced_accuracy: (test=0.667) f1_weighted: (test=0.646) total time=   6.1s\n",
            "[CV 3/3] END C=1.0, gamma=0.1, kernel=rbf; balanced_accuracy: (test=0.666) f1_weighted: (test=0.645) total time=   6.1s\n",
            "[CV 1/3] END C=1.0, gamma=0.1, kernel=sigmoid; balanced_accuracy: (test=0.156) f1_weighted: (test=0.162) total time=   5.5s\n",
            "[CV 2/3] END C=1.0, gamma=0.1, kernel=sigmoid; balanced_accuracy: (test=0.160) f1_weighted: (test=0.164) total time=   5.6s\n",
            "[CV 3/3] END C=1.0, gamma=0.1, kernel=sigmoid; balanced_accuracy: (test=0.152) f1_weighted: (test=0.156) total time=   5.6s\n",
            "[CV 1/3] END C=1.0, gamma=0.05, kernel=linear; balanced_accuracy: (test=0.506) f1_weighted: (test=0.491) total time=   4.9s\n",
            "[CV 2/3] END C=1.0, gamma=0.05, kernel=linear; balanced_accuracy: (test=0.517) f1_weighted: (test=0.495) total time=   4.7s\n",
            "[CV 3/3] END C=1.0, gamma=0.05, kernel=linear; balanced_accuracy: (test=0.513) f1_weighted: (test=0.496) total time=   4.8s\n",
            "[CV 1/3] END C=1.0, gamma=0.05, kernel=poly; balanced_accuracy: (test=0.652) f1_weighted: (test=0.630) total time=   2.7s\n",
            "[CV 2/3] END C=1.0, gamma=0.05, kernel=poly; balanced_accuracy: (test=0.643) f1_weighted: (test=0.621) total time=   2.8s\n",
            "[CV 3/3] END C=1.0, gamma=0.05, kernel=poly; balanced_accuracy: (test=0.640) f1_weighted: (test=0.615) total time=   2.8s\n",
            "[CV 1/3] END C=1.0, gamma=0.05, kernel=rbf; balanced_accuracy: (test=0.670) f1_weighted: (test=0.647) total time=   4.9s\n",
            "[CV 2/3] END C=1.0, gamma=0.05, kernel=rbf; balanced_accuracy: (test=0.664) f1_weighted: (test=0.639) total time=   5.0s\n",
            "[CV 3/3] END C=1.0, gamma=0.05, kernel=rbf; balanced_accuracy: (test=0.664) f1_weighted: (test=0.638) total time=   4.9s\n",
            "[CV 1/3] END C=1.0, gamma=0.05, kernel=sigmoid; balanced_accuracy: (test=0.174) f1_weighted: (test=0.179) total time=   5.0s\n",
            "[CV 2/3] END C=1.0, gamma=0.05, kernel=sigmoid; balanced_accuracy: (test=0.182) f1_weighted: (test=0.190) total time=   5.0s\n",
            "[CV 3/3] END C=1.0, gamma=0.05, kernel=sigmoid; balanced_accuracy: (test=0.171) f1_weighted: (test=0.181) total time=   4.9s\n"
          ]
        },
        {
          "data": {
            "text/plain": [
              "GridSearchCV(cv=3, estimator=SVC(gamma='auto'),\n",
              "             param_grid={'C': [0.1, 0.2, 0.3, 0.4, 0.5, 0.6, 0.7, 0.8, 0.9,\n",
              "                               1.0],\n",
              "                         'gamma': ['scale', 'auto', 0.1, 0.05],\n",
              "                         'kernel': ['linear', 'poly', 'rbf', 'sigmoid']},\n",
              "             refit='balanced_accuracy',\n",
              "             scoring=['balanced_accuracy', 'f1_weighted'], verbose=4)"
            ]
          },
          "execution_count": 46,
          "metadata": {},
          "output_type": "execute_result"
        }
      ],
      "source": [
        "grid.fit(X_train, y_train)"
      ]
    },
    {
      "cell_type": "code",
      "execution_count": null,
      "metadata": {
        "colab": {
          "base_uri": "https://localhost:8080/"
        },
        "id": "fYXhl4p6nUI4",
        "outputId": "5fec7d55-e9b4-4684-8924-7a34e1678bf3"
      },
      "outputs": [
        {
          "name": "stdout",
          "output_type": "stream",
          "text": [
            "Los parametros del mejor modelo: {'C': 1.0, 'gamma': 0.1, 'kernel': 'rbf'}\n"
          ]
        }
      ],
      "source": [
        "print(f'Los parametros del mejor modelo: {grid.best_params_}')"
      ]
    },
    {
      "cell_type": "code",
      "execution_count": null,
      "metadata": {
        "id": "DdUgNI-OneVD"
      },
      "outputs": [],
      "source": [
        "y_pred_test = grid.predict(X_test)"
      ]
    },
    {
      "cell_type": "code",
      "execution_count": null,
      "metadata": {
        "colab": {
          "base_uri": "https://localhost:8080/",
          "height": 743
        },
        "id": "N8FCeIqbn2w-",
        "outputId": "8677b200-e588-45f8-aa05-1c9829fae6c2"
      },
      "outputs": [
        {
          "name": "stdout",
          "output_type": "stream",
          "text": [
            "0.6661466458658346\n",
            "              precision    recall  f1-score   support\n",
            "\n",
            "           0       0.74      0.78      0.76       216\n",
            "           1       0.59      0.53      0.56       190\n",
            "           2       0.65      0.57      0.61       192\n",
            "           3       0.73      0.62      0.67       224\n",
            "           4       0.58      0.66      0.62       171\n",
            "           5       0.61      0.73      0.67       223\n",
            "           6       0.90      0.92      0.91        66\n",
            "\n",
            "    accuracy                           0.67      1282\n",
            "   macro avg       0.69      0.69      0.69      1282\n",
            "weighted avg       0.67      0.67      0.66      1282\n",
            "\n"
          ]
        },
        {
          "data": {
            "image/png": "[encoded data removed]",
            "text/plain": [
              "<Figure size 720x576 with 2 Axes>"
            ]
          },
          "metadata": {
            "needs_background": "light"
          },
          "output_type": "display_data"
        }
      ],
      "source": [
        "print(accuracy_score(y_true=y_test,y_pred=y_pred_test))\n",
        "print(classification_report(y_test,y_pred_test)) \n",
        "matrizr = confusion_matrix(y_test,y_pred_test)\n",
        "plt.figure(figsize=(10,8))\n",
        "sns.heatmap(matrizr, annot=True, fmt=\"d\");"
      ]
    }
  ],
  "metadata": {
    "accelerator": "GPU",
    "colab": {
      "provenance": []
    },
    "gpuClass": "standard",
    "kernelspec": {
      "display_name": "Python 3.10.5 64-bit",
      "language": "python",
      "name": "python3"
    },
    "language_info": {
      "name": "python",
      "version": "3.10.5"
    },
    "vscode": {
      "interpreter": {
        "hash": "c63d8c7d738c2960218a10995aedf0a7f67a49a231e71037adf0440953cdb45b"
      }
    }
  },
  "nbformat": 4,
  "nbformat_minor": 0
}
