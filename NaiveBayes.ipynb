{
 "cells": [
  {
   "cell_type": "code",
   "execution_count": 78,
   "metadata": {},
   "outputs": [],
   "source": [
    "import librosa\n",
    "import os\n",
    "import numpy as np\n",
    "import pandas as pd\n",
    "import matplotlib.pyplot as plt\n",
    "import seaborn as sns\n",
    "import pickle\n",
    "\n",
    "from sklearn.model_selection import train_test_split, GridSearchCV\n",
    "from sklearn.metrics import classification_report, confusion_matrix, make_scorer, f1_score, accuracy_score\n",
    "from sklearn.naive_bayes import MultinomialNB, GaussianNB, BernoulliNB\n",
    "from sklearn.preprocessing import MinMaxScaler, LabelEncoder"
   ]
  },
  {
   "cell_type": "code",
   "execution_count": 2,
   "metadata": {},
   "outputs": [],
   "source": [
    "DATASET = './DataSets/Emotions'"
   ]
  },
  {
   "cell_type": "code",
   "execution_count": 5,
   "metadata": {},
   "outputs": [],
   "source": [
    "def remove_silence(signal, threshold=0.005):\n",
    "    \"\"\"\n",
    "    Remove silence at the beginning and at the end of the signal\n",
    "    \"\"\"\n",
    "    i = j = 0\n",
    "    for i in range(len(signal)):\n",
    "        if np.abs(signal[i]) > threshold:\n",
    "            break\n",
    "    for j in range(len(signal)-1, 0, -1):\n",
    "        if np.abs(signal[j]) > threshold:\n",
    "            break\n",
    "    return signal[i:j]"
   ]
  },
  {
   "cell_type": "code",
   "execution_count": 107,
   "metadata": {},
   "outputs": [],
   "source": [
    "paths=[]\n",
    "names=[]\n",
    "\n",
    "for dirname, _, filenames in os.walk(DATASET):\n",
    "    for filename in filenames:\n",
    "        paths.append(os.path.join(dirname, filename))\n",
    "        name = dirname[::].split('/')[2].split('\\\\')[1]\n",
    "        names.append(name.lower())"
   ]
  },
  {
   "cell_type": "code",
   "execution_count": 108,
   "metadata": {},
   "outputs": [
    {
     "data": {
      "text/html": [
       "<div>\n",
       "<style scoped>\n",
       "    .dataframe tbody tr th:only-of-type {\n",
       "        vertical-align: middle;\n",
       "    }\n",
       "\n",
       "    .dataframe tbody tr th {\n",
       "        vertical-align: top;\n",
       "    }\n",
       "\n",
       "    .dataframe thead th {\n",
       "        text-align: right;\n",
       "    }\n",
       "</style>\n",
       "<table border=\"1\" class=\"dataframe\">\n",
       "  <thead>\n",
       "    <tr style=\"text-align: right;\">\n",
       "      <th></th>\n",
       "      <th>speech</th>\n",
       "      <th>name</th>\n",
       "    </tr>\n",
       "  </thead>\n",
       "  <tbody>\n",
       "    <tr>\n",
       "      <th>5573</th>\n",
       "      <td>./DataSets/Emotions\\Fearful\\1084_IWW_FEA_XX.wav</td>\n",
       "      <td>fearful</td>\n",
       "    </tr>\n",
       "    <tr>\n",
       "      <th>11371</th>\n",
       "      <td>./DataSets/Emotions\\Sad\\1069_IWL_SAD_XX.wav</td>\n",
       "      <td>sad</td>\n",
       "    </tr>\n",
       "    <tr>\n",
       "      <th>6651</th>\n",
       "      <td>./DataSets/Emotions\\Happy\\1015_IOM_HAP_XX.wav</td>\n",
       "      <td>happy</td>\n",
       "    </tr>\n",
       "    <tr>\n",
       "      <th>403</th>\n",
       "      <td>./DataSets/Emotions\\Angry\\1002_WSI_ANG_XX.wav</td>\n",
       "      <td>angry</td>\n",
       "    </tr>\n",
       "    <tr>\n",
       "      <th>11916</th>\n",
       "      <td>./DataSets/Emotions\\Sad\\OAF_rose_sad.wav</td>\n",
       "      <td>sad</td>\n",
       "    </tr>\n",
       "  </tbody>\n",
       "</table>\n",
       "</div>"
      ],
      "text/plain": [
       "                                                speech     name\n",
       "5573   ./DataSets/Emotions\\Fearful\\1084_IWW_FEA_XX.wav  fearful\n",
       "11371      ./DataSets/Emotions\\Sad\\1069_IWL_SAD_XX.wav      sad\n",
       "6651     ./DataSets/Emotions\\Happy\\1015_IOM_HAP_XX.wav    happy\n",
       "403      ./DataSets/Emotions\\Angry\\1002_WSI_ANG_XX.wav    angry\n",
       "11916         ./DataSets/Emotions\\Sad\\OAF_rose_sad.wav      sad"
      ]
     },
     "execution_count": 108,
     "metadata": {},
     "output_type": "execute_result"
    }
   ],
   "source": [
    "data = pd.DataFrame({'speech':paths, 'name':names})\n",
    "data.sample(5)"
   ]
  },
  {
   "cell_type": "code",
   "execution_count": 112,
   "metadata": {},
   "outputs": [],
   "source": [
    "# Labelencoder para convertir las clases a etiquetas númericas\n",
    "label_encoder = LabelEncoder()\n",
    "\n",
    "# Encode labels in column 'label'.\n",
    "data['label'] = label_encoder.fit_transform(data['name'])"
   ]
  },
  {
   "cell_type": "code",
   "execution_count": 115,
   "metadata": {},
   "outputs": [
    {
     "data": {
      "text/plain": [
       "label  name     \n",
       "0      angry        2167\n",
       "3      happy        2167\n",
       "5      sad          2167\n",
       "2      fearful      2047\n",
       "1      disgusted    1863\n",
       "4      neutral      1795\n",
       "6      suprised      592\n",
       "dtype: int64"
      ]
     },
     "execution_count": 115,
     "metadata": {},
     "output_type": "execute_result"
    }
   ],
   "source": [
    "data[['label', 'name']].value_counts()"
   ]
  },
  {
   "cell_type": "code",
   "execution_count": 30,
   "metadata": {},
   "outputs": [],
   "source": [
    "# Coeficientes Septrales - Transformación del audio en una serie de parametros que representan de forma compacta el sonido\n",
    "def MFCC(filename):\n",
    "    y, sr = librosa.load(filename, res_type='kaiser_fast')\n",
    "    y = remove_silence(y)\n",
    "    if len(y) == 0:\n",
    "        return np.zeros(130)\n",
    "    values = librosa.feature.mfcc(y=y, sr=sr, n_mfcc=65).T\n",
    "    mean = np.mean(values, axis=0)\n",
    "    std = np.std(values, axis=0)\n",
    "    mfccs = np.concatenate((mean, std), axis=0)\n",
    "    return mfccs"
   ]
  },
  {
   "cell_type": "code",
   "execution_count": 32,
   "metadata": {},
   "outputs": [],
   "source": [
    "data['mfcc'] = data['speech'].apply(lambda x: MFCC(x))"
   ]
  },
  {
   "cell_type": "code",
   "execution_count": 65,
   "metadata": {},
   "outputs": [],
   "source": [
    "np.save('Datasets/naive_mfcc.npy', data['mfcc'].to_list())\n",
    "np.save('Datasets/naive_label.npy', data['label'])"
   ]
  },
  {
   "cell_type": "markdown",
   "metadata": {},
   "source": [
    "## Naive Bayes"
   ]
  },
  {
   "cell_type": "code",
   "execution_count": 66,
   "metadata": {},
   "outputs": [],
   "source": [
    "X = np.load('./DataSets/naive_mfcc.npy', allow_pickle=True)\n",
    "y = np.load('./DataSets/naive_label.npy', allow_pickle=True)"
   ]
  },
  {
   "cell_type": "code",
   "execution_count": 93,
   "metadata": {},
   "outputs": [],
   "source": [
    "X_train, X_test, y_train, y_test = train_test_split(X, y, test_size=0.1, random_state=42)"
   ]
  },
  {
   "cell_type": "code",
   "execution_count": 94,
   "metadata": {},
   "outputs": [],
   "source": [
    "#Estandarizar\n",
    "normalizer = MinMaxScaler()\n",
    "X_train = normalizer.fit_transform(X_train)\n",
    "X_test = normalizer.transform(X_test)"
   ]
  },
  {
   "cell_type": "code",
   "execution_count": 95,
   "metadata": {},
   "outputs": [
    {
     "name": "stdout",
     "output_type": "stream",
     "text": [
      "best score:       0.3254042131036812\n",
      "best params:      {'alpha': 0.0, 'fit_prior': True}\n"
     ]
    },
    {
     "name": "stderr",
     "output_type": "stream",
     "text": [
      "c:\\Users\\Usuario\\AppData\\Local\\Programs\\Python\\Python310\\lib\\site-packages\\sklearn\\naive_bayes.py:591: UserWarning: alpha too small will result in numeric errors, setting alpha = 1.0e-10\n",
      "  warnings.warn(\n"
     ]
    }
   ],
   "source": [
    "# hiperparametros para evaluar el modelo\n",
    "grid = {\n",
    "    'alpha': np.linspace(0, 1, 101),\n",
    "    'fit_prior': [True, False],\n",
    "}\n",
    "\n",
    "f1_custom = make_scorer(f1_score, average='micro')\n",
    "\n",
    "# modelo para encontrar los mejores hiperparametros\n",
    "grid_search = GridSearchCV(MultinomialNB(), grid, n_jobs=-1, scoring=f1_custom, cv=5)\n",
    "grid_search.fit(X_train, y_train)\n",
    "logistic_params = grid_search.best_params_\n",
    "\n",
    "# se muestran los mejores hiperparametros y score obtenidos\n",
    "print(\"best score:      \", grid_search.best_score_)\n",
    "print(\"best params:     \", grid_search.best_params_)"
   ]
  },
  {
   "cell_type": "code",
   "execution_count": 96,
   "metadata": {},
   "outputs": [
    {
     "name": "stdout",
     "output_type": "stream",
     "text": [
      "best score:       0.3059564894220099\n",
      "best params:      {'var_smoothing': 6.579332246575683e-05}\n"
     ]
    }
   ],
   "source": [
    "grid = {\n",
    "    'var_smoothing': np.logspace(0,-9, num=100)\n",
    "}\n",
    "\n",
    "f1_custom = make_scorer(f1_score, average='micro')\n",
    "\n",
    "# modelo para encontrar los mejores hiperparametros\n",
    "grid_search = GridSearchCV(GaussianNB(), grid, n_jobs=-1, scoring=f1_custom, cv=5)\n",
    "grid_search.fit(X_train, y_train)\n",
    "logistic_params = grid_search.best_params_\n",
    "\n",
    "# se muestran los mejores hiperparametros y score obtenidos\n",
    "print(\"best score:      \", grid_search.best_score_)\n",
    "print(\"best params:     \", grid_search.best_params_)"
   ]
  },
  {
   "cell_type": "code",
   "execution_count": 97,
   "metadata": {},
   "outputs": [
    {
     "name": "stdout",
     "output_type": "stream",
     "text": [
      "best score:       0.36013227764510064\n",
      "best params:      {'alpha': 0.0, 'binarize': 0.7000000000000001, 'fit_prior': True}\n"
     ]
    },
    {
     "name": "stderr",
     "output_type": "stream",
     "text": [
      "c:\\Users\\Usuario\\AppData\\Local\\Programs\\Python\\Python310\\lib\\site-packages\\sklearn\\naive_bayes.py:591: UserWarning: alpha too small will result in numeric errors, setting alpha = 1.0e-10\n",
      "  warnings.warn(\n"
     ]
    }
   ],
   "source": [
    "grid = {\n",
    "    'alpha': np.linspace(0, 1, 11),\n",
    "    'fit_prior': [True, False],\n",
    "    'binarize': np.linspace(0, 1, 11)\n",
    "}\n",
    "\n",
    "f1_custom = make_scorer(f1_score, average='micro')\n",
    "\n",
    "# modelo para encontrar los mejores hiperparametros\n",
    "grid_search = GridSearchCV(BernoulliNB(), grid, n_jobs=-1, scoring=f1_custom, cv=5)\n",
    "grid_search.fit(X_train, y_train)\n",
    "logistic_params = grid_search.best_params_\n",
    "\n",
    "# se muestran los mejores hiperparametros y score obtenidos\n",
    "print(\"best score:      \", grid_search.best_score_)\n",
    "print(\"best params:     \", grid_search.best_params_)"
   ]
  },
  {
   "cell_type": "code",
   "execution_count": 98,
   "metadata": {},
   "outputs": [],
   "source": [
    "#Predecir sobre el train y sobre el test\n",
    "y_pred_train = grid_search.predict(X_train)\n",
    "y_pred_test = grid_search.predict(X_test)"
   ]
  },
  {
   "cell_type": "code",
   "execution_count": 99,
   "metadata": {},
   "outputs": [
    {
     "name": "stdout",
     "output_type": "stream",
     "text": [
      "Accuracy en el conjunto de train: 0.36837992707067196\n",
      "Accuracy en el conjunto de test: 0.3546875\n"
     ]
    }
   ],
   "source": [
    "accuracy_train = accuracy_score(y_train, y_pred_train)\n",
    "accuracy_test = accuracy_score(y_test, y_pred_test)\n",
    "\n",
    "print(f'Accuracy en el conjunto de train: {accuracy_train}')\n",
    "print(f'Accuracy en el conjunto de test: {accuracy_test}')"
   ]
  },
  {
   "cell_type": "code",
   "execution_count": 103,
   "metadata": {},
   "outputs": [
    {
     "data": {
      "image/png": "[encoded data removed]",
      "text/plain": [
       "<Figure size 432x288 with 2 Axes>"
      ]
     },
     "metadata": {
      "needs_background": "light"
     },
     "output_type": "display_data"
    }
   ],
   "source": [
    "cm2_test = confusion_matrix(y_test, y_pred_test)\n",
    "\n",
    "#Graficar la matriz de confusión.\n",
    "sns.heatmap(cm2_test, annot=True, fmt='d', cmap='Blues')\n",
    "plt.title('Confusion matrix')\n",
    "plt.ylabel('True label')\n",
    "plt.xlabel('Predicted label')\n",
    "plt.show()"
   ]
  },
  {
   "cell_type": "code",
   "execution_count": 104,
   "metadata": {},
   "outputs": [
    {
     "name": "stdout",
     "output_type": "stream",
     "text": [
      "              precision    recall  f1-score   support\n",
      "\n",
      "           0       0.51      0.36      0.42       221\n",
      "           1       0.23      0.60      0.33       188\n",
      "           2       0.72      0.20      0.32       216\n",
      "           3       0.32      0.27      0.29       222\n",
      "           4       0.67      0.34      0.45       175\n",
      "           5       0.45      0.27      0.34       213\n",
      "           6       0.24      0.89      0.38        45\n",
      "\n",
      "    accuracy                           0.35      1280\n",
      "   macro avg       0.45      0.42      0.36      1280\n",
      "weighted avg       0.48      0.35      0.36      1280\n",
      "\n"
     ]
    }
   ],
   "source": [
    "report_test2 = classification_report(y_test ,y_pred_test.round())  \n",
    "print(report_test2)"
   ]
  },
  {
   "cell_type": "code",
   "execution_count": 109,
   "metadata": {},
   "outputs": [],
   "source": [
    "pickle.dump(grid_search, open('Models/NaiveBayes.model','wb'))"
   ]
  }
 ],
 "metadata": {
  "kernelspec": {
   "display_name": "Python 3.10.5 64-bit",
   "language": "python",
   "name": "python3"
  },
  "language_info": {
   "codemirror_mode": {
    "name": "ipython",
    "version": 3
   },
   "file_extension": ".py",
   "mimetype": "text/x-python",
   "name": "python",
   "nbconvert_exporter": "python",
   "pygments_lexer": "ipython3",
   "version": "3.10.5"
  },
  "orig_nbformat": 4,
  "vscode": {
   "interpreter": {
    "hash": "c63d8c7d738c2960218a10995aedf0a7f67a49a231e71037adf0440953cdb45b"
   }
  }
 },
 "nbformat": 4,
 "nbformat_minor": 2
}
